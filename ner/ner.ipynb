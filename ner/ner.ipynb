{
 "cells": [
  {
   "cell_type": "markdown",
   "metadata": {
    "id": "zQL1IghNp-lc",
    "tags": []
   },
   "source": [
    "# NLP Information Extraction: Named Entity Recognition"
   ]
  },
  {
   "cell_type": "code",
   "execution_count": 5,
   "metadata": {
    "id": "nJHmGIg6aA6e"
   },
   "outputs": [],
   "source": [
    "from tqdm import tqdm, trange\n",
    "from pprint import pprint\n",
    "import pandas as pd\n",
    "import numpy as np\n",
    "import json\n",
    "import re\n",
    "import random\n",
    "import torch\n",
    "from datasets import load_from_disk"
   ]
  },
  {
   "cell_type": "markdown",
   "metadata": {
    "id": "tac5HFAdqmzi"
   },
   "source": [
    "## Load data"
   ]
  },
  {
   "cell_type": "code",
   "execution_count": 3,
   "metadata": {},
   "outputs": [],
   "source": [
    "raw_dataset = load_from_disk(\"../data/raw\")\n",
    "test = pd.read_json(f'../data/test.json')"
   ]
  },
  {
   "cell_type": "code",
   "execution_count": 7,
   "metadata": {
    "id": "5Ug_dK2laYNi"
   },
   "outputs": [],
   "source": [
    "with open(f'../data/train.json', 'rb') as f:\n",
    "    train = json.load(f)"
   ]
  },
  {
   "cell_type": "code",
   "execution_count": 15,
   "metadata": {},
   "outputs": [],
   "source": [
    "with open(f'../data/test.json', 'rb') as f:\n",
    "    test = json.load(f)"
   ]
  },
  {
   "cell_type": "code",
   "execution_count": 5,
   "metadata": {
    "id": "D10uT3uF2jBG"
   },
   "outputs": [],
   "source": [
    "LABELS = {\n",
    "    'обеспечение исполнения контракта': {\n",
    "        'short': 'CE',\n",
    "        'full': 'CONTRACT-ENFORCEMENT',\n",
    "        'id': 1,\n",
    "        'emb': [],\n",
    "        'emb_tuned': [],\n",
    "        'regex_pattern': r'',\n",
    "    },\n",
    "    'обеспечение гарантийных обязательств': {\n",
    "        'short': 'WO',\n",
    "        'full': 'WARRANTY-OBLIGRATIONS',\n",
    "        'id': 2,\n",
    "        'emb': [],\n",
    "        'emb_tuned': [],\n",
    "        'regex_pattern': r'',\n",
    "    },\n",
    "}\n",
    "LABELS_INV = {\n",
    "    'CE': 'обеспечение исполнения контракта',\n",
    "    'WO': 'обеспечение гарантийных обязательств',\n",
    "}\n"
   ]
  },
  {
   "cell_type": "code",
   "execution_count": 8,
   "metadata": {},
   "outputs": [
    {
     "data": {
      "text/html": [
       "<div>\n",
       "<style scoped>\n",
       "    .dataframe tbody tr th:only-of-type {\n",
       "        vertical-align: middle;\n",
       "    }\n",
       "\n",
       "    .dataframe tbody tr th {\n",
       "        vertical-align: top;\n",
       "    }\n",
       "\n",
       "    .dataframe thead th {\n",
       "        text-align: right;\n",
       "    }\n",
       "</style>\n",
       "<table border=\"1\" class=\"dataframe\">\n",
       "  <thead>\n",
       "    <tr style=\"text-align: right;\">\n",
       "      <th></th>\n",
       "      <th>text</th>\n",
       "      <th>annotation</th>\n",
       "    </tr>\n",
       "  </thead>\n",
       "  <tbody>\n",
       "    <tr>\n",
       "      <th>0</th>\n",
       "      <td>Извещение о проведении открытого конкурса в эл...</td>\n",
       "      <td>(1279, 1343, обеспечение исполнения контракта)</td>\n",
       "    </tr>\n",
       "    <tr>\n",
       "      <th>1</th>\n",
       "      <td>ТРЕБОВАНИЯ К СОДЕРЖАНИЮ ЗАЯВКИ участника запро...</td>\n",
       "      <td>(1222, 1318, обеспечение исполнения контракта)</td>\n",
       "    </tr>\n",
       "    <tr>\n",
       "      <th>2</th>\n",
       "      <td>Извещение о проведении электронного аукциона д...</td>\n",
       "      <td>(1297, 1343, обеспечение исполнения контракта)</td>\n",
       "    </tr>\n",
       "    <tr>\n",
       "      <th>3</th>\n",
       "      <td>Извещение о проведении электронного аукциона д...</td>\n",
       "      <td>(1304, 1350, обеспечение исполнения контракта)</td>\n",
       "    </tr>\n",
       "    <tr>\n",
       "      <th>4</th>\n",
       "      <td>Извещение о проведении электронного аукциона д...</td>\n",
       "      <td>(1302, 1348, обеспечение исполнения контракта)</td>\n",
       "    </tr>\n",
       "  </tbody>\n",
       "</table>\n",
       "</div>"
      ],
      "text/plain": [
       "                                                text   \n",
       "0  Извещение о проведении открытого конкурса в эл...  \\\n",
       "1  ТРЕБОВАНИЯ К СОДЕРЖАНИЮ ЗАЯВКИ участника запро...   \n",
       "2  Извещение о проведении электронного аукциона д...   \n",
       "3  Извещение о проведении электронного аукциона д...   \n",
       "4  Извещение о проведении электронного аукциона д...   \n",
       "\n",
       "                                       annotation  \n",
       "0  (1279, 1343, обеспечение исполнения контракта)  \n",
       "1  (1222, 1318, обеспечение исполнения контракта)  \n",
       "2  (1297, 1343, обеспечение исполнения контракта)  \n",
       "3  (1304, 1350, обеспечение исполнения контракта)  \n",
       "4  (1302, 1348, обеспечение исполнения контракта)  "
      ]
     },
     "execution_count": 8,
     "metadata": {},
     "output_type": "execute_result"
    }
   ],
   "source": [
    "train_data = []\n",
    "for d in train:\n",
    "    ext_d = d['extracted_part']\n",
    "    ann = (ext_d['answer_start'][0], ext_d['answer_end'][0], d['label'])\n",
    "    train_data.append((d['text'], ann))\n",
    "train_data = pd.DataFrame(train_data, columns=['text', 'annotation'])\n",
    "train_data.head()"
   ]
  },
  {
   "cell_type": "code",
   "execution_count": 9,
   "metadata": {
    "colab": {
     "base_uri": "https://localhost:8080/",
     "height": 244
    },
    "id": "9iSJyKmfDaYD",
    "outputId": "62074337-d01a-4601-b924-2b221df92000"
   },
   "outputs": [
    {
     "ename": "KeyError",
     "evalue": "'extracted_part'",
     "output_type": "error",
     "traceback": [
      "\u001b[0;31m---------------------------------------------------------------------------\u001b[0m",
      "\u001b[0;31mKeyError\u001b[0m                                  Traceback (most recent call last)",
      "Cell \u001b[0;32mIn[9], line 3\u001b[0m\n\u001b[1;32m      1\u001b[0m test_data \u001b[38;5;241m=\u001b[39m []\n\u001b[1;32m      2\u001b[0m \u001b[38;5;28;01mfor\u001b[39;00m d \u001b[38;5;129;01min\u001b[39;00m test:\n\u001b[0;32m----> 3\u001b[0m     ext_d \u001b[38;5;241m=\u001b[39m \u001b[43md\u001b[49m\u001b[43m[\u001b[49m\u001b[38;5;124;43m'\u001b[39;49m\u001b[38;5;124;43mextracted_part\u001b[39;49m\u001b[38;5;124;43m'\u001b[39;49m\u001b[43m]\u001b[49m\n\u001b[1;32m      4\u001b[0m     ann \u001b[38;5;241m=\u001b[39m (ext_d[\u001b[38;5;124m'\u001b[39m\u001b[38;5;124manswer_start\u001b[39m\u001b[38;5;124m'\u001b[39m][\u001b[38;5;241m0\u001b[39m], ext_d[\u001b[38;5;124m'\u001b[39m\u001b[38;5;124manswer_end\u001b[39m\u001b[38;5;124m'\u001b[39m][\u001b[38;5;241m0\u001b[39m], d[\u001b[38;5;124m'\u001b[39m\u001b[38;5;124mlabel\u001b[39m\u001b[38;5;124m'\u001b[39m])\n\u001b[1;32m      5\u001b[0m     test_data\u001b[38;5;241m.\u001b[39mappend((d[\u001b[38;5;124m'\u001b[39m\u001b[38;5;124mtext\u001b[39m\u001b[38;5;124m'\u001b[39m], ann))\n",
      "\u001b[0;31mKeyError\u001b[0m: 'extracted_part'"
     ]
    }
   ],
   "source": [
    "test_data = []\n",
    "for d in test:\n",
    "    ext_d = d['extracted_part']\n",
    "    ann = (ext_d['answer_start'][0], ext_d['answer_end'][0], d['label'])\n",
    "    test_data.append((d['text'], ann))\n",
    "test_data = pd.DataFrame(test_data, columns=['text', 'annotation'])\n",
    "test_data.head()"
   ]
  },
  {
   "cell_type": "markdown",
   "metadata": {
    "id": "2HgODMT7oYvk"
   },
   "source": [
    "## SpaCy Preprocessing"
   ]
  },
  {
   "cell_type": "code",
   "execution_count": 10,
   "metadata": {
    "id": "JC9-lUOOgM-h"
   },
   "outputs": [],
   "source": [
    "import spacy\n",
    "from spacy.tokens import DocBin, Span, SpanGroup\n",
    "from spacy.util import filter_spans\n",
    "from sklearn.model_selection import train_test_split\n",
    "from natasha import Segmenter, Doc, NewsEmbedding, MorphVocab, NewsMorphTagger\n",
    "from collections import Counter"
   ]
  },
  {
   "cell_type": "code",
   "execution_count": 11,
   "metadata": {
    "id": "eb3lcZK6mI5D"
   },
   "outputs": [],
   "source": [
    "def prepare_spacy_data(data, filename):\n",
    "  nlp = spacy.blank(\"ru\")\n",
    "  db = DocBin()\n",
    "  for text, (start, end, label) in data.to_numpy():\n",
    "      doc = nlp(text)\n",
    "      if start == 0 and end == 0: # No labeled info in the doc\n",
    "        db.add(doc)\n",
    "        continue\n",
    "      span = doc.char_span(start, end, label=label, alignment_mode=\"contract\")\n",
    "      if span:\n",
    "          doc.ents = [span]\n",
    "      db.add(doc)\n",
    "  db.to_disk(filename)"
   ]
  },
  {
   "cell_type": "code",
   "execution_count": 12,
   "metadata": {
    "id": "-lTCiM22i_S6"
   },
   "outputs": [],
   "source": [
    "# train_data, test_data = train_test_split(data, test_size=0.1, random_state=42)\n",
    "train_data, dev_data = train_test_split(train_data, test_size=0.1, random_state=42)"
   ]
  },
  {
   "cell_type": "code",
   "execution_count": 13,
   "metadata": {
    "id": "A4ISCcs-6F9R"
   },
   "outputs": [],
   "source": [
    "prepare_spacy_data(train_data, './train.spacy')\n",
    "prepare_spacy_data(dev_data, './dev.spacy')"
   ]
  },
  {
   "cell_type": "markdown",
   "metadata": {},
   "source": [
    "### Tok2Vec\n",
    "\n",
    "- built-in in spaCy"
   ]
  },
  {
   "cell_type": "markdown",
   "metadata": {
    "id": "Y4Iy7PNAn8-U",
    "tags": []
   },
   "source": [
    "### Transformers list\n",
    "\n",
    "  - `bert-base-multilingual-uncased`\n",
    "  - `DeepPavlov/rubert-base-cased`\n",
    "  - `ai-forever/rugpt3large_based_on_gpt2`\n",
    "  - `ai-forever/ruBert-large`\n",
    "  - `ai-forever/ruRoberta-large`\n",
    "  - `ai-forever/ruBert-base`\n",
    "  - `ai-forever/rugpt3small_based_on_gpt2`\n",
    "  - `cointegrated/rubert-tiny2`\n",
    "\n",
    "---\n",
    "\n",
    "  - `ai-forever/sbert_large_mt_nlu_ru`\n",
    "  - `ai-forever/sbert_large_nlu_ru`\n",
    "\n",
    "---\n",
    "\n",
    "- `ai-forever/bert-base-NER-reptile-5-dataset`s (NER: не успел попробовать дообучить на свои лейблы)\n",
    "- `Davlan/distilbert-base-multilingual-cased-ner-hrl` (NER: не успел попробовать дообучить на свои лейблы)\n",
    "- `cointegrated/rut5-base-multitask` (не подходящий формат)"
   ]
  },
  {
   "cell_type": "markdown",
   "metadata": {
    "id": "ZxKiU-5hoyYc"
   },
   "source": [
    "### Init"
   ]
  },
  {
   "cell_type": "code",
   "execution_count": 1,
   "metadata": {
    "colab": {
     "base_uri": "https://localhost:8080/"
    },
    "id": "p4bavpwj9hlz",
    "outputId": "22358aad-2e9b-45cf-a80f-35c793d055fd"
   },
   "outputs": [
    {
     "name": "stdout",
     "output_type": "stream",
     "text": [
      "/home/commas/anaconda3/bin/python: No module named spacy\n"
     ]
    }
   ],
   "source": [
    "python -m spacy init fill-config ./base_config_tok2vec.cfg ./config.cfg"
   ]
  },
  {
   "cell_type": "markdown",
   "metadata": {
    "id": "hPjSGliLwhKw",
    "tags": []
   },
   "source": [
    "### Debug"
   ]
  },
  {
   "cell_type": "code",
   "execution_count": null,
   "metadata": {
    "colab": {
     "base_uri": "https://localhost:8080/"
    },
    "id": "YmETzoQFcwn3",
    "outputId": "4db3ebab-5e83-4222-8fd6-631f647d25e8"
   },
   "outputs": [],
   "source": [
    "!python -m spacy debug config ./config.cfg --paths.train ./train.spacy --paths.dev ./dev.spacy"
   ]
  },
  {
   "cell_type": "code",
   "execution_count": null,
   "metadata": {
    "colab": {
     "base_uri": "https://localhost:8080/"
    },
    "id": "7BUS4n5bKxqo",
    "outputId": "7f65ea9d-0ce1-4790-f1a5-35923cb50804"
   },
   "outputs": [],
   "source": [
    "python -m spacy debug data ./config.cfg --verbose --paths.train ./train.spacy --paths.dev ./dev.spacy"
   ]
  },
  {
   "cell_type": "code",
   "execution_count": null,
   "metadata": {
    "id": "7xrBL1NldD35"
   },
   "outputs": [],
   "source": [
    "# !python -m spacy debug model ./config.cfg transformer --gpu-id 0 -PAR -P0 --paths.train ./train.spacy --paths.dev ./dev.spacy"
   ]
  },
  {
   "cell_type": "markdown",
   "metadata": {
    "id": "YQ0cgKa8pEZo"
   },
   "source": [
    "### Train"
   ]
  },
  {
   "cell_type": "code",
   "execution_count": null,
   "metadata": {
    "colab": {
     "base_uri": "https://localhost:8080/"
    },
    "id": "pD_iVeqkbc0I",
    "outputId": "ae7306ee-3e87-4c0a-e9e8-de3b62c88302"
   },
   "outputs": [],
   "source": [
    "python -m spacy train config.cfg --gpu-id -1 --output ./output --paths.train ./train.spacy --paths.dev ./dev.spacy\n",
    "# !zip -r model-best.zip ./output/model-best"
   ]
  },
  {
   "cell_type": "code",
   "execution_count": null,
   "metadata": {
    "colab": {
     "base_uri": "https://localhost:8080/"
    },
    "id": "NB1sqjya90IK",
    "outputId": "762cb3ab-fc0a-4e61-f760-0ad63d4c073f"
   },
   "outputs": [],
   "source": [
    "python -m spacy train config.cfg --gpu-id 0 --output ./output --paths.train ./train.spacy --paths.dev ./dev.spacy\n",
    "# !zip -r model-best.zip ./output/model-best"
   ]
  },
  {
   "cell_type": "code",
   "execution_count": null,
   "metadata": {
    "colab": {
     "base_uri": "https://localhost:8080/"
    },
    "id": "EXIBGmnTyzYF",
    "outputId": "9d0adf2a-de22-47c1-e9b7-6ba5e9958b5d"
   },
   "outputs": [],
   "source": [
    "!python -m spacy train config.cfg --gpu-id 0 --output ./output --paths.train ./train.spacy --paths.dev ./dev.spacy\n",
    "!zip -r model-best.zip ./output/model-best"
   ]
  },
  {
   "cell_type": "markdown",
   "metadata": {
    "id": "kCvdbTlOpgA7"
   },
   "source": [
    "## Evaluation"
   ]
  },
  {
   "cell_type": "markdown",
   "metadata": {
    "id": "ItolyEUYpiQo"
   },
   "source": [
    "### Model load"
   ]
  },
  {
   "cell_type": "code",
   "execution_count": 14,
   "metadata": {
    "id": "4g2RHd55ffnh"
   },
   "outputs": [],
   "source": [
    "nlp = spacy.load(f\"output/model-best\")"
   ]
  },
  {
   "cell_type": "markdown",
   "metadata": {
    "id": "PezbRc9QH-WF"
   },
   "source": [
    "### By hand"
   ]
  },
  {
   "cell_type": "code",
   "execution_count": null,
   "metadata": {
    "colab": {
     "base_uri": "https://localhost:8080/"
    },
    "id": "dXwLA5-agM-i",
    "outputId": "af7c18a5-e2d7-47fe-c455-730a7347285d"
   },
   "outputs": [],
   "source": [
    "sample = test_data[:50]\n",
    "for text, (start, end, label) in sample.to_numpy():\n",
    "    doc = nlp(text)\n",
    "    print('label:', label)\n",
    "    print('answer:', start, end, text[start:end])\n",
    "    if doc.ents:\n",
    "      e = doc.ents[0]\n",
    "      print('model: ', doc[e.start].idx, doc[e.end].idx - 1, e.text)\n",
    "    else:\n",
    "      if start != 0 and end != 0:\n",
    "        print(text)\n",
    "      print('model: 0 0')\n",
    "    print('---')"
   ]
  },
  {
   "cell_type": "markdown",
   "metadata": {},
   "source": [
    "### By function"
   ]
  },
  {
   "cell_type": "code",
   "execution_count": null,
   "metadata": {
    "id": "6a2tcHcg3ogq"
   },
   "outputs": [],
   "source": [
    "def eval_accuracy_with_error_window(data, nlp, windows = [0]):\n",
    "  correct = [0] * len(windows)\n",
    "\n",
    "  for text, (start, end, label) in tqdm(data):\n",
    "    doc = nlp(text)\n",
    "    for w in windows:\n",
    "      if doc.ents:\n",
    "        for ent in doc.ents:\n",
    "          answer_start, answer_end, answer_label = doc[ent.start].idx, doc[ent.end].idx - 1, ent.label_\n",
    "          if LABELS[label]['short'] == answer_label\\\n",
    "              and answer_start in range(start - w, start + w + 1)\\\n",
    "              and answer_end in range(end - w, end + w + 1):\n",
    "            correct[w] += 1\n",
    "    elif (start, end) == (0, 0):\n",
    "      correct[w] += 1\n",
    "\n",
    "  \n",
    "  print(f'\\nAccuracy: {correct[0]}/{len(data)}: {correct[0]/len(data)*100}%\\n')\n",
    "  \n",
    "  return [c/len(data)*100 for c in correct]"
   ]
  },
  {
   "cell_type": "code",
   "execution_count": null,
   "metadata": {
    "id": "0tMhYKb_7C89"
   },
   "outputs": [],
   "source": [
    "import matplotlib.pyplot as plt\n",
    "\n",
    "\n",
    "MAX_WINDOW = 1\n",
    "ws = range(MAX_WINDOW + 1)"
   ]
  },
  {
   "cell_type": "code",
   "execution_count": null,
   "metadata": {
    "colab": {
     "base_uri": "https://localhost:8080/",
     "height": 545
    },
    "id": "7S0SrEoSDplV",
    "outputId": "b95ac09d-013d-4e23-a56a-87c5926e8662"
   },
   "outputs": [],
   "source": [
    "accuracy = eval_accuracy_with_error_window(test_data_with_labels.to_numpy(), nlp, windows=ws)\n",
    "\n",
    "plt.plot(ws, accuracy, **{'color': 'blue', 'marker': 'o'})\n",
    "plt.title(\"Accuracy dependence on the size of the allowable deviation from the fragment index\")\n",
    "plt.xlabel(\"Window size (acceptable deviation from the fragment index)\")\n",
    "plt.ylabel(\"accuracy, %\")\n",
    "plt.show()"
   ]
  },
  {
   "cell_type": "markdown",
   "metadata": {
    "id": "cYCAyEtG1VrF"
   },
   "source": [
    "## `predictions.json`"
   ]
  },
  {
   "cell_type": "code",
   "execution_count": 17,
   "metadata": {
    "colab": {
     "base_uri": "https://localhost:8080/"
    },
    "id": "g8xS47lbADcQ",
    "outputId": "d70cd253-3a9b-47a2-bc7f-eb072084ba4a"
   },
   "outputs": [
    {
     "name": "stderr",
     "output_type": "stream",
     "text": [
      "100%|██████████| 318/318 [00:14<00:00, 21.91it/s]\n"
     ]
    }
   ],
   "source": [
    "for e in tqdm(test):\n",
    "  doc = nlp(e['text'])\n",
    "  e['extracted_part'] = {}\n",
    "  if doc.ents:\n",
    "    for ent in doc.ents:\n",
    "        if e['label'] == ent.label_:\n",
    "          e['extracted_part']['text'] = [ent.text]\n",
    "          e['extracted_part']['answer_start'] = [doc[ent.start].idx]\n",
    "          e['extracted_part']['answer_end'] = [doc[ent.end].idx - 1]\n",
    "        else:\n",
    "          e['extracted_part']['text'] = ['']\n",
    "          e['extracted_part']['answer_start'] = [0]\n",
    "          e['extracted_part']['answer_end'] = [0]\n",
    "  else:\n",
    "    e['extracted_part']['text'] = ['']\n",
    "    e['extracted_part']['answer_start'] = [0]\n",
    "    e['extracted_part']['answer_end'] = [0]\n",
    "\n",
    "with open('predictions_tok2vec.json', 'w', encoding='utf-8') as f:\n",
    "    json.dump(test, f, ensure_ascii=False, indent=4)"
   ]
  },
  {
   "cell_type": "markdown",
   "metadata": {},
   "source": [
    "## Results of NER pipeline"
   ]
  },
  {
   "cell_type": "markdown",
   "metadata": {},
   "source": [
    "### tok2vec\n",
    "- Accuracy: 64.15%\n",
    "### cointegrated/rubert-tiny2\n",
    "- Accuracy: 67.60%\n",
    "### base-base-multilingual-cased (spaCy default)\n",
    "- Accuracy: 73.33%"
   ]
  },
  {
   "cell_type": "code",
   "execution_count": null,
   "metadata": {},
   "outputs": [],
   "source": []
  }
 ],
 "metadata": {
  "colab": {
   "collapsed_sections": [
    "beh9MEnxqsB1",
    "eykHBlvsnR_W",
    "mCNRQEkUCqZr",
    "N5DNI4lnATQf",
    "jciK8OEzXK5D",
    "bOxl9bYKb5YR",
    "lBVveXJrH0wr",
    "ZSzrgJyKtRPq",
    "PgwODLmtl_KY",
    "69yjhfJHq6VU",
    "Qu8M3DkYq8jv",
    "hPjSGliLwhKw",
    "ItolyEUYpiQo",
    "PezbRc9QH-WF",
    "_tqIwAvIcVT5",
    "OZoFPN8lTW5a",
    "fwI2RL-Yl9V5"
   ],
   "provenance": []
  },
  "gpuClass": "standard",
  "kernelspec": {
   "display_name": "ner-vova",
   "language": "python",
   "name": "ner-vova"
  },
  "language_info": {
   "codemirror_mode": {
    "name": "ipython",
    "version": 3
   },
   "file_extension": ".py",
   "mimetype": "text/x-python",
   "name": "python",
   "nbconvert_exporter": "python",
   "pygments_lexer": "ipython3",
   "version": "3.9.16"
  }
 },
 "nbformat": 4,
 "nbformat_minor": 4
}
