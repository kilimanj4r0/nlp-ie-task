{
 "cells": [
  {
   "cell_type": "markdown",
   "metadata": {
    "id": "zQL1IghNp-lc",
    "tags": []
   },
   "source": [
    "# NLP Information Extraction: Preprocessing"
   ]
  },
  {
   "cell_type": "code",
   "execution_count": 2,
   "metadata": {},
   "outputs": [
    {
     "name": "stderr",
     "output_type": "stream",
     "text": [
      "/home/commas/anaconda3/envs/ner-vova/lib/python3.9/site-packages/tqdm/auto.py:21: TqdmWarning: IProgress not found. Please update jupyter and ipywidgets. See https://ipywidgets.readthedocs.io/en/stable/user_install.html\n",
      "  from .autonotebook import tqdm as notebook_tqdm\n"
     ]
    }
   ],
   "source": [
    "import pandas as pd\n",
    "from sklearn.model_selection import train_test_split\n",
    "from datasets import Dataset, DatasetDict\n",
    "from tqdm.auto import tqdm\n",
    "from pprint import pprint\n",
    "import json\n",
    "\n",
    "\n",
    "random_seed = 42"
   ]
  },
  {
   "cell_type": "code",
   "execution_count": 3,
   "metadata": {},
   "outputs": [],
   "source": [
    "data = pd.read_json(f'data/train.json')"
   ]
  },
  {
   "cell_type": "code",
   "execution_count": 4,
   "metadata": {},
   "outputs": [
    {
     "data": {
      "text/html": [
       "<div>\n",
       "<style scoped>\n",
       "    .dataframe tbody tr th:only-of-type {\n",
       "        vertical-align: middle;\n",
       "    }\n",
       "\n",
       "    .dataframe tbody tr th {\n",
       "        vertical-align: top;\n",
       "    }\n",
       "\n",
       "    .dataframe thead th {\n",
       "        text-align: right;\n",
       "    }\n",
       "</style>\n",
       "<table border=\"1\" class=\"dataframe\">\n",
       "  <thead>\n",
       "    <tr style=\"text-align: right;\">\n",
       "      <th></th>\n",
       "      <th>id</th>\n",
       "      <th>text</th>\n",
       "      <th>label</th>\n",
       "      <th>extracted_part</th>\n",
       "    </tr>\n",
       "  </thead>\n",
       "  <tbody>\n",
       "    <tr>\n",
       "      <th>0</th>\n",
       "      <td>809436509</td>\n",
       "      <td>Извещение о проведении открытого конкурса в эл...</td>\n",
       "      <td>обеспечение исполнения контракта</td>\n",
       "      <td>{'text': ['Размер обеспечения исполнения контр...</td>\n",
       "    </tr>\n",
       "  </tbody>\n",
       "</table>\n",
       "</div>"
      ],
      "text/plain": [
       "          id                                               text   \n",
       "0  809436509  Извещение о проведении открытого конкурса в эл...  \\\n",
       "\n",
       "                              label   \n",
       "0  обеспечение исполнения контракта  \\\n",
       "\n",
       "                                      extracted_part  \n",
       "0  {'text': ['Размер обеспечения исполнения контр...  "
      ]
     },
     "execution_count": 4,
     "metadata": {},
     "output_type": "execute_result"
    }
   ],
   "source": [
    "data.head(1)"
   ]
  },
  {
   "cell_type": "code",
   "execution_count": 5,
   "metadata": {},
   "outputs": [],
   "source": [
    "data['empty_extraction'] = data['extracted_part'].apply(lambda row: False if row['text'][0] else True)\n",
    "data['stratify_column'] = data.apply(lambda row: row.label + ' ' + str(row.empty_extraction), axis=1)  # to have stratified split"
   ]
  },
  {
   "cell_type": "code",
   "execution_count": 6,
   "metadata": {},
   "outputs": [],
   "source": [
    "train_df, val_df = train_test_split(data, \n",
    "                                    shuffle=True, \n",
    "                                    stratify=data['stratify_column'],\n",
    "                                    random_state=random_seed, \n",
    "                                    test_size=0.1)"
   ]
  },
  {
   "cell_type": "code",
   "execution_count": 7,
   "metadata": {},
   "outputs": [
    {
     "data": {
      "text/html": [
       "<div>\n",
       "<style scoped>\n",
       "    .dataframe tbody tr th:only-of-type {\n",
       "        vertical-align: middle;\n",
       "    }\n",
       "\n",
       "    .dataframe tbody tr th {\n",
       "        vertical-align: top;\n",
       "    }\n",
       "\n",
       "    .dataframe thead th {\n",
       "        text-align: right;\n",
       "    }\n",
       "</style>\n",
       "<table border=\"1\" class=\"dataframe\">\n",
       "  <thead>\n",
       "    <tr style=\"text-align: right;\">\n",
       "      <th></th>\n",
       "      <th>id</th>\n",
       "      <th>text</th>\n",
       "      <th>label</th>\n",
       "      <th>extracted_part</th>\n",
       "      <th>empty_extraction</th>\n",
       "      <th>stratify_column</th>\n",
       "    </tr>\n",
       "  </thead>\n",
       "  <tbody>\n",
       "    <tr>\n",
       "      <th>1152</th>\n",
       "      <td>713863700</td>\n",
       "      <td>Извещение о проведении электронного аукциона д...</td>\n",
       "      <td>обеспечение гарантийных обязательств</td>\n",
       "      <td>{'text': ['Размер обеспечения гарантийных обяз...</td>\n",
       "      <td>False</td>\n",
       "      <td>обеспечение гарантийных обязательств False</td>\n",
       "    </tr>\n",
       "  </tbody>\n",
       "</table>\n",
       "</div>"
      ],
      "text/plain": [
       "             id                                               text   \n",
       "1152  713863700  Извещение о проведении электронного аукциона д...  \\\n",
       "\n",
       "                                     label   \n",
       "1152  обеспечение гарантийных обязательств  \\\n",
       "\n",
       "                                         extracted_part  empty_extraction   \n",
       "1152  {'text': ['Размер обеспечения гарантийных обяз...             False  \\\n",
       "\n",
       "                                 stratify_column  \n",
       "1152  обеспечение гарантийных обязательств False  "
      ]
     },
     "execution_count": 7,
     "metadata": {},
     "output_type": "execute_result"
    }
   ],
   "source": [
    "train_df.head(1)"
   ]
  },
  {
   "cell_type": "code",
   "execution_count": 8,
   "metadata": {},
   "outputs": [
    {
     "data": {
      "text/html": [
       "<div>\n",
       "<style scoped>\n",
       "    .dataframe tbody tr th:only-of-type {\n",
       "        vertical-align: middle;\n",
       "    }\n",
       "\n",
       "    .dataframe tbody tr th {\n",
       "        vertical-align: top;\n",
       "    }\n",
       "\n",
       "    .dataframe thead th {\n",
       "        text-align: right;\n",
       "    }\n",
       "</style>\n",
       "<table border=\"1\" class=\"dataframe\">\n",
       "  <thead>\n",
       "    <tr style=\"text-align: right;\">\n",
       "      <th></th>\n",
       "      <th>id</th>\n",
       "      <th>text</th>\n",
       "      <th>label</th>\n",
       "      <th>extracted_part</th>\n",
       "      <th>empty_extraction</th>\n",
       "      <th>stratify_column</th>\n",
       "    </tr>\n",
       "  </thead>\n",
       "  <tbody>\n",
       "    <tr>\n",
       "      <th>1611</th>\n",
       "      <td>496636639</td>\n",
       "      <td>ПРОЕКТ Договор № п. Волоконовка «___» ________...</td>\n",
       "      <td>обеспечение гарантийных обязательств</td>\n",
       "      <td>{'text': [''], 'answer_start': [0], 'answer_en...</td>\n",
       "      <td>True</td>\n",
       "      <td>обеспечение гарантийных обязательств True</td>\n",
       "    </tr>\n",
       "  </tbody>\n",
       "</table>\n",
       "</div>"
      ],
      "text/plain": [
       "             id                                               text   \n",
       "1611  496636639  ПРОЕКТ Договор № п. Волоконовка «___» ________...  \\\n",
       "\n",
       "                                     label   \n",
       "1611  обеспечение гарантийных обязательств  \\\n",
       "\n",
       "                                         extracted_part  empty_extraction   \n",
       "1611  {'text': [''], 'answer_start': [0], 'answer_en...              True  \\\n",
       "\n",
       "                                stratify_column  \n",
       "1611  обеспечение гарантийных обязательств True  "
      ]
     },
     "execution_count": 8,
     "metadata": {},
     "output_type": "execute_result"
    }
   ],
   "source": [
    "val_df.head(1)"
   ]
  },
  {
   "cell_type": "code",
   "execution_count": 9,
   "metadata": {},
   "outputs": [
    {
     "data": {
      "text/plain": [
       "DatasetDict({\n",
       "    train: Dataset({\n",
       "        features: ['id', 'text', 'label', 'extracted_part', 'empty_extraction', 'stratify_column'],\n",
       "        num_rows: 1619\n",
       "    })\n",
       "    val: Dataset({\n",
       "        features: ['id', 'text', 'label', 'extracted_part', 'empty_extraction', 'stratify_column'],\n",
       "        num_rows: 180\n",
       "    })\n",
       "})"
      ]
     },
     "execution_count": 9,
     "metadata": {},
     "output_type": "execute_result"
    }
   ],
   "source": [
    "raw_dataset = DatasetDict({\n",
    "    'train': Dataset.from_pandas(train_df.reset_index(drop=True)),\n",
    "    'val': Dataset.from_pandas(val_df.reset_index(drop=True)),\n",
    "    })\n",
    "raw_dataset"
   ]
  },
  {
   "cell_type": "code",
   "execution_count": 10,
   "metadata": {},
   "outputs": [
    {
     "name": "stderr",
     "output_type": "stream",
     "text": [
      "                                                                                               \r"
     ]
    }
   ],
   "source": [
    "raw_dataset.save_to_disk('data/raw')"
   ]
  },
  {
   "cell_type": "markdown",
   "metadata": {},
   "source": [
    "## Label adjustment (inclusion of trailing underscores)"
   ]
  },
  {
   "cell_type": "code",
   "execution_count": 11,
   "metadata": {},
   "outputs": [],
   "source": [
    "with open(f'data/train.json', 'rb') as f:\n",
    "    train = json.load(f)\n",
    "with open(f'data/test_with_labels.json', 'rb') as f:\n",
    "    test_with_labels = json.load(f)"
   ]
  },
  {
   "cell_type": "code",
   "execution_count": 12,
   "metadata": {},
   "outputs": [],
   "source": [
    "def find_first_non_underscore(text, answer_end):\n",
    "    while answer_end < len(text) and text[answer_end] == '_':\n",
    "        answer_end += 1\n",
    "    return answer_end\n",
    "\n",
    "# the same for answer_start but in the opposite direction\n",
    "def find_last_non_underscore(text, answer_start):\n",
    "    while answer_start >= 0 and text[answer_start] == '_':\n",
    "        answer_start -= 1\n",
    "    return answer_start\n",
    "\n",
    "def replace_underscores(dataset):\n",
    "    end_replacements = 0\n",
    "    start_replacements = 0\n",
    "\n",
    "    for d in dataset:\n",
    "      text = str(d['text'])\n",
    "      answer_end = d['extracted_part']['answer_end'][0]\n",
    "      answer_start = d['extracted_part']['answer_start'][0]\n",
    "      if text[answer_end] == '_':\n",
    "        new_end = find_first_non_underscore(text, answer_end)\n",
    "        if new_end != answer_end:\n",
    "          d['extracted_part']['answer_end'][0] = new_end\n",
    "          end_replacements += 1\n",
    "      if text[answer_start] == '_':\n",
    "        new_start = find_last_non_underscore(text, answer_start)\n",
    "        if new_start != answer_start:\n",
    "          d['extracted_part']['answer_start'][0] = new_start\n",
    "          start_replacements += 1\n",
    "\n",
    "    print(f'end_replacements: {end_replacements}')\n",
    "    print(f'start_replacements: {start_replacements}')\n",
    "    \n",
    "    return dataset"
   ]
  },
  {
   "cell_type": "code",
   "execution_count": 13,
   "metadata": {},
   "outputs": [
    {
     "name": "stdout",
     "output_type": "stream",
     "text": [
      "end_replacements: 30\n",
      "start_replacements: 0\n",
      "end_replacements: 4\n",
      "start_replacements: 0\n"
     ]
    }
   ],
   "source": [
    "train = replace_underscores(train)\n",
    "test_with_labels = replace_underscores(test_with_labels)"
   ]
  },
  {
   "cell_type": "code",
   "execution_count": 14,
   "metadata": {},
   "outputs": [],
   "source": [
    "with open(f'data/train_preprocessed.json', 'w') as f:\n",
    "    json.dump(train, f, ensure_ascii=False, indent=4)\n",
    "with open(f'data/test_with_labels_preprocessed.json', 'w') as f:\n",
    "    json.dump(test_with_labels, f, ensure_ascii=False, indent=4)"
   ]
  }
 ],
 "metadata": {
  "colab": {
   "collapsed_sections": [
    "beh9MEnxqsB1",
    "eykHBlvsnR_W",
    "mCNRQEkUCqZr",
    "N5DNI4lnATQf",
    "jciK8OEzXK5D",
    "bOxl9bYKb5YR",
    "lBVveXJrH0wr",
    "ZSzrgJyKtRPq",
    "PgwODLmtl_KY",
    "69yjhfJHq6VU",
    "Qu8M3DkYq8jv",
    "hPjSGliLwhKw",
    "ItolyEUYpiQo",
    "PezbRc9QH-WF",
    "_tqIwAvIcVT5",
    "OZoFPN8lTW5a",
    "fwI2RL-Yl9V5"
   ],
   "provenance": []
  },
  "gpuClass": "standard",
  "kernelspec": {
   "display_name": "vova2",
   "language": "python",
   "name": "vova2"
  },
  "language_info": {
   "codemirror_mode": {
    "name": "ipython",
    "version": 3
   },
   "file_extension": ".py",
   "mimetype": "text/x-python",
   "name": "python",
   "nbconvert_exporter": "python",
   "pygments_lexer": "ipython3",
   "version": "3.9.16"
  }
 },
 "nbformat": 4,
 "nbformat_minor": 4
}
