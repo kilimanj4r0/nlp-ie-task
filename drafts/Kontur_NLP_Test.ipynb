{
  "nbformat": 4,
  "nbformat_minor": 0,
  "metadata": {
    "colab": {
      "provenance": [],
      "collapsed_sections": [
        "FiMk8HYhTZJm",
        "OZoFPN8lTW5a",
        "fwI2RL-Yl9V5"
      ]
    },
    "kernelspec": {
      "name": "python3",
      "display_name": "Python 3"
    },
    "language_info": {
      "name": "python"
    },
    "widgets": {
      "application/vnd.jupyter.widget-state+json": {
        "9399207e4ae446caab5ee633124dfc24": {
          "model_module": "@jupyter-widgets/controls",
          "model_name": "HBoxModel",
          "model_module_version": "1.5.0",
          "state": {
            "_dom_classes": [],
            "_model_module": "@jupyter-widgets/controls",
            "_model_module_version": "1.5.0",
            "_model_name": "HBoxModel",
            "_view_count": null,
            "_view_module": "@jupyter-widgets/controls",
            "_view_module_version": "1.5.0",
            "_view_name": "HBoxView",
            "box_style": "",
            "children": [
              "IPY_MODEL_efc12466caa249f2a8352f8a21714f6c",
              "IPY_MODEL_ff967dfe675444e18e6d90a7184b00a2",
              "IPY_MODEL_81ca4977de4a4ff0be07335a64bfdb4a"
            ],
            "layout": "IPY_MODEL_5c2723a3049e4071a333b49c6794cc24"
          }
        },
        "efc12466caa249f2a8352f8a21714f6c": {
          "model_module": "@jupyter-widgets/controls",
          "model_name": "HTMLModel",
          "model_module_version": "1.5.0",
          "state": {
            "_dom_classes": [],
            "_model_module": "@jupyter-widgets/controls",
            "_model_module_version": "1.5.0",
            "_model_name": "HTMLModel",
            "_view_count": null,
            "_view_module": "@jupyter-widgets/controls",
            "_view_module_version": "1.5.0",
            "_view_name": "HTMLView",
            "description": "",
            "description_tooltip": null,
            "layout": "IPY_MODEL_dc6597e7a53d465ca87ec170cd90cca7",
            "placeholder": "​",
            "style": "IPY_MODEL_c8b9663a58d64e6fb22d08f993fe8f42",
            "value": "Downloading tf_model.h5: 100%"
          }
        },
        "ff967dfe675444e18e6d90a7184b00a2": {
          "model_module": "@jupyter-widgets/controls",
          "model_name": "FloatProgressModel",
          "model_module_version": "1.5.0",
          "state": {
            "_dom_classes": [],
            "_model_module": "@jupyter-widgets/controls",
            "_model_module_version": "1.5.0",
            "_model_name": "FloatProgressModel",
            "_view_count": null,
            "_view_module": "@jupyter-widgets/controls",
            "_view_module_version": "1.5.0",
            "_view_name": "ProgressView",
            "bar_style": "success",
            "description": "",
            "description_tooltip": null,
            "layout": "IPY_MODEL_5d55788bbe3b4ea09e9acce6680e7440",
            "max": 539068488,
            "min": 0,
            "orientation": "horizontal",
            "style": "IPY_MODEL_4fb19b7823c8440ebd133b9f874de496",
            "value": 539068488
          }
        },
        "81ca4977de4a4ff0be07335a64bfdb4a": {
          "model_module": "@jupyter-widgets/controls",
          "model_name": "HTMLModel",
          "model_module_version": "1.5.0",
          "state": {
            "_dom_classes": [],
            "_model_module": "@jupyter-widgets/controls",
            "_model_module_version": "1.5.0",
            "_model_name": "HTMLModel",
            "_view_count": null,
            "_view_module": "@jupyter-widgets/controls",
            "_view_module_version": "1.5.0",
            "_view_name": "HTMLView",
            "description": "",
            "description_tooltip": null,
            "layout": "IPY_MODEL_0f15b737bfd44875996ea8e181174f85",
            "placeholder": "​",
            "style": "IPY_MODEL_f690232d995647299a1a7962427a3a48",
            "value": " 539M/539M [00:06&lt;00:00, 72.1MB/s]"
          }
        },
        "5c2723a3049e4071a333b49c6794cc24": {
          "model_module": "@jupyter-widgets/base",
          "model_name": "LayoutModel",
          "model_module_version": "1.2.0",
          "state": {
            "_model_module": "@jupyter-widgets/base",
            "_model_module_version": "1.2.0",
            "_model_name": "LayoutModel",
            "_view_count": null,
            "_view_module": "@jupyter-widgets/base",
            "_view_module_version": "1.2.0",
            "_view_name": "LayoutView",
            "align_content": null,
            "align_items": null,
            "align_self": null,
            "border": null,
            "bottom": null,
            "display": null,
            "flex": null,
            "flex_flow": null,
            "grid_area": null,
            "grid_auto_columns": null,
            "grid_auto_flow": null,
            "grid_auto_rows": null,
            "grid_column": null,
            "grid_gap": null,
            "grid_row": null,
            "grid_template_areas": null,
            "grid_template_columns": null,
            "grid_template_rows": null,
            "height": null,
            "justify_content": null,
            "justify_items": null,
            "left": null,
            "margin": null,
            "max_height": null,
            "max_width": null,
            "min_height": null,
            "min_width": null,
            "object_fit": null,
            "object_position": null,
            "order": null,
            "overflow": null,
            "overflow_x": null,
            "overflow_y": null,
            "padding": null,
            "right": null,
            "top": null,
            "visibility": null,
            "width": null
          }
        },
        "dc6597e7a53d465ca87ec170cd90cca7": {
          "model_module": "@jupyter-widgets/base",
          "model_name": "LayoutModel",
          "model_module_version": "1.2.0",
          "state": {
            "_model_module": "@jupyter-widgets/base",
            "_model_module_version": "1.2.0",
            "_model_name": "LayoutModel",
            "_view_count": null,
            "_view_module": "@jupyter-widgets/base",
            "_view_module_version": "1.2.0",
            "_view_name": "LayoutView",
            "align_content": null,
            "align_items": null,
            "align_self": null,
            "border": null,
            "bottom": null,
            "display": null,
            "flex": null,
            "flex_flow": null,
            "grid_area": null,
            "grid_auto_columns": null,
            "grid_auto_flow": null,
            "grid_auto_rows": null,
            "grid_column": null,
            "grid_gap": null,
            "grid_row": null,
            "grid_template_areas": null,
            "grid_template_columns": null,
            "grid_template_rows": null,
            "height": null,
            "justify_content": null,
            "justify_items": null,
            "left": null,
            "margin": null,
            "max_height": null,
            "max_width": null,
            "min_height": null,
            "min_width": null,
            "object_fit": null,
            "object_position": null,
            "order": null,
            "overflow": null,
            "overflow_x": null,
            "overflow_y": null,
            "padding": null,
            "right": null,
            "top": null,
            "visibility": null,
            "width": null
          }
        },
        "c8b9663a58d64e6fb22d08f993fe8f42": {
          "model_module": "@jupyter-widgets/controls",
          "model_name": "DescriptionStyleModel",
          "model_module_version": "1.5.0",
          "state": {
            "_model_module": "@jupyter-widgets/controls",
            "_model_module_version": "1.5.0",
            "_model_name": "DescriptionStyleModel",
            "_view_count": null,
            "_view_module": "@jupyter-widgets/base",
            "_view_module_version": "1.2.0",
            "_view_name": "StyleView",
            "description_width": ""
          }
        },
        "5d55788bbe3b4ea09e9acce6680e7440": {
          "model_module": "@jupyter-widgets/base",
          "model_name": "LayoutModel",
          "model_module_version": "1.2.0",
          "state": {
            "_model_module": "@jupyter-widgets/base",
            "_model_module_version": "1.2.0",
            "_model_name": "LayoutModel",
            "_view_count": null,
            "_view_module": "@jupyter-widgets/base",
            "_view_module_version": "1.2.0",
            "_view_name": "LayoutView",
            "align_content": null,
            "align_items": null,
            "align_self": null,
            "border": null,
            "bottom": null,
            "display": null,
            "flex": null,
            "flex_flow": null,
            "grid_area": null,
            "grid_auto_columns": null,
            "grid_auto_flow": null,
            "grid_auto_rows": null,
            "grid_column": null,
            "grid_gap": null,
            "grid_row": null,
            "grid_template_areas": null,
            "grid_template_columns": null,
            "grid_template_rows": null,
            "height": null,
            "justify_content": null,
            "justify_items": null,
            "left": null,
            "margin": null,
            "max_height": null,
            "max_width": null,
            "min_height": null,
            "min_width": null,
            "object_fit": null,
            "object_position": null,
            "order": null,
            "overflow": null,
            "overflow_x": null,
            "overflow_y": null,
            "padding": null,
            "right": null,
            "top": null,
            "visibility": null,
            "width": null
          }
        },
        "4fb19b7823c8440ebd133b9f874de496": {
          "model_module": "@jupyter-widgets/controls",
          "model_name": "ProgressStyleModel",
          "model_module_version": "1.5.0",
          "state": {
            "_model_module": "@jupyter-widgets/controls",
            "_model_module_version": "1.5.0",
            "_model_name": "ProgressStyleModel",
            "_view_count": null,
            "_view_module": "@jupyter-widgets/base",
            "_view_module_version": "1.2.0",
            "_view_name": "StyleView",
            "bar_color": null,
            "description_width": ""
          }
        },
        "0f15b737bfd44875996ea8e181174f85": {
          "model_module": "@jupyter-widgets/base",
          "model_name": "LayoutModel",
          "model_module_version": "1.2.0",
          "state": {
            "_model_module": "@jupyter-widgets/base",
            "_model_module_version": "1.2.0",
            "_model_name": "LayoutModel",
            "_view_count": null,
            "_view_module": "@jupyter-widgets/base",
            "_view_module_version": "1.2.0",
            "_view_name": "LayoutView",
            "align_content": null,
            "align_items": null,
            "align_self": null,
            "border": null,
            "bottom": null,
            "display": null,
            "flex": null,
            "flex_flow": null,
            "grid_area": null,
            "grid_auto_columns": null,
            "grid_auto_flow": null,
            "grid_auto_rows": null,
            "grid_column": null,
            "grid_gap": null,
            "grid_row": null,
            "grid_template_areas": null,
            "grid_template_columns": null,
            "grid_template_rows": null,
            "height": null,
            "justify_content": null,
            "justify_items": null,
            "left": null,
            "margin": null,
            "max_height": null,
            "max_width": null,
            "min_height": null,
            "min_width": null,
            "object_fit": null,
            "object_position": null,
            "order": null,
            "overflow": null,
            "overflow_x": null,
            "overflow_y": null,
            "padding": null,
            "right": null,
            "top": null,
            "visibility": null,
            "width": null
          }
        },
        "f690232d995647299a1a7962427a3a48": {
          "model_module": "@jupyter-widgets/controls",
          "model_name": "DescriptionStyleModel",
          "model_module_version": "1.5.0",
          "state": {
            "_model_module": "@jupyter-widgets/controls",
            "_model_module_version": "1.5.0",
            "_model_name": "DescriptionStyleModel",
            "_view_count": null,
            "_view_module": "@jupyter-widgets/base",
            "_view_module_version": "1.2.0",
            "_view_name": "StyleView",
            "description_width": ""
          }
        },
        "a857c317d05b4cce965a433c1f991475": {
          "model_module": "@jupyter-widgets/controls",
          "model_name": "HBoxModel",
          "model_module_version": "1.5.0",
          "state": {
            "_dom_classes": [],
            "_model_module": "@jupyter-widgets/controls",
            "_model_module_version": "1.5.0",
            "_model_name": "HBoxModel",
            "_view_count": null,
            "_view_module": "@jupyter-widgets/controls",
            "_view_module_version": "1.5.0",
            "_view_name": "HBoxView",
            "box_style": "",
            "children": [
              "IPY_MODEL_50f77ab730184acc8f5e16cf3c02ae5c",
              "IPY_MODEL_7574463724cc42378375b372f15f4f1f",
              "IPY_MODEL_635c471cf93e48689c37f654d4a8e1e0"
            ],
            "layout": "IPY_MODEL_0ec3866d83324f1bb4cd61dbfdfae071"
          }
        },
        "50f77ab730184acc8f5e16cf3c02ae5c": {
          "model_module": "@jupyter-widgets/controls",
          "model_name": "HTMLModel",
          "model_module_version": "1.5.0",
          "state": {
            "_dom_classes": [],
            "_model_module": "@jupyter-widgets/controls",
            "_model_module_version": "1.5.0",
            "_model_name": "HTMLModel",
            "_view_count": null,
            "_view_module": "@jupyter-widgets/controls",
            "_view_module_version": "1.5.0",
            "_view_name": "HTMLView",
            "description": "",
            "description_tooltip": null,
            "layout": "IPY_MODEL_30c563ddce7e404ebf0fa24da3d02041",
            "placeholder": "​",
            "style": "IPY_MODEL_6797155be2684e82bc6a6a52ed2d11b9",
            "value": "Downloading (…)okenizer_config.json: 100%"
          }
        },
        "7574463724cc42378375b372f15f4f1f": {
          "model_module": "@jupyter-widgets/controls",
          "model_name": "FloatProgressModel",
          "model_module_version": "1.5.0",
          "state": {
            "_dom_classes": [],
            "_model_module": "@jupyter-widgets/controls",
            "_model_module_version": "1.5.0",
            "_model_name": "FloatProgressModel",
            "_view_count": null,
            "_view_module": "@jupyter-widgets/controls",
            "_view_module_version": "1.5.0",
            "_view_name": "ProgressView",
            "bar_style": "success",
            "description": "",
            "description_tooltip": null,
            "layout": "IPY_MODEL_ccaf1f84b395432b9ae065022292cdf0",
            "max": 516,
            "min": 0,
            "orientation": "horizontal",
            "style": "IPY_MODEL_d74fb03543ea4f009c57e9618398b3a0",
            "value": 516
          }
        },
        "635c471cf93e48689c37f654d4a8e1e0": {
          "model_module": "@jupyter-widgets/controls",
          "model_name": "HTMLModel",
          "model_module_version": "1.5.0",
          "state": {
            "_dom_classes": [],
            "_model_module": "@jupyter-widgets/controls",
            "_model_module_version": "1.5.0",
            "_model_name": "HTMLModel",
            "_view_count": null,
            "_view_module": "@jupyter-widgets/controls",
            "_view_module_version": "1.5.0",
            "_view_name": "HTMLView",
            "description": "",
            "description_tooltip": null,
            "layout": "IPY_MODEL_09f709a48d544fd185cfffad9c787b41",
            "placeholder": "​",
            "style": "IPY_MODEL_ff3cad3477ca49a6808479c257414552",
            "value": " 516/516 [00:00&lt;00:00, 7.04kB/s]"
          }
        },
        "0ec3866d83324f1bb4cd61dbfdfae071": {
          "model_module": "@jupyter-widgets/base",
          "model_name": "LayoutModel",
          "model_module_version": "1.2.0",
          "state": {
            "_model_module": "@jupyter-widgets/base",
            "_model_module_version": "1.2.0",
            "_model_name": "LayoutModel",
            "_view_count": null,
            "_view_module": "@jupyter-widgets/base",
            "_view_module_version": "1.2.0",
            "_view_name": "LayoutView",
            "align_content": null,
            "align_items": null,
            "align_self": null,
            "border": null,
            "bottom": null,
            "display": null,
            "flex": null,
            "flex_flow": null,
            "grid_area": null,
            "grid_auto_columns": null,
            "grid_auto_flow": null,
            "grid_auto_rows": null,
            "grid_column": null,
            "grid_gap": null,
            "grid_row": null,
            "grid_template_areas": null,
            "grid_template_columns": null,
            "grid_template_rows": null,
            "height": null,
            "justify_content": null,
            "justify_items": null,
            "left": null,
            "margin": null,
            "max_height": null,
            "max_width": null,
            "min_height": null,
            "min_width": null,
            "object_fit": null,
            "object_position": null,
            "order": null,
            "overflow": null,
            "overflow_x": null,
            "overflow_y": null,
            "padding": null,
            "right": null,
            "top": null,
            "visibility": null,
            "width": null
          }
        },
        "30c563ddce7e404ebf0fa24da3d02041": {
          "model_module": "@jupyter-widgets/base",
          "model_name": "LayoutModel",
          "model_module_version": "1.2.0",
          "state": {
            "_model_module": "@jupyter-widgets/base",
            "_model_module_version": "1.2.0",
            "_model_name": "LayoutModel",
            "_view_count": null,
            "_view_module": "@jupyter-widgets/base",
            "_view_module_version": "1.2.0",
            "_view_name": "LayoutView",
            "align_content": null,
            "align_items": null,
            "align_self": null,
            "border": null,
            "bottom": null,
            "display": null,
            "flex": null,
            "flex_flow": null,
            "grid_area": null,
            "grid_auto_columns": null,
            "grid_auto_flow": null,
            "grid_auto_rows": null,
            "grid_column": null,
            "grid_gap": null,
            "grid_row": null,
            "grid_template_areas": null,
            "grid_template_columns": null,
            "grid_template_rows": null,
            "height": null,
            "justify_content": null,
            "justify_items": null,
            "left": null,
            "margin": null,
            "max_height": null,
            "max_width": null,
            "min_height": null,
            "min_width": null,
            "object_fit": null,
            "object_position": null,
            "order": null,
            "overflow": null,
            "overflow_x": null,
            "overflow_y": null,
            "padding": null,
            "right": null,
            "top": null,
            "visibility": null,
            "width": null
          }
        },
        "6797155be2684e82bc6a6a52ed2d11b9": {
          "model_module": "@jupyter-widgets/controls",
          "model_name": "DescriptionStyleModel",
          "model_module_version": "1.5.0",
          "state": {
            "_model_module": "@jupyter-widgets/controls",
            "_model_module_version": "1.5.0",
            "_model_name": "DescriptionStyleModel",
            "_view_count": null,
            "_view_module": "@jupyter-widgets/base",
            "_view_module_version": "1.2.0",
            "_view_name": "StyleView",
            "description_width": ""
          }
        },
        "ccaf1f84b395432b9ae065022292cdf0": {
          "model_module": "@jupyter-widgets/base",
          "model_name": "LayoutModel",
          "model_module_version": "1.2.0",
          "state": {
            "_model_module": "@jupyter-widgets/base",
            "_model_module_version": "1.2.0",
            "_model_name": "LayoutModel",
            "_view_count": null,
            "_view_module": "@jupyter-widgets/base",
            "_view_module_version": "1.2.0",
            "_view_name": "LayoutView",
            "align_content": null,
            "align_items": null,
            "align_self": null,
            "border": null,
            "bottom": null,
            "display": null,
            "flex": null,
            "flex_flow": null,
            "grid_area": null,
            "grid_auto_columns": null,
            "grid_auto_flow": null,
            "grid_auto_rows": null,
            "grid_column": null,
            "grid_gap": null,
            "grid_row": null,
            "grid_template_areas": null,
            "grid_template_columns": null,
            "grid_template_rows": null,
            "height": null,
            "justify_content": null,
            "justify_items": null,
            "left": null,
            "margin": null,
            "max_height": null,
            "max_width": null,
            "min_height": null,
            "min_width": null,
            "object_fit": null,
            "object_position": null,
            "order": null,
            "overflow": null,
            "overflow_x": null,
            "overflow_y": null,
            "padding": null,
            "right": null,
            "top": null,
            "visibility": null,
            "width": null
          }
        },
        "d74fb03543ea4f009c57e9618398b3a0": {
          "model_module": "@jupyter-widgets/controls",
          "model_name": "ProgressStyleModel",
          "model_module_version": "1.5.0",
          "state": {
            "_model_module": "@jupyter-widgets/controls",
            "_model_module_version": "1.5.0",
            "_model_name": "ProgressStyleModel",
            "_view_count": null,
            "_view_module": "@jupyter-widgets/base",
            "_view_module_version": "1.2.0",
            "_view_name": "StyleView",
            "bar_color": null,
            "description_width": ""
          }
        },
        "09f709a48d544fd185cfffad9c787b41": {
          "model_module": "@jupyter-widgets/base",
          "model_name": "LayoutModel",
          "model_module_version": "1.2.0",
          "state": {
            "_model_module": "@jupyter-widgets/base",
            "_model_module_version": "1.2.0",
            "_model_name": "LayoutModel",
            "_view_count": null,
            "_view_module": "@jupyter-widgets/base",
            "_view_module_version": "1.2.0",
            "_view_name": "LayoutView",
            "align_content": null,
            "align_items": null,
            "align_self": null,
            "border": null,
            "bottom": null,
            "display": null,
            "flex": null,
            "flex_flow": null,
            "grid_area": null,
            "grid_auto_columns": null,
            "grid_auto_flow": null,
            "grid_auto_rows": null,
            "grid_column": null,
            "grid_gap": null,
            "grid_row": null,
            "grid_template_areas": null,
            "grid_template_columns": null,
            "grid_template_rows": null,
            "height": null,
            "justify_content": null,
            "justify_items": null,
            "left": null,
            "margin": null,
            "max_height": null,
            "max_width": null,
            "min_height": null,
            "min_width": null,
            "object_fit": null,
            "object_position": null,
            "order": null,
            "overflow": null,
            "overflow_x": null,
            "overflow_y": null,
            "padding": null,
            "right": null,
            "top": null,
            "visibility": null,
            "width": null
          }
        },
        "ff3cad3477ca49a6808479c257414552": {
          "model_module": "@jupyter-widgets/controls",
          "model_name": "DescriptionStyleModel",
          "model_module_version": "1.5.0",
          "state": {
            "_model_module": "@jupyter-widgets/controls",
            "_model_module_version": "1.5.0",
            "_model_name": "DescriptionStyleModel",
            "_view_count": null,
            "_view_module": "@jupyter-widgets/base",
            "_view_module_version": "1.2.0",
            "_view_name": "StyleView",
            "description_width": ""
          }
        },
        "95d96fa262be4929a6f85807bb9dbc6d": {
          "model_module": "@jupyter-widgets/controls",
          "model_name": "HBoxModel",
          "model_module_version": "1.5.0",
          "state": {
            "_dom_classes": [],
            "_model_module": "@jupyter-widgets/controls",
            "_model_module_version": "1.5.0",
            "_model_name": "HBoxModel",
            "_view_count": null,
            "_view_module": "@jupyter-widgets/controls",
            "_view_module_version": "1.5.0",
            "_view_name": "HBoxView",
            "box_style": "",
            "children": [
              "IPY_MODEL_42adcbf313d3401eb1a33d1c4460f112",
              "IPY_MODEL_d49cd22b72e747d994cea97f5bb48e51",
              "IPY_MODEL_4269f834d44248f1b236ae7e0016d677"
            ],
            "layout": "IPY_MODEL_6715a0f5820243a6a3cad4510f8f9be9"
          }
        },
        "42adcbf313d3401eb1a33d1c4460f112": {
          "model_module": "@jupyter-widgets/controls",
          "model_name": "HTMLModel",
          "model_module_version": "1.5.0",
          "state": {
            "_dom_classes": [],
            "_model_module": "@jupyter-widgets/controls",
            "_model_module_version": "1.5.0",
            "_model_name": "HTMLModel",
            "_view_count": null,
            "_view_module": "@jupyter-widgets/controls",
            "_view_module_version": "1.5.0",
            "_view_name": "HTMLView",
            "description": "",
            "description_tooltip": null,
            "layout": "IPY_MODEL_ca36148a14744019a1e4e5b62c62094f",
            "placeholder": "​",
            "style": "IPY_MODEL_9e74fa491d3540a2bc3d586b29a1655d",
            "value": "Downloading (…)lve/main/config.json: 100%"
          }
        },
        "d49cd22b72e747d994cea97f5bb48e51": {
          "model_module": "@jupyter-widgets/controls",
          "model_name": "FloatProgressModel",
          "model_module_version": "1.5.0",
          "state": {
            "_dom_classes": [],
            "_model_module": "@jupyter-widgets/controls",
            "_model_module_version": "1.5.0",
            "_model_name": "FloatProgressModel",
            "_view_count": null,
            "_view_module": "@jupyter-widgets/controls",
            "_view_module_version": "1.5.0",
            "_view_name": "ProgressView",
            "bar_style": "success",
            "description": "",
            "description_tooltip": null,
            "layout": "IPY_MODEL_0529615aaa604a599c8fafe4c7f43120",
            "max": 781,
            "min": 0,
            "orientation": "horizontal",
            "style": "IPY_MODEL_f019a5a09e1949d0b2b7cad83c393b9d",
            "value": 781
          }
        },
        "4269f834d44248f1b236ae7e0016d677": {
          "model_module": "@jupyter-widgets/controls",
          "model_name": "HTMLModel",
          "model_module_version": "1.5.0",
          "state": {
            "_dom_classes": [],
            "_model_module": "@jupyter-widgets/controls",
            "_model_module_version": "1.5.0",
            "_model_name": "HTMLModel",
            "_view_count": null,
            "_view_module": "@jupyter-widgets/controls",
            "_view_module_version": "1.5.0",
            "_view_name": "HTMLView",
            "description": "",
            "description_tooltip": null,
            "layout": "IPY_MODEL_8e5a294162464b6ab834099058c0c7c8",
            "placeholder": "​",
            "style": "IPY_MODEL_a04902911547462d8625ecd6161c36aa",
            "value": " 781/781 [00:00&lt;00:00, 26.7kB/s]"
          }
        },
        "6715a0f5820243a6a3cad4510f8f9be9": {
          "model_module": "@jupyter-widgets/base",
          "model_name": "LayoutModel",
          "model_module_version": "1.2.0",
          "state": {
            "_model_module": "@jupyter-widgets/base",
            "_model_module_version": "1.2.0",
            "_model_name": "LayoutModel",
            "_view_count": null,
            "_view_module": "@jupyter-widgets/base",
            "_view_module_version": "1.2.0",
            "_view_name": "LayoutView",
            "align_content": null,
            "align_items": null,
            "align_self": null,
            "border": null,
            "bottom": null,
            "display": null,
            "flex": null,
            "flex_flow": null,
            "grid_area": null,
            "grid_auto_columns": null,
            "grid_auto_flow": null,
            "grid_auto_rows": null,
            "grid_column": null,
            "grid_gap": null,
            "grid_row": null,
            "grid_template_areas": null,
            "grid_template_columns": null,
            "grid_template_rows": null,
            "height": null,
            "justify_content": null,
            "justify_items": null,
            "left": null,
            "margin": null,
            "max_height": null,
            "max_width": null,
            "min_height": null,
            "min_width": null,
            "object_fit": null,
            "object_position": null,
            "order": null,
            "overflow": null,
            "overflow_x": null,
            "overflow_y": null,
            "padding": null,
            "right": null,
            "top": null,
            "visibility": null,
            "width": null
          }
        },
        "ca36148a14744019a1e4e5b62c62094f": {
          "model_module": "@jupyter-widgets/base",
          "model_name": "LayoutModel",
          "model_module_version": "1.2.0",
          "state": {
            "_model_module": "@jupyter-widgets/base",
            "_model_module_version": "1.2.0",
            "_model_name": "LayoutModel",
            "_view_count": null,
            "_view_module": "@jupyter-widgets/base",
            "_view_module_version": "1.2.0",
            "_view_name": "LayoutView",
            "align_content": null,
            "align_items": null,
            "align_self": null,
            "border": null,
            "bottom": null,
            "display": null,
            "flex": null,
            "flex_flow": null,
            "grid_area": null,
            "grid_auto_columns": null,
            "grid_auto_flow": null,
            "grid_auto_rows": null,
            "grid_column": null,
            "grid_gap": null,
            "grid_row": null,
            "grid_template_areas": null,
            "grid_template_columns": null,
            "grid_template_rows": null,
            "height": null,
            "justify_content": null,
            "justify_items": null,
            "left": null,
            "margin": null,
            "max_height": null,
            "max_width": null,
            "min_height": null,
            "min_width": null,
            "object_fit": null,
            "object_position": null,
            "order": null,
            "overflow": null,
            "overflow_x": null,
            "overflow_y": null,
            "padding": null,
            "right": null,
            "top": null,
            "visibility": null,
            "width": null
          }
        },
        "9e74fa491d3540a2bc3d586b29a1655d": {
          "model_module": "@jupyter-widgets/controls",
          "model_name": "DescriptionStyleModel",
          "model_module_version": "1.5.0",
          "state": {
            "_model_module": "@jupyter-widgets/controls",
            "_model_module_version": "1.5.0",
            "_model_name": "DescriptionStyleModel",
            "_view_count": null,
            "_view_module": "@jupyter-widgets/base",
            "_view_module_version": "1.2.0",
            "_view_name": "StyleView",
            "description_width": ""
          }
        },
        "0529615aaa604a599c8fafe4c7f43120": {
          "model_module": "@jupyter-widgets/base",
          "model_name": "LayoutModel",
          "model_module_version": "1.2.0",
          "state": {
            "_model_module": "@jupyter-widgets/base",
            "_model_module_version": "1.2.0",
            "_model_name": "LayoutModel",
            "_view_count": null,
            "_view_module": "@jupyter-widgets/base",
            "_view_module_version": "1.2.0",
            "_view_name": "LayoutView",
            "align_content": null,
            "align_items": null,
            "align_self": null,
            "border": null,
            "bottom": null,
            "display": null,
            "flex": null,
            "flex_flow": null,
            "grid_area": null,
            "grid_auto_columns": null,
            "grid_auto_flow": null,
            "grid_auto_rows": null,
            "grid_column": null,
            "grid_gap": null,
            "grid_row": null,
            "grid_template_areas": null,
            "grid_template_columns": null,
            "grid_template_rows": null,
            "height": null,
            "justify_content": null,
            "justify_items": null,
            "left": null,
            "margin": null,
            "max_height": null,
            "max_width": null,
            "min_height": null,
            "min_width": null,
            "object_fit": null,
            "object_position": null,
            "order": null,
            "overflow": null,
            "overflow_x": null,
            "overflow_y": null,
            "padding": null,
            "right": null,
            "top": null,
            "visibility": null,
            "width": null
          }
        },
        "f019a5a09e1949d0b2b7cad83c393b9d": {
          "model_module": "@jupyter-widgets/controls",
          "model_name": "ProgressStyleModel",
          "model_module_version": "1.5.0",
          "state": {
            "_model_module": "@jupyter-widgets/controls",
            "_model_module_version": "1.5.0",
            "_model_name": "ProgressStyleModel",
            "_view_count": null,
            "_view_module": "@jupyter-widgets/base",
            "_view_module_version": "1.2.0",
            "_view_name": "StyleView",
            "bar_color": null,
            "description_width": ""
          }
        },
        "8e5a294162464b6ab834099058c0c7c8": {
          "model_module": "@jupyter-widgets/base",
          "model_name": "LayoutModel",
          "model_module_version": "1.2.0",
          "state": {
            "_model_module": "@jupyter-widgets/base",
            "_model_module_version": "1.2.0",
            "_model_name": "LayoutModel",
            "_view_count": null,
            "_view_module": "@jupyter-widgets/base",
            "_view_module_version": "1.2.0",
            "_view_name": "LayoutView",
            "align_content": null,
            "align_items": null,
            "align_self": null,
            "border": null,
            "bottom": null,
            "display": null,
            "flex": null,
            "flex_flow": null,
            "grid_area": null,
            "grid_auto_columns": null,
            "grid_auto_flow": null,
            "grid_auto_rows": null,
            "grid_column": null,
            "grid_gap": null,
            "grid_row": null,
            "grid_template_areas": null,
            "grid_template_columns": null,
            "grid_template_rows": null,
            "height": null,
            "justify_content": null,
            "justify_items": null,
            "left": null,
            "margin": null,
            "max_height": null,
            "max_width": null,
            "min_height": null,
            "min_width": null,
            "object_fit": null,
            "object_position": null,
            "order": null,
            "overflow": null,
            "overflow_x": null,
            "overflow_y": null,
            "padding": null,
            "right": null,
            "top": null,
            "visibility": null,
            "width": null
          }
        },
        "a04902911547462d8625ecd6161c36aa": {
          "model_module": "@jupyter-widgets/controls",
          "model_name": "DescriptionStyleModel",
          "model_module_version": "1.5.0",
          "state": {
            "_model_module": "@jupyter-widgets/controls",
            "_model_module_version": "1.5.0",
            "_model_name": "DescriptionStyleModel",
            "_view_count": null,
            "_view_module": "@jupyter-widgets/base",
            "_view_module_version": "1.2.0",
            "_view_name": "StyleView",
            "description_width": ""
          }
        },
        "488dbd8a1f6f404b8c5f23f4b0c6960b": {
          "model_module": "@jupyter-widgets/controls",
          "model_name": "HBoxModel",
          "model_module_version": "1.5.0",
          "state": {
            "_dom_classes": [],
            "_model_module": "@jupyter-widgets/controls",
            "_model_module_version": "1.5.0",
            "_model_name": "HBoxModel",
            "_view_count": null,
            "_view_module": "@jupyter-widgets/controls",
            "_view_module_version": "1.5.0",
            "_view_name": "HBoxView",
            "box_style": "",
            "children": [
              "IPY_MODEL_6b4501dfc8b64122bca6288c115eeaf4",
              "IPY_MODEL_634c503ff22247ee8397cca87a6dd326",
              "IPY_MODEL_8904f8d9b92f460389aa8e728d4da435"
            ],
            "layout": "IPY_MODEL_9ebb92dde12542679fc694b7117a30a2"
          }
        },
        "6b4501dfc8b64122bca6288c115eeaf4": {
          "model_module": "@jupyter-widgets/controls",
          "model_name": "HTMLModel",
          "model_module_version": "1.5.0",
          "state": {
            "_dom_classes": [],
            "_model_module": "@jupyter-widgets/controls",
            "_model_module_version": "1.5.0",
            "_model_name": "HTMLModel",
            "_view_count": null,
            "_view_module": "@jupyter-widgets/controls",
            "_view_module_version": "1.5.0",
            "_view_name": "HTMLView",
            "description": "",
            "description_tooltip": null,
            "layout": "IPY_MODEL_6a6ce5238fad4aa4b1590b44835000a4",
            "placeholder": "​",
            "style": "IPY_MODEL_ee3913434a5b4dc9b0275af7c3c14d2f",
            "value": "Downloading (…)tencepiece.bpe.model: 100%"
          }
        },
        "634c503ff22247ee8397cca87a6dd326": {
          "model_module": "@jupyter-widgets/controls",
          "model_name": "FloatProgressModel",
          "model_module_version": "1.5.0",
          "state": {
            "_dom_classes": [],
            "_model_module": "@jupyter-widgets/controls",
            "_model_module_version": "1.5.0",
            "_model_name": "FloatProgressModel",
            "_view_count": null,
            "_view_module": "@jupyter-widgets/controls",
            "_view_module_version": "1.5.0",
            "_view_name": "ProgressView",
            "bar_style": "success",
            "description": "",
            "description_tooltip": null,
            "layout": "IPY_MODEL_1251178dc4f9458ab7c97ad3c34ed95d",
            "max": 5069051,
            "min": 0,
            "orientation": "horizontal",
            "style": "IPY_MODEL_c4e65bd2aee241da8cdb037456939885",
            "value": 5069051
          }
        },
        "8904f8d9b92f460389aa8e728d4da435": {
          "model_module": "@jupyter-widgets/controls",
          "model_name": "HTMLModel",
          "model_module_version": "1.5.0",
          "state": {
            "_dom_classes": [],
            "_model_module": "@jupyter-widgets/controls",
            "_model_module_version": "1.5.0",
            "_model_name": "HTMLModel",
            "_view_count": null,
            "_view_module": "@jupyter-widgets/controls",
            "_view_module_version": "1.5.0",
            "_view_name": "HTMLView",
            "description": "",
            "description_tooltip": null,
            "layout": "IPY_MODEL_28f2d9a557914a3bb127961ce23953f8",
            "placeholder": "​",
            "style": "IPY_MODEL_2a541266a2024d9dac5f1b9a58cf69cc",
            "value": " 5.07M/5.07M [00:00&lt;00:00, 14.6MB/s]"
          }
        },
        "9ebb92dde12542679fc694b7117a30a2": {
          "model_module": "@jupyter-widgets/base",
          "model_name": "LayoutModel",
          "model_module_version": "1.2.0",
          "state": {
            "_model_module": "@jupyter-widgets/base",
            "_model_module_version": "1.2.0",
            "_model_name": "LayoutModel",
            "_view_count": null,
            "_view_module": "@jupyter-widgets/base",
            "_view_module_version": "1.2.0",
            "_view_name": "LayoutView",
            "align_content": null,
            "align_items": null,
            "align_self": null,
            "border": null,
            "bottom": null,
            "display": null,
            "flex": null,
            "flex_flow": null,
            "grid_area": null,
            "grid_auto_columns": null,
            "grid_auto_flow": null,
            "grid_auto_rows": null,
            "grid_column": null,
            "grid_gap": null,
            "grid_row": null,
            "grid_template_areas": null,
            "grid_template_columns": null,
            "grid_template_rows": null,
            "height": null,
            "justify_content": null,
            "justify_items": null,
            "left": null,
            "margin": null,
            "max_height": null,
            "max_width": null,
            "min_height": null,
            "min_width": null,
            "object_fit": null,
            "object_position": null,
            "order": null,
            "overflow": null,
            "overflow_x": null,
            "overflow_y": null,
            "padding": null,
            "right": null,
            "top": null,
            "visibility": null,
            "width": null
          }
        },
        "6a6ce5238fad4aa4b1590b44835000a4": {
          "model_module": "@jupyter-widgets/base",
          "model_name": "LayoutModel",
          "model_module_version": "1.2.0",
          "state": {
            "_model_module": "@jupyter-widgets/base",
            "_model_module_version": "1.2.0",
            "_model_name": "LayoutModel",
            "_view_count": null,
            "_view_module": "@jupyter-widgets/base",
            "_view_module_version": "1.2.0",
            "_view_name": "LayoutView",
            "align_content": null,
            "align_items": null,
            "align_self": null,
            "border": null,
            "bottom": null,
            "display": null,
            "flex": null,
            "flex_flow": null,
            "grid_area": null,
            "grid_auto_columns": null,
            "grid_auto_flow": null,
            "grid_auto_rows": null,
            "grid_column": null,
            "grid_gap": null,
            "grid_row": null,
            "grid_template_areas": null,
            "grid_template_columns": null,
            "grid_template_rows": null,
            "height": null,
            "justify_content": null,
            "justify_items": null,
            "left": null,
            "margin": null,
            "max_height": null,
            "max_width": null,
            "min_height": null,
            "min_width": null,
            "object_fit": null,
            "object_position": null,
            "order": null,
            "overflow": null,
            "overflow_x": null,
            "overflow_y": null,
            "padding": null,
            "right": null,
            "top": null,
            "visibility": null,
            "width": null
          }
        },
        "ee3913434a5b4dc9b0275af7c3c14d2f": {
          "model_module": "@jupyter-widgets/controls",
          "model_name": "DescriptionStyleModel",
          "model_module_version": "1.5.0",
          "state": {
            "_model_module": "@jupyter-widgets/controls",
            "_model_module_version": "1.5.0",
            "_model_name": "DescriptionStyleModel",
            "_view_count": null,
            "_view_module": "@jupyter-widgets/base",
            "_view_module_version": "1.2.0",
            "_view_name": "StyleView",
            "description_width": ""
          }
        },
        "1251178dc4f9458ab7c97ad3c34ed95d": {
          "model_module": "@jupyter-widgets/base",
          "model_name": "LayoutModel",
          "model_module_version": "1.2.0",
          "state": {
            "_model_module": "@jupyter-widgets/base",
            "_model_module_version": "1.2.0",
            "_model_name": "LayoutModel",
            "_view_count": null,
            "_view_module": "@jupyter-widgets/base",
            "_view_module_version": "1.2.0",
            "_view_name": "LayoutView",
            "align_content": null,
            "align_items": null,
            "align_self": null,
            "border": null,
            "bottom": null,
            "display": null,
            "flex": null,
            "flex_flow": null,
            "grid_area": null,
            "grid_auto_columns": null,
            "grid_auto_flow": null,
            "grid_auto_rows": null,
            "grid_column": null,
            "grid_gap": null,
            "grid_row": null,
            "grid_template_areas": null,
            "grid_template_columns": null,
            "grid_template_rows": null,
            "height": null,
            "justify_content": null,
            "justify_items": null,
            "left": null,
            "margin": null,
            "max_height": null,
            "max_width": null,
            "min_height": null,
            "min_width": null,
            "object_fit": null,
            "object_position": null,
            "order": null,
            "overflow": null,
            "overflow_x": null,
            "overflow_y": null,
            "padding": null,
            "right": null,
            "top": null,
            "visibility": null,
            "width": null
          }
        },
        "c4e65bd2aee241da8cdb037456939885": {
          "model_module": "@jupyter-widgets/controls",
          "model_name": "ProgressStyleModel",
          "model_module_version": "1.5.0",
          "state": {
            "_model_module": "@jupyter-widgets/controls",
            "_model_module_version": "1.5.0",
            "_model_name": "ProgressStyleModel",
            "_view_count": null,
            "_view_module": "@jupyter-widgets/base",
            "_view_module_version": "1.2.0",
            "_view_name": "StyleView",
            "bar_color": null,
            "description_width": ""
          }
        },
        "28f2d9a557914a3bb127961ce23953f8": {
          "model_module": "@jupyter-widgets/base",
          "model_name": "LayoutModel",
          "model_module_version": "1.2.0",
          "state": {
            "_model_module": "@jupyter-widgets/base",
            "_model_module_version": "1.2.0",
            "_model_name": "LayoutModel",
            "_view_count": null,
            "_view_module": "@jupyter-widgets/base",
            "_view_module_version": "1.2.0",
            "_view_name": "LayoutView",
            "align_content": null,
            "align_items": null,
            "align_self": null,
            "border": null,
            "bottom": null,
            "display": null,
            "flex": null,
            "flex_flow": null,
            "grid_area": null,
            "grid_auto_columns": null,
            "grid_auto_flow": null,
            "grid_auto_rows": null,
            "grid_column": null,
            "grid_gap": null,
            "grid_row": null,
            "grid_template_areas": null,
            "grid_template_columns": null,
            "grid_template_rows": null,
            "height": null,
            "justify_content": null,
            "justify_items": null,
            "left": null,
            "margin": null,
            "max_height": null,
            "max_width": null,
            "min_height": null,
            "min_width": null,
            "object_fit": null,
            "object_position": null,
            "order": null,
            "overflow": null,
            "overflow_x": null,
            "overflow_y": null,
            "padding": null,
            "right": null,
            "top": null,
            "visibility": null,
            "width": null
          }
        },
        "2a541266a2024d9dac5f1b9a58cf69cc": {
          "model_module": "@jupyter-widgets/controls",
          "model_name": "DescriptionStyleModel",
          "model_module_version": "1.5.0",
          "state": {
            "_model_module": "@jupyter-widgets/controls",
            "_model_module_version": "1.5.0",
            "_model_name": "DescriptionStyleModel",
            "_view_count": null,
            "_view_module": "@jupyter-widgets/base",
            "_view_module_version": "1.2.0",
            "_view_name": "StyleView",
            "description_width": ""
          }
        },
        "095ee6561fd44ebd8be6728bff2324ac": {
          "model_module": "@jupyter-widgets/controls",
          "model_name": "HBoxModel",
          "model_module_version": "1.5.0",
          "state": {
            "_dom_classes": [],
            "_model_module": "@jupyter-widgets/controls",
            "_model_module_version": "1.5.0",
            "_model_name": "HBoxModel",
            "_view_count": null,
            "_view_module": "@jupyter-widgets/controls",
            "_view_module_version": "1.5.0",
            "_view_name": "HBoxView",
            "box_style": "",
            "children": [
              "IPY_MODEL_0a17aaac5f5842f3947a3e2a161ed3ec",
              "IPY_MODEL_3ee8fc739b8c46f58a46fe5373ed2a9d",
              "IPY_MODEL_c6d02e90509e4226a5e9f0ee701da719"
            ],
            "layout": "IPY_MODEL_8452814397304c4ab9c1099a094cd0b5"
          }
        },
        "0a17aaac5f5842f3947a3e2a161ed3ec": {
          "model_module": "@jupyter-widgets/controls",
          "model_name": "HTMLModel",
          "model_module_version": "1.5.0",
          "state": {
            "_dom_classes": [],
            "_model_module": "@jupyter-widgets/controls",
            "_model_module_version": "1.5.0",
            "_model_name": "HTMLModel",
            "_view_count": null,
            "_view_module": "@jupyter-widgets/controls",
            "_view_module_version": "1.5.0",
            "_view_name": "HTMLView",
            "description": "",
            "description_tooltip": null,
            "layout": "IPY_MODEL_1942228dd5324e7eb7ac7c53941d4610",
            "placeholder": "​",
            "style": "IPY_MODEL_3d9fa6a1ff624a5b8328b9ed31717b80",
            "value": "Downloading (…)/main/tokenizer.json: 100%"
          }
        },
        "3ee8fc739b8c46f58a46fe5373ed2a9d": {
          "model_module": "@jupyter-widgets/controls",
          "model_name": "FloatProgressModel",
          "model_module_version": "1.5.0",
          "state": {
            "_dom_classes": [],
            "_model_module": "@jupyter-widgets/controls",
            "_model_module_version": "1.5.0",
            "_model_name": "FloatProgressModel",
            "_view_count": null,
            "_view_module": "@jupyter-widgets/controls",
            "_view_module_version": "1.5.0",
            "_view_name": "ProgressView",
            "bar_style": "success",
            "description": "",
            "description_tooltip": null,
            "layout": "IPY_MODEL_cec26a1c9dd64964afdf90a2a618b6b3",
            "max": 9096735,
            "min": 0,
            "orientation": "horizontal",
            "style": "IPY_MODEL_6b5af9dfd4c6439cbf6c97a6c01667b9",
            "value": 9096735
          }
        },
        "c6d02e90509e4226a5e9f0ee701da719": {
          "model_module": "@jupyter-widgets/controls",
          "model_name": "HTMLModel",
          "model_module_version": "1.5.0",
          "state": {
            "_dom_classes": [],
            "_model_module": "@jupyter-widgets/controls",
            "_model_module_version": "1.5.0",
            "_model_name": "HTMLModel",
            "_view_count": null,
            "_view_module": "@jupyter-widgets/controls",
            "_view_module_version": "1.5.0",
            "_view_name": "HTMLView",
            "description": "",
            "description_tooltip": null,
            "layout": "IPY_MODEL_12f6e5ccaad54f5691920f52f37798ab",
            "placeholder": "​",
            "style": "IPY_MODEL_48961d9dcf9c43a6b48f4bc4867a15aa",
            "value": " 9.10M/9.10M [00:00&lt;00:00, 17.0MB/s]"
          }
        },
        "8452814397304c4ab9c1099a094cd0b5": {
          "model_module": "@jupyter-widgets/base",
          "model_name": "LayoutModel",
          "model_module_version": "1.2.0",
          "state": {
            "_model_module": "@jupyter-widgets/base",
            "_model_module_version": "1.2.0",
            "_model_name": "LayoutModel",
            "_view_count": null,
            "_view_module": "@jupyter-widgets/base",
            "_view_module_version": "1.2.0",
            "_view_name": "LayoutView",
            "align_content": null,
            "align_items": null,
            "align_self": null,
            "border": null,
            "bottom": null,
            "display": null,
            "flex": null,
            "flex_flow": null,
            "grid_area": null,
            "grid_auto_columns": null,
            "grid_auto_flow": null,
            "grid_auto_rows": null,
            "grid_column": null,
            "grid_gap": null,
            "grid_row": null,
            "grid_template_areas": null,
            "grid_template_columns": null,
            "grid_template_rows": null,
            "height": null,
            "justify_content": null,
            "justify_items": null,
            "left": null,
            "margin": null,
            "max_height": null,
            "max_width": null,
            "min_height": null,
            "min_width": null,
            "object_fit": null,
            "object_position": null,
            "order": null,
            "overflow": null,
            "overflow_x": null,
            "overflow_y": null,
            "padding": null,
            "right": null,
            "top": null,
            "visibility": null,
            "width": null
          }
        },
        "1942228dd5324e7eb7ac7c53941d4610": {
          "model_module": "@jupyter-widgets/base",
          "model_name": "LayoutModel",
          "model_module_version": "1.2.0",
          "state": {
            "_model_module": "@jupyter-widgets/base",
            "_model_module_version": "1.2.0",
            "_model_name": "LayoutModel",
            "_view_count": null,
            "_view_module": "@jupyter-widgets/base",
            "_view_module_version": "1.2.0",
            "_view_name": "LayoutView",
            "align_content": null,
            "align_items": null,
            "align_self": null,
            "border": null,
            "bottom": null,
            "display": null,
            "flex": null,
            "flex_flow": null,
            "grid_area": null,
            "grid_auto_columns": null,
            "grid_auto_flow": null,
            "grid_auto_rows": null,
            "grid_column": null,
            "grid_gap": null,
            "grid_row": null,
            "grid_template_areas": null,
            "grid_template_columns": null,
            "grid_template_rows": null,
            "height": null,
            "justify_content": null,
            "justify_items": null,
            "left": null,
            "margin": null,
            "max_height": null,
            "max_width": null,
            "min_height": null,
            "min_width": null,
            "object_fit": null,
            "object_position": null,
            "order": null,
            "overflow": null,
            "overflow_x": null,
            "overflow_y": null,
            "padding": null,
            "right": null,
            "top": null,
            "visibility": null,
            "width": null
          }
        },
        "3d9fa6a1ff624a5b8328b9ed31717b80": {
          "model_module": "@jupyter-widgets/controls",
          "model_name": "DescriptionStyleModel",
          "model_module_version": "1.5.0",
          "state": {
            "_model_module": "@jupyter-widgets/controls",
            "_model_module_version": "1.5.0",
            "_model_name": "DescriptionStyleModel",
            "_view_count": null,
            "_view_module": "@jupyter-widgets/base",
            "_view_module_version": "1.2.0",
            "_view_name": "StyleView",
            "description_width": ""
          }
        },
        "cec26a1c9dd64964afdf90a2a618b6b3": {
          "model_module": "@jupyter-widgets/base",
          "model_name": "LayoutModel",
          "model_module_version": "1.2.0",
          "state": {
            "_model_module": "@jupyter-widgets/base",
            "_model_module_version": "1.2.0",
            "_model_name": "LayoutModel",
            "_view_count": null,
            "_view_module": "@jupyter-widgets/base",
            "_view_module_version": "1.2.0",
            "_view_name": "LayoutView",
            "align_content": null,
            "align_items": null,
            "align_self": null,
            "border": null,
            "bottom": null,
            "display": null,
            "flex": null,
            "flex_flow": null,
            "grid_area": null,
            "grid_auto_columns": null,
            "grid_auto_flow": null,
            "grid_auto_rows": null,
            "grid_column": null,
            "grid_gap": null,
            "grid_row": null,
            "grid_template_areas": null,
            "grid_template_columns": null,
            "grid_template_rows": null,
            "height": null,
            "justify_content": null,
            "justify_items": null,
            "left": null,
            "margin": null,
            "max_height": null,
            "max_width": null,
            "min_height": null,
            "min_width": null,
            "object_fit": null,
            "object_position": null,
            "order": null,
            "overflow": null,
            "overflow_x": null,
            "overflow_y": null,
            "padding": null,
            "right": null,
            "top": null,
            "visibility": null,
            "width": null
          }
        },
        "6b5af9dfd4c6439cbf6c97a6c01667b9": {
          "model_module": "@jupyter-widgets/controls",
          "model_name": "ProgressStyleModel",
          "model_module_version": "1.5.0",
          "state": {
            "_model_module": "@jupyter-widgets/controls",
            "_model_module_version": "1.5.0",
            "_model_name": "ProgressStyleModel",
            "_view_count": null,
            "_view_module": "@jupyter-widgets/base",
            "_view_module_version": "1.2.0",
            "_view_name": "StyleView",
            "bar_color": null,
            "description_width": ""
          }
        },
        "12f6e5ccaad54f5691920f52f37798ab": {
          "model_module": "@jupyter-widgets/base",
          "model_name": "LayoutModel",
          "model_module_version": "1.2.0",
          "state": {
            "_model_module": "@jupyter-widgets/base",
            "_model_module_version": "1.2.0",
            "_model_name": "LayoutModel",
            "_view_count": null,
            "_view_module": "@jupyter-widgets/base",
            "_view_module_version": "1.2.0",
            "_view_name": "LayoutView",
            "align_content": null,
            "align_items": null,
            "align_self": null,
            "border": null,
            "bottom": null,
            "display": null,
            "flex": null,
            "flex_flow": null,
            "grid_area": null,
            "grid_auto_columns": null,
            "grid_auto_flow": null,
            "grid_auto_rows": null,
            "grid_column": null,
            "grid_gap": null,
            "grid_row": null,
            "grid_template_areas": null,
            "grid_template_columns": null,
            "grid_template_rows": null,
            "height": null,
            "justify_content": null,
            "justify_items": null,
            "left": null,
            "margin": null,
            "max_height": null,
            "max_width": null,
            "min_height": null,
            "min_width": null,
            "object_fit": null,
            "object_position": null,
            "order": null,
            "overflow": null,
            "overflow_x": null,
            "overflow_y": null,
            "padding": null,
            "right": null,
            "top": null,
            "visibility": null,
            "width": null
          }
        },
        "48961d9dcf9c43a6b48f4bc4867a15aa": {
          "model_module": "@jupyter-widgets/controls",
          "model_name": "DescriptionStyleModel",
          "model_module_version": "1.5.0",
          "state": {
            "_model_module": "@jupyter-widgets/controls",
            "_model_module_version": "1.5.0",
            "_model_name": "DescriptionStyleModel",
            "_view_count": null,
            "_view_module": "@jupyter-widgets/base",
            "_view_module_version": "1.2.0",
            "_view_name": "StyleView",
            "description_width": ""
          }
        },
        "fb44845c21874274b97e31d92684aa29": {
          "model_module": "@jupyter-widgets/controls",
          "model_name": "HBoxModel",
          "model_module_version": "1.5.0",
          "state": {
            "_dom_classes": [],
            "_model_module": "@jupyter-widgets/controls",
            "_model_module_version": "1.5.0",
            "_model_name": "HBoxModel",
            "_view_count": null,
            "_view_module": "@jupyter-widgets/controls",
            "_view_module_version": "1.5.0",
            "_view_name": "HBoxView",
            "box_style": "",
            "children": [
              "IPY_MODEL_44787912719a4d6398db2b13b2512045",
              "IPY_MODEL_17378eded27a44fa84f0d5facd67fde3",
              "IPY_MODEL_493ff8ddd94c45d9aa6c327951270d73"
            ],
            "layout": "IPY_MODEL_2373c6c42ece476095da0779cce234c0"
          }
        },
        "44787912719a4d6398db2b13b2512045": {
          "model_module": "@jupyter-widgets/controls",
          "model_name": "HTMLModel",
          "model_module_version": "1.5.0",
          "state": {
            "_dom_classes": [],
            "_model_module": "@jupyter-widgets/controls",
            "_model_module_version": "1.5.0",
            "_model_name": "HTMLModel",
            "_view_count": null,
            "_view_module": "@jupyter-widgets/controls",
            "_view_module_version": "1.5.0",
            "_view_name": "HTMLView",
            "description": "",
            "description_tooltip": null,
            "layout": "IPY_MODEL_6219d06868ba48ae806ee8d110e96a99",
            "placeholder": "​",
            "style": "IPY_MODEL_516b97851e974f15ba96ddc054e9778d",
            "value": "Downloading (…)cial_tokens_map.json: 100%"
          }
        },
        "17378eded27a44fa84f0d5facd67fde3": {
          "model_module": "@jupyter-widgets/controls",
          "model_name": "FloatProgressModel",
          "model_module_version": "1.5.0",
          "state": {
            "_dom_classes": [],
            "_model_module": "@jupyter-widgets/controls",
            "_model_module_version": "1.5.0",
            "_model_name": "FloatProgressModel",
            "_view_count": null,
            "_view_module": "@jupyter-widgets/controls",
            "_view_module_version": "1.5.0",
            "_view_name": "ProgressView",
            "bar_style": "success",
            "description": "",
            "description_tooltip": null,
            "layout": "IPY_MODEL_8561cd3f4eea4846a2e60214bb2790c7",
            "max": 150,
            "min": 0,
            "orientation": "horizontal",
            "style": "IPY_MODEL_f63dc0badf6c4fb28338d0f0c811c4c3",
            "value": 150
          }
        },
        "493ff8ddd94c45d9aa6c327951270d73": {
          "model_module": "@jupyter-widgets/controls",
          "model_name": "HTMLModel",
          "model_module_version": "1.5.0",
          "state": {
            "_dom_classes": [],
            "_model_module": "@jupyter-widgets/controls",
            "_model_module_version": "1.5.0",
            "_model_name": "HTMLModel",
            "_view_count": null,
            "_view_module": "@jupyter-widgets/controls",
            "_view_module_version": "1.5.0",
            "_view_name": "HTMLView",
            "description": "",
            "description_tooltip": null,
            "layout": "IPY_MODEL_c37500dedde349daa506c4eea6a3e241",
            "placeholder": "​",
            "style": "IPY_MODEL_ebdf8db9d11249f8bdfc15265ba0e835",
            "value": " 150/150 [00:00&lt;00:00, 2.80kB/s]"
          }
        },
        "2373c6c42ece476095da0779cce234c0": {
          "model_module": "@jupyter-widgets/base",
          "model_name": "LayoutModel",
          "model_module_version": "1.2.0",
          "state": {
            "_model_module": "@jupyter-widgets/base",
            "_model_module_version": "1.2.0",
            "_model_name": "LayoutModel",
            "_view_count": null,
            "_view_module": "@jupyter-widgets/base",
            "_view_module_version": "1.2.0",
            "_view_name": "LayoutView",
            "align_content": null,
            "align_items": null,
            "align_self": null,
            "border": null,
            "bottom": null,
            "display": null,
            "flex": null,
            "flex_flow": null,
            "grid_area": null,
            "grid_auto_columns": null,
            "grid_auto_flow": null,
            "grid_auto_rows": null,
            "grid_column": null,
            "grid_gap": null,
            "grid_row": null,
            "grid_template_areas": null,
            "grid_template_columns": null,
            "grid_template_rows": null,
            "height": null,
            "justify_content": null,
            "justify_items": null,
            "left": null,
            "margin": null,
            "max_height": null,
            "max_width": null,
            "min_height": null,
            "min_width": null,
            "object_fit": null,
            "object_position": null,
            "order": null,
            "overflow": null,
            "overflow_x": null,
            "overflow_y": null,
            "padding": null,
            "right": null,
            "top": null,
            "visibility": null,
            "width": null
          }
        },
        "6219d06868ba48ae806ee8d110e96a99": {
          "model_module": "@jupyter-widgets/base",
          "model_name": "LayoutModel",
          "model_module_version": "1.2.0",
          "state": {
            "_model_module": "@jupyter-widgets/base",
            "_model_module_version": "1.2.0",
            "_model_name": "LayoutModel",
            "_view_count": null,
            "_view_module": "@jupyter-widgets/base",
            "_view_module_version": "1.2.0",
            "_view_name": "LayoutView",
            "align_content": null,
            "align_items": null,
            "align_self": null,
            "border": null,
            "bottom": null,
            "display": null,
            "flex": null,
            "flex_flow": null,
            "grid_area": null,
            "grid_auto_columns": null,
            "grid_auto_flow": null,
            "grid_auto_rows": null,
            "grid_column": null,
            "grid_gap": null,
            "grid_row": null,
            "grid_template_areas": null,
            "grid_template_columns": null,
            "grid_template_rows": null,
            "height": null,
            "justify_content": null,
            "justify_items": null,
            "left": null,
            "margin": null,
            "max_height": null,
            "max_width": null,
            "min_height": null,
            "min_width": null,
            "object_fit": null,
            "object_position": null,
            "order": null,
            "overflow": null,
            "overflow_x": null,
            "overflow_y": null,
            "padding": null,
            "right": null,
            "top": null,
            "visibility": null,
            "width": null
          }
        },
        "516b97851e974f15ba96ddc054e9778d": {
          "model_module": "@jupyter-widgets/controls",
          "model_name": "DescriptionStyleModel",
          "model_module_version": "1.5.0",
          "state": {
            "_model_module": "@jupyter-widgets/controls",
            "_model_module_version": "1.5.0",
            "_model_name": "DescriptionStyleModel",
            "_view_count": null,
            "_view_module": "@jupyter-widgets/base",
            "_view_module_version": "1.2.0",
            "_view_name": "StyleView",
            "description_width": ""
          }
        },
        "8561cd3f4eea4846a2e60214bb2790c7": {
          "model_module": "@jupyter-widgets/base",
          "model_name": "LayoutModel",
          "model_module_version": "1.2.0",
          "state": {
            "_model_module": "@jupyter-widgets/base",
            "_model_module_version": "1.2.0",
            "_model_name": "LayoutModel",
            "_view_count": null,
            "_view_module": "@jupyter-widgets/base",
            "_view_module_version": "1.2.0",
            "_view_name": "LayoutView",
            "align_content": null,
            "align_items": null,
            "align_self": null,
            "border": null,
            "bottom": null,
            "display": null,
            "flex": null,
            "flex_flow": null,
            "grid_area": null,
            "grid_auto_columns": null,
            "grid_auto_flow": null,
            "grid_auto_rows": null,
            "grid_column": null,
            "grid_gap": null,
            "grid_row": null,
            "grid_template_areas": null,
            "grid_template_columns": null,
            "grid_template_rows": null,
            "height": null,
            "justify_content": null,
            "justify_items": null,
            "left": null,
            "margin": null,
            "max_height": null,
            "max_width": null,
            "min_height": null,
            "min_width": null,
            "object_fit": null,
            "object_position": null,
            "order": null,
            "overflow": null,
            "overflow_x": null,
            "overflow_y": null,
            "padding": null,
            "right": null,
            "top": null,
            "visibility": null,
            "width": null
          }
        },
        "f63dc0badf6c4fb28338d0f0c811c4c3": {
          "model_module": "@jupyter-widgets/controls",
          "model_name": "ProgressStyleModel",
          "model_module_version": "1.5.0",
          "state": {
            "_model_module": "@jupyter-widgets/controls",
            "_model_module_version": "1.5.0",
            "_model_name": "ProgressStyleModel",
            "_view_count": null,
            "_view_module": "@jupyter-widgets/base",
            "_view_module_version": "1.2.0",
            "_view_name": "StyleView",
            "bar_color": null,
            "description_width": ""
          }
        },
        "c37500dedde349daa506c4eea6a3e241": {
          "model_module": "@jupyter-widgets/base",
          "model_name": "LayoutModel",
          "model_module_version": "1.2.0",
          "state": {
            "_model_module": "@jupyter-widgets/base",
            "_model_module_version": "1.2.0",
            "_model_name": "LayoutModel",
            "_view_count": null,
            "_view_module": "@jupyter-widgets/base",
            "_view_module_version": "1.2.0",
            "_view_name": "LayoutView",
            "align_content": null,
            "align_items": null,
            "align_self": null,
            "border": null,
            "bottom": null,
            "display": null,
            "flex": null,
            "flex_flow": null,
            "grid_area": null,
            "grid_auto_columns": null,
            "grid_auto_flow": null,
            "grid_auto_rows": null,
            "grid_column": null,
            "grid_gap": null,
            "grid_row": null,
            "grid_template_areas": null,
            "grid_template_columns": null,
            "grid_template_rows": null,
            "height": null,
            "justify_content": null,
            "justify_items": null,
            "left": null,
            "margin": null,
            "max_height": null,
            "max_width": null,
            "min_height": null,
            "min_width": null,
            "object_fit": null,
            "object_position": null,
            "order": null,
            "overflow": null,
            "overflow_x": null,
            "overflow_y": null,
            "padding": null,
            "right": null,
            "top": null,
            "visibility": null,
            "width": null
          }
        },
        "ebdf8db9d11249f8bdfc15265ba0e835": {
          "model_module": "@jupyter-widgets/controls",
          "model_name": "DescriptionStyleModel",
          "model_module_version": "1.5.0",
          "state": {
            "_model_module": "@jupyter-widgets/controls",
            "_model_module_version": "1.5.0",
            "_model_name": "DescriptionStyleModel",
            "_view_count": null,
            "_view_module": "@jupyter-widgets/base",
            "_view_module_version": "1.2.0",
            "_view_name": "StyleView",
            "description_width": ""
          }
        },
        "428b5d45057d44f4bdcb4d7e20aff985": {
          "model_module": "@jupyter-widgets/controls",
          "model_name": "HBoxModel",
          "model_module_version": "1.5.0",
          "state": {
            "_dom_classes": [],
            "_model_module": "@jupyter-widgets/controls",
            "_model_module_version": "1.5.0",
            "_model_name": "HBoxModel",
            "_view_count": null,
            "_view_module": "@jupyter-widgets/controls",
            "_view_module_version": "1.5.0",
            "_view_name": "HBoxView",
            "box_style": "",
            "children": [
              "IPY_MODEL_3fa6d175bd1f484c97aafe899d518b17",
              "IPY_MODEL_f75acdbfe86844b894e56fdc2a575105",
              "IPY_MODEL_cafffce0154f4cd6a3c313e80434266c"
            ],
            "layout": "IPY_MODEL_4d30a531d4844e1ca21833baae562160"
          }
        },
        "3fa6d175bd1f484c97aafe899d518b17": {
          "model_module": "@jupyter-widgets/controls",
          "model_name": "HTMLModel",
          "model_module_version": "1.5.0",
          "state": {
            "_dom_classes": [],
            "_model_module": "@jupyter-widgets/controls",
            "_model_module_version": "1.5.0",
            "_model_name": "HTMLModel",
            "_view_count": null,
            "_view_module": "@jupyter-widgets/controls",
            "_view_module_version": "1.5.0",
            "_view_name": "HTMLView",
            "description": "",
            "description_tooltip": null,
            "layout": "IPY_MODEL_e551fc6967a4400cb47437f17f6a2fbc",
            "placeholder": "​",
            "style": "IPY_MODEL_b7b8dbc88faf41729bbc4370eb6f6243",
            "value": "Downloading pytorch_model.bin: 100%"
          }
        },
        "f75acdbfe86844b894e56fdc2a575105": {
          "model_module": "@jupyter-widgets/controls",
          "model_name": "FloatProgressModel",
          "model_module_version": "1.5.0",
          "state": {
            "_dom_classes": [],
            "_model_module": "@jupyter-widgets/controls",
            "_model_module_version": "1.5.0",
            "_model_name": "FloatProgressModel",
            "_view_count": null,
            "_view_module": "@jupyter-widgets/controls",
            "_view_module_version": "1.5.0",
            "_view_name": "ProgressView",
            "bar_style": "success",
            "description": "",
            "description_tooltip": null,
            "layout": "IPY_MODEL_e9a2ba60d0d04494ba1b7cb2d5de395c",
            "max": 2235540992,
            "min": 0,
            "orientation": "horizontal",
            "style": "IPY_MODEL_3e7e930a1a5d4b7fa1e8da271bdfee9a",
            "value": 2235540992
          }
        },
        "cafffce0154f4cd6a3c313e80434266c": {
          "model_module": "@jupyter-widgets/controls",
          "model_name": "HTMLModel",
          "model_module_version": "1.5.0",
          "state": {
            "_dom_classes": [],
            "_model_module": "@jupyter-widgets/controls",
            "_model_module_version": "1.5.0",
            "_model_name": "HTMLModel",
            "_view_count": null,
            "_view_module": "@jupyter-widgets/controls",
            "_view_module_version": "1.5.0",
            "_view_name": "HTMLView",
            "description": "",
            "description_tooltip": null,
            "layout": "IPY_MODEL_0e68e9e03e08456f94542670ff8755c4",
            "placeholder": "​",
            "style": "IPY_MODEL_3a2f858dd84b4ddaa5d8d942ff5012b4",
            "value": " 2.24G/2.24G [00:26&lt;00:00, 130MB/s]"
          }
        },
        "4d30a531d4844e1ca21833baae562160": {
          "model_module": "@jupyter-widgets/base",
          "model_name": "LayoutModel",
          "model_module_version": "1.2.0",
          "state": {
            "_model_module": "@jupyter-widgets/base",
            "_model_module_version": "1.2.0",
            "_model_name": "LayoutModel",
            "_view_count": null,
            "_view_module": "@jupyter-widgets/base",
            "_view_module_version": "1.2.0",
            "_view_name": "LayoutView",
            "align_content": null,
            "align_items": null,
            "align_self": null,
            "border": null,
            "bottom": null,
            "display": null,
            "flex": null,
            "flex_flow": null,
            "grid_area": null,
            "grid_auto_columns": null,
            "grid_auto_flow": null,
            "grid_auto_rows": null,
            "grid_column": null,
            "grid_gap": null,
            "grid_row": null,
            "grid_template_areas": null,
            "grid_template_columns": null,
            "grid_template_rows": null,
            "height": null,
            "justify_content": null,
            "justify_items": null,
            "left": null,
            "margin": null,
            "max_height": null,
            "max_width": null,
            "min_height": null,
            "min_width": null,
            "object_fit": null,
            "object_position": null,
            "order": null,
            "overflow": null,
            "overflow_x": null,
            "overflow_y": null,
            "padding": null,
            "right": null,
            "top": null,
            "visibility": null,
            "width": null
          }
        },
        "e551fc6967a4400cb47437f17f6a2fbc": {
          "model_module": "@jupyter-widgets/base",
          "model_name": "LayoutModel",
          "model_module_version": "1.2.0",
          "state": {
            "_model_module": "@jupyter-widgets/base",
            "_model_module_version": "1.2.0",
            "_model_name": "LayoutModel",
            "_view_count": null,
            "_view_module": "@jupyter-widgets/base",
            "_view_module_version": "1.2.0",
            "_view_name": "LayoutView",
            "align_content": null,
            "align_items": null,
            "align_self": null,
            "border": null,
            "bottom": null,
            "display": null,
            "flex": null,
            "flex_flow": null,
            "grid_area": null,
            "grid_auto_columns": null,
            "grid_auto_flow": null,
            "grid_auto_rows": null,
            "grid_column": null,
            "grid_gap": null,
            "grid_row": null,
            "grid_template_areas": null,
            "grid_template_columns": null,
            "grid_template_rows": null,
            "height": null,
            "justify_content": null,
            "justify_items": null,
            "left": null,
            "margin": null,
            "max_height": null,
            "max_width": null,
            "min_height": null,
            "min_width": null,
            "object_fit": null,
            "object_position": null,
            "order": null,
            "overflow": null,
            "overflow_x": null,
            "overflow_y": null,
            "padding": null,
            "right": null,
            "top": null,
            "visibility": null,
            "width": null
          }
        },
        "b7b8dbc88faf41729bbc4370eb6f6243": {
          "model_module": "@jupyter-widgets/controls",
          "model_name": "DescriptionStyleModel",
          "model_module_version": "1.5.0",
          "state": {
            "_model_module": "@jupyter-widgets/controls",
            "_model_module_version": "1.5.0",
            "_model_name": "DescriptionStyleModel",
            "_view_count": null,
            "_view_module": "@jupyter-widgets/base",
            "_view_module_version": "1.2.0",
            "_view_name": "StyleView",
            "description_width": ""
          }
        },
        "e9a2ba60d0d04494ba1b7cb2d5de395c": {
          "model_module": "@jupyter-widgets/base",
          "model_name": "LayoutModel",
          "model_module_version": "1.2.0",
          "state": {
            "_model_module": "@jupyter-widgets/base",
            "_model_module_version": "1.2.0",
            "_model_name": "LayoutModel",
            "_view_count": null,
            "_view_module": "@jupyter-widgets/base",
            "_view_module_version": "1.2.0",
            "_view_name": "LayoutView",
            "align_content": null,
            "align_items": null,
            "align_self": null,
            "border": null,
            "bottom": null,
            "display": null,
            "flex": null,
            "flex_flow": null,
            "grid_area": null,
            "grid_auto_columns": null,
            "grid_auto_flow": null,
            "grid_auto_rows": null,
            "grid_column": null,
            "grid_gap": null,
            "grid_row": null,
            "grid_template_areas": null,
            "grid_template_columns": null,
            "grid_template_rows": null,
            "height": null,
            "justify_content": null,
            "justify_items": null,
            "left": null,
            "margin": null,
            "max_height": null,
            "max_width": null,
            "min_height": null,
            "min_width": null,
            "object_fit": null,
            "object_position": null,
            "order": null,
            "overflow": null,
            "overflow_x": null,
            "overflow_y": null,
            "padding": null,
            "right": null,
            "top": null,
            "visibility": null,
            "width": null
          }
        },
        "3e7e930a1a5d4b7fa1e8da271bdfee9a": {
          "model_module": "@jupyter-widgets/controls",
          "model_name": "ProgressStyleModel",
          "model_module_version": "1.5.0",
          "state": {
            "_model_module": "@jupyter-widgets/controls",
            "_model_module_version": "1.5.0",
            "_model_name": "ProgressStyleModel",
            "_view_count": null,
            "_view_module": "@jupyter-widgets/base",
            "_view_module_version": "1.2.0",
            "_view_name": "StyleView",
            "bar_color": null,
            "description_width": ""
          }
        },
        "0e68e9e03e08456f94542670ff8755c4": {
          "model_module": "@jupyter-widgets/base",
          "model_name": "LayoutModel",
          "model_module_version": "1.2.0",
          "state": {
            "_model_module": "@jupyter-widgets/base",
            "_model_module_version": "1.2.0",
            "_model_name": "LayoutModel",
            "_view_count": null,
            "_view_module": "@jupyter-widgets/base",
            "_view_module_version": "1.2.0",
            "_view_name": "LayoutView",
            "align_content": null,
            "align_items": null,
            "align_self": null,
            "border": null,
            "bottom": null,
            "display": null,
            "flex": null,
            "flex_flow": null,
            "grid_area": null,
            "grid_auto_columns": null,
            "grid_auto_flow": null,
            "grid_auto_rows": null,
            "grid_column": null,
            "grid_gap": null,
            "grid_row": null,
            "grid_template_areas": null,
            "grid_template_columns": null,
            "grid_template_rows": null,
            "height": null,
            "justify_content": null,
            "justify_items": null,
            "left": null,
            "margin": null,
            "max_height": null,
            "max_width": null,
            "min_height": null,
            "min_width": null,
            "object_fit": null,
            "object_position": null,
            "order": null,
            "overflow": null,
            "overflow_x": null,
            "overflow_y": null,
            "padding": null,
            "right": null,
            "top": null,
            "visibility": null,
            "width": null
          }
        },
        "3a2f858dd84b4ddaa5d8d942ff5012b4": {
          "model_module": "@jupyter-widgets/controls",
          "model_name": "DescriptionStyleModel",
          "model_module_version": "1.5.0",
          "state": {
            "_model_module": "@jupyter-widgets/controls",
            "_model_module_version": "1.5.0",
            "_model_name": "DescriptionStyleModel",
            "_view_count": null,
            "_view_module": "@jupyter-widgets/base",
            "_view_module_version": "1.2.0",
            "_view_name": "StyleView",
            "description_width": ""
          }
        }
      }
    },
    "accelerator": "GPU",
    "gpuClass": "standard"
  },
  "cells": [
    {
      "cell_type": "code",
      "source": [
        "import json\n",
        "import pandas as pd\n",
        "from tqdm import tqdm, trange\n",
        "import numpy as np\n",
        "import re\n",
        "from pprint import pprint\n",
        "import random\n",
        "import torch\n",
        "import gc"
      ],
      "metadata": {
        "id": "nJHmGIg6aA6e"
      },
      "execution_count": 2,
      "outputs": []
    },
    {
      "cell_type": "code",
      "source": [
        "with open(f'train.json', 'rb') as f:\n",
        "    train = json.load(f)\n",
        "\n",
        "with open(f'test.json', 'rb') as f:\n",
        "    test = json.load(f)"
      ],
      "metadata": {
        "id": "5Ug_dK2laYNi"
      },
      "execution_count": 3,
      "outputs": []
    },
    {
      "cell_type": "code",
      "source": [
        "pprint(train[0])\n",
        "pprint(test[0])"
      ],
      "metadata": {
        "colab": {
          "base_uri": "https://localhost:8080/"
        },
        "id": "tCwPRJwBs2je",
        "outputId": "aa99b777-87bb-4119-8d42-5adf5ed05238"
      },
      "execution_count": 4,
      "outputs": [
        {
          "output_type": "stream",
          "name": "stdout",
          "text": [
            "{'extracted_part': {'answer_end': [1343],\n",
            "                    'answer_start': [1279],\n",
            "                    'text': ['Размер обеспечения исполнения контракта 6593.25 '\n",
            "                             'Российский рубль']},\n",
            " 'id': 809436509,\n",
            " 'label': 'обеспечение исполнения контракта',\n",
            " 'text': 'Извещение о проведении открытого конкурса в электронной форме для '\n",
            "         'закупки №0328300032822000806 Общая информация Номер извещения '\n",
            "         '0328300032822000806 Наименование объекта закупки Поставка продуктов '\n",
            "         'питания Способ определения поставщика (подрядчика, исполнителя) '\n",
            "         'Открытый конкурс в бль Порядок внесения денежных средств в качестве '\n",
            "         'обеспечения заявки на участие в закупке, а также условия гарантии '\n",
            "         'Обеспечение заявки на участие в закупке может предоставляться '\n",
            "         'участником закупки в виде денежных средств или независимой гарантии, '\n",
            "         'предусмотренной ст. 45 Федерального закона № 44-ФЗ. Выбор способа '\n",
            "         'обеспечения осуществляется участником закупки самостоятельно. Срок '\n",
            "         'действия независимой гарантии должен составлять не менее месяца с '\n",
            "         'даты окончания срока подачи заявок. Обеспечение заявки на участие в '\n",
            "         'закупке предоставляется в соответствии с ч. 5 ст. 44 Федерального '\n",
            "         'закона № 44-ФЗ. Условия независимой гарантии в соответствии со ст. '\n",
            "         '45 Федерального закона № 44-ФЗ. Реквизиты счета в соответствии с '\n",
            "         'п.16 ч. 1 ст. 42 Закона № 44-ФЗ \"Номер расчётного счёта\" '\n",
            "         '00000000000000000000 \"Номер лицевого счёта\" См. прилагаемые '\n",
            "         'документы \"БИК\" 000000000 \"Наименование кредитной организации\" '\n",
            "         '\"Номер корреспондентского счета\" Обеспечение исполнения контракта '\n",
            "         'Требуется обеспечение исполнения контракта Размер обеспечения '\n",
            "         'исполнения контракта 6593.25 Российский рубль Порядок обеспечения '\n",
            "         'исполнения контракта, требования к обеспечению Исполнение контракта, '\n",
            "         'гарантийные обязательства могут обеспечиваться предоставлением '\n",
            "         'независимой гарантии, соответствующей требованиям ст. 45 '\n",
            "         'Федерального закона № 44-ФЗ, или внесением денежных средств на '\n",
            "         'указанный заказчиком счет, на котором в соответствии с '\n",
            "         'законодательством Российской Федерации учитываются операции со '\n",
            "         'средствами, поступающими заказчику. Способ обеспечения исполнения '\n",
            "         'контракта, гарантийных обязательств, срок действия независимой '\n",
            "         'гарантии определяются в соответствии с требованиями Федерального '\n",
            "         'закона № 44-ФЗ участником закупки, с которым заключается контракт, '\n",
            "         'самостоятельно. При этом срок действия независимой гарантии должен '\n",
            "         'превышать предусмотренный контрактом срок исполнения обязательств, '\n",
            "         'которые должны быть обеспечены такой независимой гарантией, не менее '\n",
            "         'чем на один месяц, в том числе в случае его изменения в соответствии '\n",
            "         'со ст. 95 Федерального закона № 44-ФЗ. Порядок предоставления и '\n",
            "         'требования о Информация и документы, подтверждающие соответствие '\n",
            "         'участников закупки дополнительным требованиям: 1) исполненный '\n",
            "         'договор; 2) акт приемки оказанных услуг и (или) поставленных '\n",
            "         'товаров, подтверждающий цену оказанных услуг и (или) поставленных '\n",
            "         'товаров 4'}\n",
            "{'id': 762883279,\n",
            " 'label': 'обеспечение исполнения контракта',\n",
            " 'text': 'МУНИЦИПАЛЬНЫЙ КОНТРАКТ № ______ на оказание услуг по техническому '\n",
            "         'обслуживанию и ремонту принтеров и многофункциональных устройств, '\n",
            "         'заправке и восстановлению картриджей (идентификационный код закупки '\n",
            "         '223861800296886010100100590019511244) г. Ханты-Мансийск «___» '\n",
            "         '____________ 2022 г.  (или) возмещения убытков причинённых '\n",
            "         'Исполнителем убытков. 6. Обеспечение исполнения контракта 6.1. '\n",
            "         'Исполнение контракта обеспечиваются предоставлением независимой '\n",
            "         'гарантии, выданной банком и соответствующей требованиям Федерального '\n",
            "         'закона от 05.04.2013 № 44-ФЗ «О контрактной системе в сфере закупок '\n",
            "         'товаров, работ, услуг для обеспечения государственных и '\n",
            "         'муниципальных нужд», или внесением денежных средств на указанный '\n",
            "         'заказчиком счет, на котором в соответствии с законодательством '\n",
            "         'Российской Федерации учитываются операции со средствами, '\n",
            "         'поступающими заказчику. Способ обеспечения исполнения контракта, '\n",
            "         'срок действия независимой гарантии определяются в соответствии с '\n",
            "         'требованиями Федерального закона от 05.04.2013 № 44-ФЗ «О '\n",
            "         'контрактной системе в сфере закупок товаров, работ, услуг для '\n",
            "         'обеспечения государственных и муниципальных нужд» участником '\n",
            "         'закупки, с которым заключается контракт, самостоятельно. 6.2. '\n",
            "         'Обеспечение исполнения Контракта предоставляется Заказчику до '\n",
            "         'заключения Контракта. Размер обеспечения исполнения Контракта '\n",
            "         'составляет _______ рублей ____ копеек (5 процентов от цены '\n",
            "         'контракта). Получатель: Комитет по финансам администрации '\n",
            "         'Ханты-Мансийского района (Администрация Ханты-Мансийского района, '\n",
            "         'л/сч 040.01.001.2) ИНН 8618002968 КПП 860101001 Банк плательщика: '\n",
            "         'РКЦ Ханты-Мансийск//УФК по Ханты-Мансийскому автономному округу – '\n",
            "         'Югре г. Ханты-Мансийск, ЕКС 40102810245370000007 БИК 007162163 '\n",
            "         'Казначейский счет 03232643718290008700 В случае заключения контракта '\n",
            "         'по результатам определения Исполнителя в соответствии с пунктом 1 '\n",
            "         'части 1 статьи 30 Федерального закона от 05.04.2013 № 44-ФЗ «О '\n",
            "         'контрактной системе в сфере закупок товаров, работ, услуг для '\n",
            "         'обеспечения государственных и муниципальных нужд» размер обеспечения '\n",
            "         'исполнения контракта, в том числе предоставляемого с учетом '\n",
            "         'положений статьи 37 Федерального закона от 05.04.2013 № 44-ФЗ «О '\n",
            "         'контрактной системе в сфере закупок товаров, работ, услуг для '\n",
            "         'обеспечения государственных и муниципальных нужд», устанавливается '\n",
            "         'от цены, по которой в соответствии с Федерального закона от '\n",
            "         '05.04.2013 № 44-ФЗ «О контрактной системе в сфере 13.Адреса места '\n",
            "         'нахождения, банковские реквизиты и подписи Сторон ЗАКАЗЧИК: '\n",
            "         'Администрация Ханты-Мансийского района Юридический адрес: 628011, '\n",
            "         'Тюменская область, Ханты-Мансийский автономный округ - Югра, г. '\n",
            "         'Ханты-Мансийск, ул. Гагарина, 214 Почтовый адрес: 628011,'}\n"
          ]
        }
      ]
    },
    {
      "cell_type": "code",
      "source": [
        "for d in train:\n",
        "  if len(d['extracted_part']['text']) > 1:\n",
        "    pprint(d)"
      ],
      "metadata": {
        "id": "zw0b91Soewbf"
      },
      "execution_count": 5,
      "outputs": []
    },
    {
      "cell_type": "markdown",
      "source": [
        "No multiple extrated parts presentented in train data"
      ],
      "metadata": {
        "id": "lyODmOQBfHXj"
      }
    },
    {
      "cell_type": "markdown",
      "source": [
        "# Preprocessing: Punctuation restoration"
      ],
      "metadata": {
        "id": "VKCZDh4uO9VD"
      }
    },
    {
      "cell_type": "markdown",
      "source": [
        "## Simplest with regex, only full stops"
      ],
      "metadata": {
        "id": "z1YgZv6dRBO2"
      }
    },
    {
      "cell_type": "code",
      "source": [
        "re.sub(r\"([а-я\\d]) ([А-Я])\", r'\\1. \\2', train[0]['text'])"
      ],
      "metadata": {
        "colab": {
          "base_uri": "https://localhost:8080/",
          "height": 145
        },
        "id": "7FFh6V3nknKA",
        "outputId": "effd4fc8-aef4-4ff8-f0c6-ba92d0fc5d58"
      },
      "execution_count": null,
      "outputs": [
        {
          "output_type": "execute_result",
          "data": {
            "text/plain": [
              "'Извещение о проведении открытого конкурса в электронной форме для закупки №0328300032822000806. Общая информация. Номер извещения 0328300032822000806. Наименование объекта закупки. Поставка продуктов питания. Способ определения поставщика (подрядчика, исполнителя) Открытый конкурс в бль. Порядок внесения денежных средств в качестве обеспечения заявки на участие в закупке, а также условия гарантии. Обеспечение заявки на участие в закупке может предоставляться участником закупки в виде денежных средств или независимой гарантии, предусмотренной ст. 45. Федерального закона № 44-ФЗ. Выбор способа обеспечения осуществляется участником закупки самостоятельно. Срок действия независимой гарантии должен составлять не менее месяца с даты окончания срока подачи заявок. Обеспечение заявки на участие в закупке предоставляется в соответствии с ч. 5 ст. 44. Федерального закона № 44-ФЗ. Условия независимой гарантии в соответствии со ст. 45. Федерального закона № 44-ФЗ. Реквизиты счета в соответствии с п.16 ч. 1 ст. 42. Закона № 44-ФЗ \"Номер расчётного счёта\" 00000000000000000000 \"Номер лицевого счёта\" См. прилагаемые документы \"БИК\" 000000000 \"Наименование кредитной организации\" \"Номер корреспондентского счета\" Обеспечение исполнения контракта. Требуется обеспечение исполнения контракта. Размер обеспечения исполнения контракта 6593.25. Российский рубль. Порядок обеспечения исполнения контракта, требования к обеспечению. Исполнение контракта, гарантийные обязательства могут обеспечиваться предоставлением независимой гарантии, соответствующей требованиям ст. 45. Федерального закона № 44-ФЗ, или внесением денежных средств на указанный заказчиком счет, на котором в соответствии с законодательством. Российской. Федерации учитываются операции со средствами, поступающими заказчику. Способ обеспечения исполнения контракта, гарантийных обязательств, срок действия независимой гарантии определяются в соответствии с требованиями. Федерального закона № 44-ФЗ участником закупки, с которым заключается контракт, самостоятельно. При этом срок действия независимой гарантии должен превышать предусмотренный контрактом срок исполнения обязательств, которые должны быть обеспечены такой независимой гарантией, не менее чем на один месяц, в том числе в случае его изменения в соответствии со ст. 95. Федерального закона № 44-ФЗ. Порядок предоставления и требования о. Информация и документы, подтверждающие соответствие участников закупки дополнительным требованиям: 1) исполненный договор; 2) акт приемки оказанных услуг и (или) поставленных товаров, подтверждающий цену оказанных услуг и (или) поставленных товаров 4'"
            ],
            "application/vnd.google.colaboratory.intrinsic+json": {
              "type": "string"
            }
          },
          "metadata": {},
          "execution_count": 14
        }
      ]
    },
    {
      "cell_type": "code",
      "source": [
        "def restore_full_stops(text):\n",
        "  return re.sub(r\"([а-я]) ([А-Я])\", r'\\1. \\2', text)"
      ],
      "metadata": {
        "id": "LgHYVDqfRRDN"
      },
      "execution_count": null,
      "outputs": []
    },
    {
      "cell_type": "markdown",
      "source": [
        "## With model (not completed), all punctuation"
      ],
      "metadata": {
        "id": "wozpZPd2RHy1"
      }
    },
    {
      "cell_type": "markdown",
      "source": [
        "### ru_punct"
      ],
      "metadata": {
        "id": "I163LSuByP5h"
      }
    },
    {
      "cell_type": "code",
      "source": [
        "!git clone https://github.com/gleb-skobinsky/ru_punct.git\n",
        "!gdown --output /content/ru_punct/ https://drive.google.com/u/0/uc?id=1jHxW4D7O1V4-h-adJxW27QttYvlpC_w6&export=download"
      ],
      "metadata": {
        "id": "oMPpS5KUyVii"
      },
      "execution_count": null,
      "outputs": []
    },
    {
      "cell_type": "code",
      "source": [
        "%cd /content/ru_punct\n",
        "\n",
        "import nltk\n",
        "nltk.download('punkt')\n",
        "\n",
        "!python playing_with_model.py\n",
        "\n",
        "%cd ../.."
      ],
      "metadata": {
        "colab": {
          "base_uri": "https://localhost:8080/"
        },
        "id": "6SD5RqUOyxJc",
        "outputId": "ce165c06-8316-4832-ec9d-79578b842bb8"
      },
      "execution_count": null,
      "outputs": [
        {
          "output_type": "stream",
          "name": "stdout",
          "text": [
            "/content/ru_punct\n"
          ]
        },
        {
          "output_type": "stream",
          "name": "stderr",
          "text": [
            "[nltk_data] Downloading package punkt to /root/nltk_data...\n",
            "[nltk_data]   Package punkt is already up-to-date!\n"
          ]
        },
        {
          "output_type": "stream",
          "name": "stdout",
          "text": [
            "2023-04-16 16:20:22.833368: I tensorflow/core/platform/cpu_feature_guard.cc:182] This TensorFlow binary is optimized to use available CPU instructions in performance-critical operations.\n",
            "To enable the following instructions: AVX2 AVX512F FMA, in other operations, rebuild TensorFlow with the appropriate compiler flags.\n",
            "2023-04-16 16:20:23.809112: W tensorflow/compiler/tf2tensorrt/utils/py_utils.cc:38] TF-TRT Warning: Could not find TensorRT\n",
            "Vocabulary \"content/data_rpocessed/vocabulary\" size: 100002\n",
            "Loading model parameters...\n",
            "2023-04-16 16:20:25.419488: I tensorflow/compiler/xla/stream_executor/cuda/cuda_gpu_executor.cc:996] successful NUMA node read from SysFS had negative value (-1), but there must be at least one NUMA node, so returning NUMA node zero. See more at https://github.com/torvalds/linux/blob/v6.0/Documentation/ABI/testing/sysfs-bus-pci#L344-L355\n",
            "2023-04-16 16:20:25.448540: I tensorflow/compiler/xla/stream_executor/cuda/cuda_gpu_executor.cc:996] successful NUMA node read from SysFS had negative value (-1), but there must be at least one NUMA node, so returning NUMA node zero. See more at https://github.com/torvalds/linux/blob/v6.0/Documentation/ABI/testing/sysfs-bus-pci#L344-L355\n",
            "2023-04-16 16:20:25.448838: I tensorflow/compiler/xla/stream_executor/cuda/cuda_gpu_executor.cc:996] successful NUMA node read from SysFS had negative value (-1), but there must be at least one NUMA node, so returning NUMA node zero. See more at https://github.com/torvalds/linux/blob/v6.0/Documentation/ABI/testing/sysfs-bus-pci#L344-L355\n",
            "2023-04-16 16:20:25.449573: I tensorflow/compiler/xla/stream_executor/cuda/cuda_gpu_executor.cc:996] successful NUMA node read from SysFS had negative value (-1), but there must be at least one NUMA node, so returning NUMA node zero. See more at https://github.com/torvalds/linux/blob/v6.0/Documentation/ABI/testing/sysfs-bus-pci#L344-L355\n",
            "2023-04-16 16:20:25.449799: I tensorflow/compiler/xla/stream_executor/cuda/cuda_gpu_executor.cc:996] successful NUMA node read from SysFS had negative value (-1), but there must be at least one NUMA node, so returning NUMA node zero. See more at https://github.com/torvalds/linux/blob/v6.0/Documentation/ABI/testing/sysfs-bus-pci#L344-L355\n",
            "2023-04-16 16:20:25.450004: I tensorflow/compiler/xla/stream_executor/cuda/cuda_gpu_executor.cc:996] successful NUMA node read from SysFS had negative value (-1), but there must be at least one NUMA node, so returning NUMA node zero. See more at https://github.com/torvalds/linux/blob/v6.0/Documentation/ABI/testing/sysfs-bus-pci#L344-L355\n",
            "2023-04-16 16:20:26.372768: I tensorflow/compiler/xla/stream_executor/cuda/cuda_gpu_executor.cc:996] successful NUMA node read from SysFS had negative value (-1), but there must be at least one NUMA node, so returning NUMA node zero. See more at https://github.com/torvalds/linux/blob/v6.0/Documentation/ABI/testing/sysfs-bus-pci#L344-L355\n",
            "2023-04-16 16:20:26.373090: I tensorflow/compiler/xla/stream_executor/cuda/cuda_gpu_executor.cc:996] successful NUMA node read from SysFS had negative value (-1), but there must be at least one NUMA node, so returning NUMA node zero. See more at https://github.com/torvalds/linux/blob/v6.0/Documentation/ABI/testing/sysfs-bus-pci#L344-L355\n",
            "2023-04-16 16:20:26.373314: I tensorflow/compiler/xla/stream_executor/cuda/cuda_gpu_executor.cc:996] successful NUMA node read from SysFS had negative value (-1), but there must be at least one NUMA node, so returning NUMA node zero. See more at https://github.com/torvalds/linux/blob/v6.0/Documentation/ABI/testing/sysfs-bus-pci#L344-L355\n",
            "2023-04-16 16:20:26.373487: W tensorflow/core/common_runtime/gpu/gpu_bfc_allocator.cc:47] Overriding orig_value setting because the TF_FORCE_GPU_ALLOW_GROWTH environment variable is set. Original config value was 0.\n",
            "2023-04-16 16:20:26.373535: I tensorflow/core/common_runtime/gpu/gpu_device.cc:1635] Created device /job:localhost/replica:0/task:0/device:GPU:0 with 13678 MB memory:  -> device: 0, name: Tesla T4, pci bus id: 0000:00:04.0, compute capability: 7.5\n",
            "Vocabulary \"content/data_rpocessed/vocabulary\" size: 100002\n",
            "Vocabulary \"content/data_rpocessed/punctuations\" size: 4\n",
            "[TensorShape([100002, 256]), TensorShape([256, 4]), TensorShape([1, 4]), TensorShape([256, 512]), TensorShape([512, 512]), TensorShape([1, 512]), TensorShape([512]), TensorShape([256, 256]), TensorShape([512, 256]), TensorShape([256, 256]), TensorShape([1, 256]), TensorShape([512, 512]), TensorShape([256, 512]), TensorShape([1, 512]), TensorShape([512, 256]), TensorShape([256, 256]), TensorShape([1, 256]), TensorShape([256, 512]), TensorShape([256, 512]), TensorShape([1, 512]), TensorShape([256, 256]), TensorShape([256, 256]), TensorShape([1, 256]), TensorShape([256, 512]), TensorShape([256, 512]), TensorShape([1, 512]), TensorShape([256, 256]), TensorShape([256, 256]), TensorShape([1, 256])]\n",
            "Building model...\n",
            "Нажмите Ctrl + C, чтобы выйти.\n",
            "Введите текст без знаков пунктуации: ахуеть запустилось\n",
            "Текст успешно откорректирован: Ахуеть запустилось\n",
            "Введите текст без знаков пунктуации: удобно пиздец\n",
            "Текст успешно откорректирован: Удобно пиздец\n",
            "Введите текст без знаков пунктуации: Извещение о проведении открытого конкурса в электронной форме для закупки №0328300032822000806 Общая информация Номер извещения 0328300032822000806 Наименование объекта закупки Поставка продуктов питания Способ определения поставщика (подрядчика, исполнителя) Открытый конкурс в бль Порядок внесения денежных средств в качестве обеспечения заявки на участие в закупке, а также условия гарантии Обеспечение заявки на участие в закупке может предоставляться участником закупки в виде денежных средств или независимой гарантии, предусмотренной ст. 45 Федерального закона № 44-ФЗ. Выбор способа обеспечения осуществляется участником закупки самостоятельно.\n",
            "Текст успешно откорректирован: Извещение о проведении открытого конкурса в электронной форме для закупки №0328300032822000806 общая информация номер извещения 0328300032822000806 наименование объекта, закупки поставка продуктов питания, способ определения поставщика (подрядчика, исполнителя) открытый конкурс в бль порядок внесения денежных средств в качестве обеспечения заявки на участие в закупке,, а также условия гарантии обеспечение заявки на участие в закупке может предоставляться участником закупки в виде денежных средств или независимой гарантии,, предусмотренной ст. 45 федерального закона № 44-фз. Выбор способа обеспечения осуществляется участником закупки самостоятельно.\n",
            "Введите текст без знаков пунктуации: Traceback (most recent call last):\n",
            "  File \"/content/ru_punct/playing_with_model.py\", line 100, in <module>\n",
            "    input_text = input('Введите текст без знаков пунктуации: ')\n",
            "KeyboardInterrupt\n",
            "^C\n",
            "/\n"
          ]
        }
      ]
    },
    {
      "cell_type": "markdown",
      "source": [
        "### Siblero"
      ],
      "metadata": {
        "id": "FiMk8HYhTZJm"
      }
    },
    {
      "cell_type": "code",
      "source": [
        "import torch\n",
        "\n",
        "model, example_texts, languages, punct, apply_te = torch.hub.load(repo_or_dir='snakers4/silero-models',\n",
        "                                                                  model='silero_te')\n",
        "\n",
        "input_text = train[0]['text']\n",
        "apply_te(input_text, lan='en')"
      ],
      "metadata": {
        "colab": {
          "base_uri": "https://localhost:8080/"
        },
        "id": "h-1BWXjSbx7x",
        "outputId": "93f7c516-f6af-4ac8-e02c-499806b68817"
      },
      "execution_count": null,
      "outputs": [
        {
          "output_type": "stream",
          "name": "stderr",
          "text": [
            "Using cache found in /root/.cache/torch/hub/snakers4_silero-models_master\n"
          ]
        },
        {
          "output_type": "stream",
          "name": "stdout",
          "text": [
            "&\n"
          ]
        },
        {
          "output_type": "error",
          "ename": "IndexError",
          "evalue": "ignored",
          "traceback": [
            "\u001b[0;31m---------------------------------------------------------------------------\u001b[0m",
            "\u001b[0;31mIndexError\u001b[0m                                Traceback (most recent call last)",
            "\u001b[0;32m<ipython-input-10-c2b86ea4b488>\u001b[0m in \u001b[0;36m<cell line: 7>\u001b[0;34m()\u001b[0m\n\u001b[1;32m      5\u001b[0m \u001b[0;34m\u001b[0m\u001b[0m\n\u001b[1;32m      6\u001b[0m \u001b[0minput_text\u001b[0m \u001b[0;34m=\u001b[0m \u001b[0mtrain\u001b[0m\u001b[0;34m[\u001b[0m\u001b[0;36m0\u001b[0m\u001b[0;34m]\u001b[0m\u001b[0;34m[\u001b[0m\u001b[0;34m'text'\u001b[0m\u001b[0;34m]\u001b[0m\u001b[0;34m\u001b[0m\u001b[0;34m\u001b[0m\u001b[0m\n\u001b[0;32m----> 7\u001b[0;31m \u001b[0mapply_te\u001b[0m\u001b[0;34m(\u001b[0m\u001b[0minput_text\u001b[0m\u001b[0;34m,\u001b[0m \u001b[0mlan\u001b[0m\u001b[0;34m=\u001b[0m\u001b[0;34m'en'\u001b[0m\u001b[0;34m)\u001b[0m\u001b[0;34m\u001b[0m\u001b[0;34m\u001b[0m\u001b[0m\n\u001b[0m",
            "\u001b[0;32m~/.cache/torch/hub/snakers4_silero-models_master/src/silero/silero.py\u001b[0m in \u001b[0;36mapply_te\u001b[0;34m(text, lan)\u001b[0m\n\u001b[1;32m    140\u001b[0m \u001b[0;34m\u001b[0m\u001b[0m\n\u001b[1;32m    141\u001b[0m     \u001b[0;32mdef\u001b[0m \u001b[0mapply_te\u001b[0m\u001b[0;34m(\u001b[0m\u001b[0mtext\u001b[0m\u001b[0;34m,\u001b[0m \u001b[0mlan\u001b[0m\u001b[0;34m=\u001b[0m\u001b[0;34m'en'\u001b[0m\u001b[0;34m)\u001b[0m\u001b[0;34m:\u001b[0m\u001b[0;34m\u001b[0m\u001b[0;34m\u001b[0m\u001b[0m\n\u001b[0;32m--> 142\u001b[0;31m         \u001b[0;32mreturn\u001b[0m \u001b[0mmodel\u001b[0m\u001b[0;34m.\u001b[0m\u001b[0menhance_text\u001b[0m\u001b[0;34m(\u001b[0m\u001b[0mtext\u001b[0m\u001b[0;34m,\u001b[0m \u001b[0mlan\u001b[0m\u001b[0;34m)\u001b[0m\u001b[0;34m\u001b[0m\u001b[0;34m\u001b[0m\u001b[0m\n\u001b[0m\u001b[1;32m    143\u001b[0m \u001b[0;34m\u001b[0m\u001b[0m\n\u001b[1;32m    144\u001b[0m     return (model,\n",
            "\u001b[0;32m<torch_package_3>.release_module.py\u001b[0m in \u001b[0;36menhance_text\u001b[0;34m(self, text, lan, len_limit)\u001b[0m\n\u001b[1;32m    120\u001b[0m             \u001b[0menhanced\u001b[0m \u001b[0;34m=\u001b[0m \u001b[0mself\u001b[0m\u001b[0;34m.\u001b[0m\u001b[0menhance_textblock\u001b[0m\u001b[0;34m(\u001b[0m\u001b[0mtext\u001b[0m\u001b[0;34m,\u001b[0m \u001b[0mlan_id\u001b[0m\u001b[0;34m)\u001b[0m\u001b[0;34m\u001b[0m\u001b[0;34m\u001b[0m\u001b[0m\n\u001b[1;32m    121\u001b[0m         \u001b[0;32melse\u001b[0m\u001b[0;34m:\u001b[0m\u001b[0;34m\u001b[0m\u001b[0;34m\u001b[0m\u001b[0m\n\u001b[0;32m--> 122\u001b[0;31m             \u001b[0menhanced\u001b[0m \u001b[0;34m=\u001b[0m \u001b[0mself\u001b[0m\u001b[0;34m.\u001b[0m\u001b[0menhance_long_textblock\u001b[0m\u001b[0;34m(\u001b[0m\u001b[0mtext\u001b[0m\u001b[0;34m,\u001b[0m \u001b[0mlan_id\u001b[0m\u001b[0;34m,\u001b[0m \u001b[0mlen_limit\u001b[0m\u001b[0;34m)\u001b[0m\u001b[0;34m\u001b[0m\u001b[0;34m\u001b[0m\u001b[0m\n\u001b[0m\u001b[1;32m    123\u001b[0m \u001b[0;34m\u001b[0m\u001b[0m\n\u001b[1;32m    124\u001b[0m         \u001b[0;32mif\u001b[0m \u001b[0mlan\u001b[0m \u001b[0;34m==\u001b[0m \u001b[0;34m'es'\u001b[0m \u001b[0;32mand\u001b[0m \u001b[0;34m(\u001b[0m\u001b[0;34m'?'\u001b[0m \u001b[0;32min\u001b[0m \u001b[0menhanced\u001b[0m \u001b[0;32mor\u001b[0m \u001b[0;34m'!'\u001b[0m \u001b[0;32min\u001b[0m \u001b[0menhanced\u001b[0m\u001b[0;34m)\u001b[0m\u001b[0;34m:\u001b[0m\u001b[0;34m\u001b[0m\u001b[0;34m\u001b[0m\u001b[0m\n",
            "\u001b[0;32m<torch_package_3>.release_module.py\u001b[0m in \u001b[0;36menhance_long_textblock\u001b[0;34m(self, text, lan_id, len_limit)\u001b[0m\n\u001b[1;32m     99\u001b[0m             \u001b[0mblock\u001b[0m \u001b[0;34m=\u001b[0m \u001b[0;34m' '\u001b[0m\u001b[0;34m.\u001b[0m\u001b[0mjoin\u001b[0m\u001b[0;34m(\u001b[0m\u001b[0mwords\u001b[0m\u001b[0;34m[\u001b[0m\u001b[0m_from\u001b[0m\u001b[0;34m:\u001b[0m\u001b[0m_to\u001b[0m\u001b[0;34m]\u001b[0m\u001b[0;34m)\u001b[0m\u001b[0;34m\u001b[0m\u001b[0;34m\u001b[0m\u001b[0m\n\u001b[1;32m    100\u001b[0m \u001b[0;34m\u001b[0m\u001b[0m\n\u001b[0;32m--> 101\u001b[0;31m             \u001b[0menhanced\u001b[0m \u001b[0;34m=\u001b[0m \u001b[0mself\u001b[0m\u001b[0;34m.\u001b[0m\u001b[0menhance_textblock\u001b[0m\u001b[0;34m(\u001b[0m\u001b[0mblock\u001b[0m\u001b[0;34m,\u001b[0m \u001b[0mlan_id\u001b[0m\u001b[0;34m)\u001b[0m\u001b[0;34m\u001b[0m\u001b[0;34m\u001b[0m\u001b[0m\n\u001b[0m\u001b[1;32m    102\u001b[0m             \u001b[0menhanced_words\u001b[0m \u001b[0;34m=\u001b[0m \u001b[0menhanced\u001b[0m\u001b[0;34m.\u001b[0m\u001b[0msplit\u001b[0m\u001b[0;34m(\u001b[0m\u001b[0;34m)\u001b[0m\u001b[0;34m\u001b[0m\u001b[0;34m\u001b[0m\u001b[0m\n\u001b[1;32m    103\u001b[0m             \u001b[0msymbols\u001b[0m \u001b[0;34m=\u001b[0m \u001b[0;34m''\u001b[0m\u001b[0;34m.\u001b[0m\u001b[0mjoin\u001b[0m\u001b[0;34m(\u001b[0m\u001b[0;34m[\u001b[0m\u001b[0mword\u001b[0m\u001b[0;34m[\u001b[0m\u001b[0;34m-\u001b[0m\u001b[0;36m1\u001b[0m\u001b[0;34m]\u001b[0m \u001b[0;32mfor\u001b[0m \u001b[0mword\u001b[0m \u001b[0;32min\u001b[0m \u001b[0menhanced_words\u001b[0m\u001b[0;34m]\u001b[0m\u001b[0;34m)\u001b[0m\u001b[0;34m\u001b[0m\u001b[0;34m\u001b[0m\u001b[0m\n",
            "\u001b[0;32m<torch_package_3>.release_module.py\u001b[0m in \u001b[0;36menhance_textblock\u001b[0;34m(self, text, lan_id)\u001b[0m\n\u001b[1;32m     70\u001b[0m             \u001b[0mcapital\u001b[0m \u001b[0;34m=\u001b[0m \u001b[0mcapital\u001b[0m\u001b[0;34m[\u001b[0m\u001b[0;34m:\u001b[0m\u001b[0;34m,\u001b[0m \u001b[0matt_mask\u001b[0m\u001b[0;34m[\u001b[0m\u001b[0;36m0\u001b[0m\u001b[0;34m]\u001b[0m\u001b[0;34m.\u001b[0m\u001b[0mbool\u001b[0m\u001b[0;34m(\u001b[0m\u001b[0;34m)\u001b[0m\u001b[0;34m]\u001b[0m\u001b[0;34m\u001b[0m\u001b[0;34m\u001b[0m\u001b[0m\n\u001b[1;32m     71\u001b[0m \u001b[0;34m\u001b[0m\u001b[0m\n\u001b[0;32m---> 72\u001b[0;31m         return self.tokenizer.convert_tokens_to_string(enhance_tokens(tokens[1:-1],\n\u001b[0m\u001b[1;32m     73\u001b[0m                                                                       \u001b[0mpunct\u001b[0m\u001b[0;34m[\u001b[0m\u001b[0;36m0\u001b[0m\u001b[0;34m]\u001b[0m\u001b[0;34m[\u001b[0m\u001b[0;36m1\u001b[0m\u001b[0;34m:\u001b[0m\u001b[0;34m-\u001b[0m\u001b[0;36m1\u001b[0m\u001b[0;34m]\u001b[0m\u001b[0;34m,\u001b[0m\u001b[0;34m\u001b[0m\u001b[0;34m\u001b[0m\u001b[0m\n\u001b[1;32m     74\u001b[0m                                                                       \u001b[0mcapital\u001b[0m\u001b[0;34m[\u001b[0m\u001b[0;36m0\u001b[0m\u001b[0;34m]\u001b[0m\u001b[0;34m[\u001b[0m\u001b[0;36m1\u001b[0m\u001b[0;34m:\u001b[0m\u001b[0;34m-\u001b[0m\u001b[0;36m1\u001b[0m\u001b[0;34m]\u001b[0m\u001b[0;34m,\u001b[0m\u001b[0;34m\u001b[0m\u001b[0;34m\u001b[0m\u001b[0m\n",
            "\u001b[0;32m<torch_package_3>.release_module.py\u001b[0m in \u001b[0;36menhance_tokens\u001b[0;34m(tokens, punct, capital, index2punct)\u001b[0m\n\u001b[1;32m    163\u001b[0m                 \u001b[0;32mif\u001b[0m \u001b[0mlen\u001b[0m\u001b[0;34m(\u001b[0m\u001b[0mtoken\u001b[0m\u001b[0;34m)\u001b[0m \u001b[0;34m<\u001b[0m \u001b[0;36m2\u001b[0m\u001b[0;34m:\u001b[0m\u001b[0;34m\u001b[0m\u001b[0;34m\u001b[0m\u001b[0m\n\u001b[1;32m    164\u001b[0m                     \u001b[0mprint\u001b[0m\u001b[0;34m(\u001b[0m\u001b[0mtoken\u001b[0m\u001b[0;34m)\u001b[0m\u001b[0;34m\u001b[0m\u001b[0;34m\u001b[0m\u001b[0m\n\u001b[0;32m--> 165\u001b[0;31m                 \u001b[0mtoken\u001b[0m \u001b[0;34m=\u001b[0m \u001b[0;34m'##'\u001b[0m \u001b[0;34m+\u001b[0m \u001b[0mtoken\u001b[0m\u001b[0;34m[\u001b[0m\u001b[0;36m2\u001b[0m\u001b[0;34m]\u001b[0m\u001b[0;34m.\u001b[0m\u001b[0mupper\u001b[0m\u001b[0;34m(\u001b[0m\u001b[0;34m)\u001b[0m \u001b[0;34m+\u001b[0m \u001b[0mtoken\u001b[0m\u001b[0;34m[\u001b[0m\u001b[0;36m3\u001b[0m\u001b[0;34m:\u001b[0m\u001b[0;34m]\u001b[0m\u001b[0;34m\u001b[0m\u001b[0;34m\u001b[0m\u001b[0m\n\u001b[0m\u001b[1;32m    166\u001b[0m         \u001b[0;32mif\u001b[0m \u001b[0mc\u001b[0m \u001b[0;34m==\u001b[0m \u001b[0;36m2\u001b[0m\u001b[0;34m:\u001b[0m\u001b[0;34m\u001b[0m\u001b[0;34m\u001b[0m\u001b[0m\n\u001b[1;32m    167\u001b[0m             \u001b[0mtoken\u001b[0m \u001b[0;34m=\u001b[0m \u001b[0mtoken\u001b[0m\u001b[0;34m.\u001b[0m\u001b[0mupper\u001b[0m\u001b[0;34m(\u001b[0m\u001b[0;34m)\u001b[0m\u001b[0;34m\u001b[0m\u001b[0;34m\u001b[0m\u001b[0m\n",
            "\u001b[0;31mIndexError\u001b[0m: string index out of range"
          ]
        }
      ]
    },
    {
      "cell_type": "markdown",
      "source": [
        "### FRED-T5"
      ],
      "metadata": {
        "id": "OZoFPN8lTW5a"
      }
    },
    {
      "cell_type": "code",
      "source": [
        "!pip install -q transformers"
      ],
      "metadata": {
        "colab": {
          "base_uri": "https://localhost:8080/"
        },
        "id": "xHv813YVPBTA",
        "outputId": "310e7276-3a96-4f6e-cb82-4ea87c668c38"
      },
      "execution_count": null,
      "outputs": [
        {
          "output_type": "stream",
          "name": "stdout",
          "text": [
            "\u001b[2K     \u001b[90m━━━━━━━━━━━━━━━━━━━━━━━━━━━━━━━━━━━━━━━━\u001b[0m \u001b[32m7.0/7.0 MB\u001b[0m \u001b[31m70.8 MB/s\u001b[0m eta \u001b[36m0:00:00\u001b[0m\n",
            "\u001b[2K     \u001b[90m━━━━━━━━━━━━━━━━━━━━━━━━━━━━━━━━━━━━━━━━\u001b[0m \u001b[32m7.8/7.8 MB\u001b[0m \u001b[31m96.7 MB/s\u001b[0m eta \u001b[36m0:00:00\u001b[0m\n",
            "\u001b[2K     \u001b[90m━━━━━━━━━━━━━━━━━━━━━━━━━━━━━━━━━━━━━━\u001b[0m \u001b[32m200.1/200.1 kB\u001b[0m \u001b[31m25.1 MB/s\u001b[0m eta \u001b[36m0:00:00\u001b[0m\n",
            "\u001b[?25h"
          ]
        }
      ]
    },
    {
      "cell_type": "code",
      "source": [
        "import torch\n",
        "from transformers import GPT2Tokenizer, T5ForConditionalGeneration \n",
        "\n",
        "\n",
        "tokenizer = GPT2Tokenizer.from_pretrained('ai-forever/FRED-T5-large')\n",
        "model = T5ForConditionalGeneration.from_pretrained('ai-forever/FRED-T5-large')\n",
        "device='cuda'\n",
        "model.to(device)"
      ],
      "metadata": {
        "id": "nOOn6TznPAUp"
      },
      "execution_count": null,
      "outputs": []
    },
    {
      "cell_type": "code",
      "source": [
        "text = '<SC1>'\n",
        "for i, t in enumerate(train[0]['text'].split()):\n",
        "  text += f'{t}<extra_id_{i}>'\n",
        "text"
      ],
      "metadata": {
        "colab": {
          "base_uri": "https://localhost:8080/"
        },
        "id": "Dfv7ke8GbvcY",
        "outputId": "5f06c044-955d-4a7f-de91-8b2db371b056"
      },
      "execution_count": null,
      "outputs": [
        {
          "output_type": "execute_result",
          "data": {
            "text/plain": [
              "'<SC1>Извещение<extra_id_0>о<extra_id_1>проведении<extra_id_2>открытого<extra_id_3>конкурса<extra_id_4>в<extra_id_5>электронной<extra_id_6>форме<extra_id_7>для<extra_id_8>закупки<extra_id_9>№0328300032822000806<extra_id_10>Общая<extra_id_11>информация<extra_id_12>Номер<extra_id_13>извещения<extra_id_14>0328300032822000806<extra_id_15>Наименование<extra_id_16>объекта<extra_id_17>закупки<extra_id_18>Поставка<extra_id_19>продуктов<extra_id_20>питания<extra_id_21>Способ<extra_id_22>определения<extra_id_23>поставщика<extra_id_24>(подрядчика,<extra_id_25>исполнителя)<extra_id_26>Открытый<extra_id_27>конкурс<extra_id_28>в<extra_id_29>бль<extra_id_30>Порядок<extra_id_31>внесения<extra_id_32>денежных<extra_id_33>средств<extra_id_34>в<extra_id_35>качестве<extra_id_36>обеспечения<extra_id_37>заявки<extra_id_38>на<extra_id_39>участие<extra_id_40>в<extra_id_41>закупке,<extra_id_42>а<extra_id_43>также<extra_id_44>условия<extra_id_45>гарантии<extra_id_46>Обеспечение<extra_id_47>заявки<extra_id_48>на<extra_id_49>участие<extra_id_50>в<extra_id_51>закупке<extra_id_52>может<extra_id_53>предоставляться<extra_id_54>участником<extra_id_55>закупки<extra_id_56>в<extra_id_57>виде<extra_id_58>денежных<extra_id_59>средств<extra_id_60>или<extra_id_61>независимой<extra_id_62>гарантии,<extra_id_63>предусмотренной<extra_id_64>ст.<extra_id_65>45<extra_id_66>Федерального<extra_id_67>закона<extra_id_68>№<extra_id_69>44-ФЗ.<extra_id_70>Выбор<extra_id_71>способа<extra_id_72>обеспечения<extra_id_73>осуществляется<extra_id_74>участником<extra_id_75>закупки<extra_id_76>самостоятельно.<extra_id_77>Срок<extra_id_78>действия<extra_id_79>независимой<extra_id_80>гарантии<extra_id_81>должен<extra_id_82>составлять<extra_id_83>не<extra_id_84>менее<extra_id_85>месяца<extra_id_86>с<extra_id_87>даты<extra_id_88>окончания<extra_id_89>срока<extra_id_90>подачи<extra_id_91>заявок.<extra_id_92>Обеспечение<extra_id_93>заявки<extra_id_94>на<extra_id_95>участие<extra_id_96>в<extra_id_97>закупке<extra_id_98>предоставляется<extra_id_99>в<extra_id_100>соответствии<extra_id_101>с<extra_id_102>ч.<extra_id_103>5<extra_id_104>ст.<extra_id_105>44<extra_id_106>Федерального<extra_id_107>закона<extra_id_108>№<extra_id_109>44-ФЗ.<extra_id_110>Условия<extra_id_111>независимой<extra_id_112>гарантии<extra_id_113>в<extra_id_114>соответствии<extra_id_115>со<extra_id_116>ст.<extra_id_117>45<extra_id_118>Федерального<extra_id_119>закона<extra_id_120>№<extra_id_121>44-ФЗ.<extra_id_122>Реквизиты<extra_id_123>счета<extra_id_124>в<extra_id_125>соответствии<extra_id_126>с<extra_id_127>п.16<extra_id_128>ч.<extra_id_129>1<extra_id_130>ст.<extra_id_131>42<extra_id_132>Закона<extra_id_133>№<extra_id_134>44-ФЗ<extra_id_135>\"Номер<extra_id_136>расчётного<extra_id_137>счёта\"<extra_id_138>00000000000000000000<extra_id_139>\"Номер<extra_id_140>лицевого<extra_id_141>счёта\"<extra_id_142>См.<extra_id_143>прилагаемые<extra_id_144>документы<extra_id_145>\"БИК\"<extra_id_146>000000000<extra_id_147>\"Наименование<extra_id_148>кредитной<extra_id_149>организации\"<extra_id_150>\"Номер<extra_id_151>корреспондентского<extra_id_152>счета\"<extra_id_153>Обеспечение<extra_id_154>исполнения<extra_id_155>контракта<extra_id_156>Требуется<extra_id_157>обеспечение<extra_id_158>исполнения<extra_id_159>контракта<extra_id_160>Размер<extra_id_161>обеспечения<extra_id_162>исполнения<extra_id_163>контракта<extra_id_164>6593.25<extra_id_165>Российский<extra_id_166>рубль<extra_id_167>Порядок<extra_id_168>обеспечения<extra_id_169>исполнения<extra_id_170>контракта,<extra_id_171>требования<extra_id_172>к<extra_id_173>обеспечению<extra_id_174>Исполнение<extra_id_175>контракта,<extra_id_176>гарантийные<extra_id_177>обязательства<extra_id_178>могут<extra_id_179>обеспечиваться<extra_id_180>предоставлением<extra_id_181>независимой<extra_id_182>гарантии,<extra_id_183>соответствующей<extra_id_184>требованиям<extra_id_185>ст.<extra_id_186>45<extra_id_187>Федерального<extra_id_188>закона<extra_id_189>№<extra_id_190>44-ФЗ,<extra_id_191>или<extra_id_192>внесением<extra_id_193>денежных<extra_id_194>средств<extra_id_195>на<extra_id_196>указанный<extra_id_197>заказчиком<extra_id_198>счет,<extra_id_199>на<extra_id_200>котором<extra_id_201>в<extra_id_202>соответствии<extra_id_203>с<extra_id_204>законодательством<extra_id_205>Российской<extra_id_206>Федерации<extra_id_207>учитываются<extra_id_208>операции<extra_id_209>со<extra_id_210>средствами,<extra_id_211>поступающими<extra_id_212>заказчику.<extra_id_213>Способ<extra_id_214>обеспечения<extra_id_215>исполнения<extra_id_216>контракта,<extra_id_217>гарантийных<extra_id_218>обязательств,<extra_id_219>срок<extra_id_220>действия<extra_id_221>независимой<extra_id_222>гарантии<extra_id_223>определяются<extra_id_224>в<extra_id_225>соответствии<extra_id_226>с<extra_id_227>требованиями<extra_id_228>Федерального<extra_id_229>закона<extra_id_230>№<extra_id_231>44-ФЗ<extra_id_232>участником<extra_id_233>закупки,<extra_id_234>с<extra_id_235>которым<extra_id_236>заключается<extra_id_237>контракт,<extra_id_238>самостоятельно.<extra_id_239>При<extra_id_240>этом<extra_id_241>срок<extra_id_242>действия<extra_id_243>независимой<extra_id_244>гарантии<extra_id_245>должен<extra_id_246>превышать<extra_id_247>предусмотренный<extra_id_248>контрактом<extra_id_249>срок<extra_id_250>исполнения<extra_id_251>обязательств,<extra_id_252>которые<extra_id_253>должны<extra_id_254>быть<extra_id_255>обеспечены<extra_id_256>такой<extra_id_257>независимой<extra_id_258>гарантией,<extra_id_259>не<extra_id_260>менее<extra_id_261>чем<extra_id_262>на<extra_id_263>один<extra_id_264>месяц,<extra_id_265>в<extra_id_266>том<extra_id_267>числе<extra_id_268>в<extra_id_269>случае<extra_id_270>его<extra_id_271>изменения<extra_id_272>в<extra_id_273>соответствии<extra_id_274>со<extra_id_275>ст.<extra_id_276>95<extra_id_277>Федерального<extra_id_278>закона<extra_id_279>№<extra_id_280>44-ФЗ.<extra_id_281>Порядок<extra_id_282>предоставления<extra_id_283>и<extra_id_284>требования<extra_id_285>о<extra_id_286>Информация<extra_id_287>и<extra_id_288>документы,<extra_id_289>подтверждающие<extra_id_290>соответствие<extra_id_291>участников<extra_id_292>закупки<extra_id_293>дополнительным<extra_id_294>требованиям:<extra_id_295>1)<extra_id_296>исполненный<extra_id_297>договор;<extra_id_298>2)<extra_id_299>акт<extra_id_300>приемки<extra_id_301>оказанных<extra_id_302>услуг<extra_id_303>и<extra_id_304>(или)<extra_id_305>поставленных<extra_id_306>товаров,<extra_id_307>подтверждающий<extra_id_308>цену<extra_id_309>оказанных<extra_id_310>услуг<extra_id_311>и<extra_id_312>(или)<extra_id_313>поставленных<extra_id_314>товаров<extra_id_315>4<extra_id_316>'"
            ],
            "application/vnd.google.colaboratory.intrinsic+json": {
              "type": "string"
            }
          },
          "metadata": {},
          "execution_count": 25
        }
      ]
    },
    {
      "cell_type": "code",
      "source": [
        "lm_text='<SC5>Принялся Кутузов рассказывать свою историю, как он попал в армию<extra_id_0> Началось с того, что он был в армии, служил в артиллерии.'\n",
        "lm_text = text\n",
        "input_ids = torch.tensor([tokenizer.encode(lm_text)]).to(device)\n",
        "outputs = model.generate(input_ids, eos_token_id=tokenizer.eos_token_id, early_stopping=True)\n",
        "\n",
        "for o in outputs:\n",
        "  print(tokenizer.decode(o))"
      ],
      "metadata": {
        "colab": {
          "base_uri": "https://localhost:8080/"
        },
        "id": "86_emNtuPFlU",
        "outputId": "123b1e69-f66a-41d3-dcee-63cf9c18a9f8"
      },
      "execution_count": null,
      "outputs": [
        {
          "output_type": "stream",
          "name": "stdout",
          "text": [
            "<pad> <extra_id_0>  о проведении открытого конкурса ( <extra_id_1> ферта)\n",
            " <extra_id_2>  открытого конкурса ( <extra_id_3>  аукциона, <extra_id_4>\n"
          ]
        }
      ]
    },
    {
      "cell_type": "markdown",
      "source": [
        "# Fine-tuning"
      ],
      "metadata": {
        "id": "J5glBH4NcTDH"
      }
    },
    {
      "cell_type": "markdown",
      "source": [
        "## FRED-T5"
      ],
      "metadata": {
        "id": "_tqIwAvIcVT5"
      }
    },
    {
      "cell_type": "code",
      "source": [
        "train_data = []\n",
        "for d in train:\n",
        "  ext_d = d['extracted_part']\n",
        "  X = (d['text'], d['label'])\n",
        "  y = (ext_d['text'][0], ext_d['answer_start'][0], ext_d['answer_end'][0])\n",
        "  train_data.append((X, y))\n",
        "\n",
        "train_data[0]"
      ],
      "metadata": {
        "colab": {
          "base_uri": "https://localhost:8080/"
        },
        "id": "ZrucOb0Nc1db",
        "outputId": "458e4b55-13c3-4b1b-e3ee-b5cf3fac5f1f"
      },
      "execution_count": 6,
      "outputs": [
        {
          "output_type": "execute_result",
          "data": {
            "text/plain": [
              "(('Извещение о проведении открытого конкурса в электронной форме для закупки №0328300032822000806 Общая информация Номер извещения 0328300032822000806 Наименование объекта закупки Поставка продуктов питания Способ определения поставщика (подрядчика, исполнителя) Открытый конкурс в бль Порядок внесения денежных средств в качестве обеспечения заявки на участие в закупке, а также условия гарантии Обеспечение заявки на участие в закупке может предоставляться участником закупки в виде денежных средств или независимой гарантии, предусмотренной ст. 45 Федерального закона № 44-ФЗ. Выбор способа обеспечения осуществляется участником закупки самостоятельно. Срок действия независимой гарантии должен составлять не менее месяца с даты окончания срока подачи заявок. Обеспечение заявки на участие в закупке предоставляется в соответствии с ч. 5 ст. 44 Федерального закона № 44-ФЗ. Условия независимой гарантии в соответствии со ст. 45 Федерального закона № 44-ФЗ. Реквизиты счета в соответствии с п.16 ч. 1 ст. 42 Закона № 44-ФЗ \"Номер расчётного счёта\" 00000000000000000000 \"Номер лицевого счёта\" См. прилагаемые документы \"БИК\" 000000000 \"Наименование кредитной организации\" \"Номер корреспондентского счета\" Обеспечение исполнения контракта Требуется обеспечение исполнения контракта Размер обеспечения исполнения контракта 6593.25 Российский рубль Порядок обеспечения исполнения контракта, требования к обеспечению Исполнение контракта, гарантийные обязательства могут обеспечиваться предоставлением независимой гарантии, соответствующей требованиям ст. 45 Федерального закона № 44-ФЗ, или внесением денежных средств на указанный заказчиком счет, на котором в соответствии с законодательством Российской Федерации учитываются операции со средствами, поступающими заказчику. Способ обеспечения исполнения контракта, гарантийных обязательств, срок действия независимой гарантии определяются в соответствии с требованиями Федерального закона № 44-ФЗ участником закупки, с которым заключается контракт, самостоятельно. При этом срок действия независимой гарантии должен превышать предусмотренный контрактом срок исполнения обязательств, которые должны быть обеспечены такой независимой гарантией, не менее чем на один месяц, в том числе в случае его изменения в соответствии со ст. 95 Федерального закона № 44-ФЗ. Порядок предоставления и требования о Информация и документы, подтверждающие соответствие участников закупки дополнительным требованиям: 1) исполненный договор; 2) акт приемки оказанных услуг и (или) поставленных товаров, подтверждающий цену оказанных услуг и (или) поставленных товаров 4',\n",
              "  'обеспечение исполнения контракта'),\n",
              " ('Размер обеспечения исполнения контракта 6593.25 Российский рубль',\n",
              "  1279,\n",
              "  1343))"
            ]
          },
          "metadata": {},
          "execution_count": 6
        }
      ]
    },
    {
      "cell_type": "code",
      "source": [
        "pairs = train_data.copy()"
      ],
      "metadata": {
        "id": "tNWRfb2DfYub"
      },
      "execution_count": 7,
      "outputs": []
    },
    {
      "cell_type": "code",
      "source": [
        "!pip install -q transformers sentencepiece bitsandbytes accelerate"
      ],
      "metadata": {
        "id": "boYBHbW5cY3K"
      },
      "execution_count": 8,
      "outputs": []
    },
    {
      "cell_type": "code",
      "source": [
        "from transformers import GPT2Tokenizer, T5Tokenizer, T5ForConditionalGeneration\n",
        "\n",
        "raw_model = 'cointegrated/rut5-base-multitask'\n",
        "tokenizer = T5Tokenizer.from_pretrained(raw_model)\n",
        "model = T5ForConditionalGeneration.from_pretrained(raw_model, device_map='auto', load_in_8bit=True)\n",
        "\n",
        "\n",
        "# raw_model = 'ai-forever/FRED-T5-large' \n",
        "# tokenizer = GPT2Tokenizer.from_pretrained(raw_model)\n",
        "# model = T5ForConditionalGeneration.from_pretrained(raw_model)\n",
        "\n",
        "optimizer = torch.optim.Adam(model.parameters(), lr=1e-7)\n",
        "\n",
        "# device='cuda'\n",
        "# model.to(device)"
      ],
      "metadata": {
        "colab": {
          "base_uri": "https://localhost:8080/"
        },
        "id": "XGuRWUnfcY3M",
        "outputId": "0996bffb-1238-46da-8064-1a973400d5ae"
      },
      "execution_count": 39,
      "outputs": [
        {
          "output_type": "stream",
          "name": "stderr",
          "text": [
            "Overriding torch_dtype=None with `torch_dtype=torch.float16` due to requirements of `bitsandbytes` to enable model loading in mixed int8. Either pass torch_dtype=torch.float16 or don't pass this argument at all to remove this warning.\n"
          ]
        }
      ]
    },
    {
      "cell_type": "code",
      "metadata": {
        "id": "th1-XEwjOcTf"
      },
      "source": [
        "batch_size = 2  # сколько примеров показывем модели за один шаг\n",
        "report_steps = 100  # раз в сколько шагов печатаем результат\n",
        "epochs = 3  # сколько раз мы покажем данные модели"
      ],
      "execution_count": 40,
      "outputs": []
    },
    {
      "cell_type": "code",
      "source": [
        "torch.cuda.empty_cache()\n",
        "gc.collect()"
      ],
      "metadata": {
        "colab": {
          "base_uri": "https://localhost:8080/"
        },
        "id": "ffluoroqjbob",
        "outputId": "458f10a1-92c5-499c-a694-c69d62ba7ba7"
      },
      "execution_count": 41,
      "outputs": [
        {
          "output_type": "execute_result",
          "data": {
            "text/plain": [
              "0"
            ]
          },
          "metadata": {},
          "execution_count": 41
        }
      ]
    },
    {
      "cell_type": "code",
      "metadata": {
        "colab": {
          "base_uri": "https://localhost:8080/"
        },
        "id": "tBAMooj5SoT2",
        "outputId": "f5e295e2-4875-403b-8a70-999f6dcfc47d"
      },
      "source": [
        "model.train()\n",
        "losses = []\n",
        "for epoch in range(epochs):\n",
        "    print('EPOCH', epoch)\n",
        "    random.shuffle(pairs)\n",
        "    for i in trange(0, int(len(pairs) / batch_size)):\n",
        "        batch = pairs[i * batch_size: (i + 1) * batch_size]\n",
        "        x = tokenizer([f'{p[0][0]} | {p[0][1]}' for p in batch], return_tensors='pt', padding=True).to(model.device)\n",
        "        y = tokenizer([p[1][0] for p in batch], return_tensors='pt', padding=True).to(model.device)\n",
        "        y.input_ids[y.input_ids == 0] = -100\n",
        "        loss = model(\n",
        "            input_ids=x.input_ids,\n",
        "            attention_mask=x.attention_mask,\n",
        "            labels=y.input_ids,\n",
        "            decoder_attention_mask=y.attention_mask,\n",
        "            return_dict=True\n",
        "        ).loss\n",
        "        loss.backward()\n",
        "        optimizer.step()\n",
        "        optimizer.zero_grad()\n",
        "        losses.append(loss.item())\n",
        "        if i % report_steps == 0:\n",
        "            print('step', i, 'loss', np.mean(losses[-report_steps:]))"
      ],
      "execution_count": null,
      "outputs": [
        {
          "output_type": "stream",
          "name": "stdout",
          "text": [
            "EPOCH 0\n"
          ]
        },
        {
          "output_type": "stream",
          "name": "stderr",
          "text": [
            "  0%|          | 1/899 [00:01<19:54,  1.33s/it]"
          ]
        },
        {
          "output_type": "stream",
          "name": "stdout",
          "text": [
            "step 0 loss 1.1611328125\n"
          ]
        },
        {
          "output_type": "stream",
          "name": "stderr",
          "text": [
            " 11%|█         | 101/899 [00:52<07:28,  1.78it/s]"
          ]
        },
        {
          "output_type": "stream",
          "name": "stdout",
          "text": [
            "step 100 loss nan\n"
          ]
        },
        {
          "output_type": "stream",
          "name": "stderr",
          "text": [
            " 22%|██▏       | 201/899 [01:44<06:20,  1.83it/s]"
          ]
        },
        {
          "output_type": "stream",
          "name": "stdout",
          "text": [
            "step 200 loss nan\n"
          ]
        },
        {
          "output_type": "stream",
          "name": "stderr",
          "text": [
            " 33%|███▎      | 301/899 [02:34<04:33,  2.19it/s]"
          ]
        },
        {
          "output_type": "stream",
          "name": "stdout",
          "text": [
            "step 300 loss nan\n"
          ]
        },
        {
          "output_type": "stream",
          "name": "stderr",
          "text": [
            " 45%|████▍     | 401/899 [03:24<04:04,  2.04it/s]"
          ]
        },
        {
          "output_type": "stream",
          "name": "stdout",
          "text": [
            "step 400 loss nan\n"
          ]
        },
        {
          "output_type": "stream",
          "name": "stderr",
          "text": [
            " 53%|█████▎    | 476/899 [04:02<03:52,  1.82it/s]"
          ]
        }
      ]
    },
    {
      "cell_type": "code",
      "source": [
        "test_data = []\n",
        "for d in test:\n",
        "  X = (d['text'], d['label'])\n",
        "  test_data.append(f'{X[0]} | {X[1]}')\n",
        "test_data[0]"
      ],
      "metadata": {
        "colab": {
          "base_uri": "https://localhost:8080/",
          "height": 0
        },
        "id": "V8oVKq2soc3e",
        "outputId": "36595852-e31a-4378-b05e-923d00b4cddf"
      },
      "execution_count": 31,
      "outputs": [
        {
          "output_type": "execute_result",
          "data": {
            "text/plain": [
              "'МУНИЦИПАЛЬНЫЙ КОНТРАКТ № ______ на оказание услуг по техническому обслуживанию и ремонту принтеров и многофункциональных устройств, заправке и восстановлению картриджей (идентификационный код закупки 223861800296886010100100590019511244) г. Ханты-Мансийск «___» ____________ 2022 г.  (или) возмещения убытков причинённых Исполнителем убытков. 6. Обеспечение исполнения контракта 6.1. Исполнение контракта обеспечиваются предоставлением независимой гарантии, выданной банком и соответствующей требованиям Федерального закона от 05.04.2013 № 44-ФЗ «О контрактной системе в сфере закупок товаров, работ, услуг для обеспечения государственных и муниципальных нужд», или внесением денежных средств на указанный заказчиком счет, на котором в соответствии с законодательством Российской Федерации учитываются операции со средствами, поступающими заказчику. Способ обеспечения исполнения контракта, срок действия независимой гарантии определяются в соответствии с требованиями Федерального закона от 05.04.2013 № 44-ФЗ «О контрактной системе в сфере закупок товаров, работ, услуг для обеспечения государственных и муниципальных нужд» участником закупки, с которым заключается контракт, самостоятельно. 6.2. Обеспечение исполнения Контракта предоставляется Заказчику до заключения Контракта. Размер обеспечения исполнения Контракта составляет _______ рублей ____ копеек (5 процентов от цены контракта). Получатель: Комитет по финансам администрации Ханты-Мансийского района (Администрация Ханты-Мансийского района, л/сч 040.01.001.2) ИНН 8618002968 КПП 860101001 Банк плательщика: РКЦ Ханты-Мансийск//УФК по Ханты-Мансийскому автономному округу – Югре г. Ханты-Мансийск, ЕКС 40102810245370000007 БИК 007162163 Казначейский счет 03232643718290008700 В случае заключения контракта по результатам определения Исполнителя в соответствии с пунктом 1 части 1 статьи 30 Федерального закона от 05.04.2013 № 44-ФЗ «О контрактной системе в сфере закупок товаров, работ, услуг для обеспечения государственных и муниципальных нужд» размер обеспечения исполнения контракта, в том числе предоставляемого с учетом положений статьи 37 Федерального закона от 05.04.2013 № 44-ФЗ «О контрактной системе в сфере закупок товаров, работ, услуг для обеспечения государственных и муниципальных нужд», устанавливается от цены, по которой в соответствии с Федерального закона от 05.04.2013 № 44-ФЗ «О контрактной системе в сфере 13.Адреса места нахождения, банковские реквизиты и подписи Сторон ЗАКАЗЧИК: Администрация Ханты-Мансийского района Юридический адрес: 628011, Тюменская область, Ханты-Мансийский автономный округ - Югра, г. Ханты-Мансийск, ул. Гагарина, 214 Почтовый адрес: 628011, | обеспечение исполнения контракта'"
            ],
            "application/vnd.google.colaboratory.intrinsic+json": {
              "type": "string"
            }
          },
          "metadata": {},
          "execution_count": 31
        }
      ]
    },
    {
      "cell_type": "code",
      "source": [
        "model.eval()\n",
        "\n",
        "def answer(x, **kwargs):\n",
        "    inputs = tokenizer(x, return_tensors='pt').to(model.device) \n",
        "    with torch.no_grad():\n",
        "        hypotheses = model.generate(**inputs, **kwargs)\n",
        "    return tokenizer.decode(hypotheses[0], skip_special_tokens=True)"
      ],
      "metadata": {
        "id": "N2X6_x3DpNX0"
      },
      "execution_count": 32,
      "outputs": []
    },
    {
      "cell_type": "code",
      "source": [
        "sample = train_data[:5]\n",
        "for x, y in sample:\n",
        "    print('answer:', y[0])\n",
        "    print('model: ', answer(f\"{x[0]} | {x[1]}\"))\n",
        "    print('---')"
      ],
      "metadata": {
        "colab": {
          "base_uri": "https://localhost:8080/"
        },
        "id": "pdw6M_1Ypbav",
        "outputId": "d2ed85b9-860a-47fc-8114-c9cb30435914"
      },
      "execution_count": 34,
      "outputs": [
        {
          "output_type": "stream",
          "name": "stdout",
          "text": [
            "answer: Размер обеспечения исполнения контракта 6593.25 Российский рубль\n"
          ]
        },
        {
          "output_type": "stream",
          "name": "stderr",
          "text": [
            "/usr/local/lib/python3.9/dist-packages/transformers/generation/utils.py:1313: UserWarning: Using `max_length`'s default (20) to control the generation length. This behaviour is deprecated and will be removed from the config in v5 of Transformers -- we recommend using `max_new_tokens` to control the maximum length of the generation.\n",
            "  warnings.warn(\n"
          ]
        },
        {
          "output_type": "stream",
          "name": "stdout",
          "text": [
            "model:  \n",
            "---\n",
            "answer: Поставщик должен предоставить обеспечение исполнения контракта в размере 10 % от цены Контракта.\n",
            "model:  \n",
            "---\n",
            "answer: Размер обеспечения исполнения контракта 10.00%\n",
            "model:  \n",
            "---\n",
            "answer: Размер обеспечения исполнения контракта 10.00%\n",
            "model:  \n",
            "---\n",
            "answer: Размер обеспечения исполнения контракта 10.00%\n",
            "model:  \n",
            "---\n"
          ]
        }
      ]
    },
    {
      "cell_type": "markdown",
      "source": [
        "## Spacy"
      ],
      "metadata": {
        "id": "sf-Lb-DA3HDy"
      }
    },
    {
      "cell_type": "code",
      "source": [
        "!python -m spacy init fill-config /content/base_config.cfg /content/config.cfg"
      ],
      "metadata": {
        "colab": {
          "base_uri": "https://localhost:8080/"
        },
        "id": "p4bavpwj9hlz",
        "outputId": "ad9a97e4-d3ed-49d3-a6e6-825f02c0aa34"
      },
      "execution_count": null,
      "outputs": [
        {
          "output_type": "stream",
          "name": "stdout",
          "text": [
            "2023-04-19 14:25:12.459642: W tensorflow/compiler/tf2tensorrt/utils/py_utils.cc:38] TF-TRT Warning: Could not find TensorRT\n",
            "\u001b[38;5;2m✔ Auto-filled config with all values\u001b[0m\n",
            "\u001b[38;5;2m✔ Saved config\u001b[0m\n",
            "/content/config.cfg\n",
            "You can now add your data and train your pipeline:\n",
            "python -m spacy train config.cfg --paths.train ./train.spacy --paths.dev ./dev.spacy\n"
          ]
        }
      ]
    },
    {
      "cell_type": "code",
      "source": [
        "from sklearn.model_selection import train_test_split\n",
        "\n",
        "t_data, v_data = train_test_split(data, test_size=0.2, random_state=7)"
      ],
      "metadata": {
        "id": "A4ISCcs-6F9R"
      },
      "execution_count": null,
      "outputs": []
    },
    {
      "cell_type": "code",
      "source": [
        "import spacy\n",
        "from spacy.tokens import DocBin\n",
        "\n",
        "\n",
        "nlp = spacy.blank(\"ru\")\n",
        "# the DocBin will store the example documents\n",
        "db = DocBin()\n",
        "for i, (text, annotations) in enumerate(t_data.to_numpy()):\n",
        "    doc = nlp(text)\n",
        "    ents = []\n",
        "    for label, start, end in annotations:\n",
        "        try:\n",
        "          span = doc.char_span(int(start), int(end), label=label)\n",
        "        except:\n",
        "          continue\n",
        "        if span:\n",
        "          ents.append(span)\n",
        "    doc.spans['sc'] = ents\n",
        "    db.add(doc)\n",
        "db.to_disk(\"./train.spacy\")"
      ],
      "metadata": {
        "id": "yRSr1UNq-Efe"
      },
      "execution_count": null,
      "outputs": []
    },
    {
      "cell_type": "code",
      "source": [
        "import spacy\n",
        "from spacy.tokens import DocBin\n",
        "\n",
        "\n",
        "nlp = spacy.blank(\"ru\")\n",
        "# the DocBin will store the example documents\n",
        "db = DocBin()\n",
        "for i, (text, annotations) in enumerate(v_data.to_numpy()):\n",
        "    doc = nlp(text)\n",
        "    ents = []\n",
        "    for label, start, end in annotations:\n",
        "        try:\n",
        "          span = doc.char_span(int(start), int(end), label=label)\n",
        "        except:\n",
        "          continue\n",
        "        if span:\n",
        "          ents.append(span)\n",
        "    doc.spans['sc'] = ents\n",
        "    db.add(doc)\n",
        "db.to_disk(\"./dev.spacy\")"
      ],
      "metadata": {
        "id": "joKxPLsh6U0x"
      },
      "execution_count": null,
      "outputs": []
    },
    {
      "cell_type": "code",
      "source": [
        "!python -m spacy train config.cfg --paths.train /content/train.spacy --paths.dev /content/dev.spacy"
      ],
      "metadata": {
        "colab": {
          "base_uri": "https://localhost:8080/"
        },
        "id": "NB1sqjya90IK",
        "outputId": "9c0ef849-42d4-4c58-dcf8-7e3d4922cf20"
      },
      "execution_count": null,
      "outputs": [
        {
          "output_type": "stream",
          "name": "stdout",
          "text": [
            "2023-04-19 14:27:35.389677: W tensorflow/compiler/tf2tensorrt/utils/py_utils.cc:38] TF-TRT Warning: Could not find TensorRT\n",
            "\u001b[38;5;4mℹ No output directory provided\u001b[0m\n",
            "\u001b[38;5;4mℹ Using CPU\u001b[0m\n",
            "\u001b[1m\n",
            "=========================== Initializing pipeline ===========================\u001b[0m\n",
            "[2023-04-19 14:27:37,868] [INFO] Set up nlp object from config\n",
            "[2023-04-19 14:27:37,880] [INFO] Pipeline: ['tok2vec', 'spancat']\n",
            "[2023-04-19 14:27:37,884] [INFO] Created vocabulary\n",
            "[2023-04-19 14:27:37,885] [INFO] Finished initializing nlp object\n",
            "[2023-04-19 14:27:49,144] [INFO] Initialized pipeline components: ['tok2vec', 'spancat']\n",
            "\u001b[38;5;2m✔ Initialized pipeline\u001b[0m\n",
            "\u001b[1m\n",
            "============================= Training pipeline =============================\u001b[0m\n",
            "\u001b[38;5;4mℹ Pipeline: ['tok2vec', 'spancat']\u001b[0m\n",
            "\u001b[38;5;4mℹ Initial learn rate: 0.001\u001b[0m\n",
            "E    #       LOSS TOK2VEC  LOSS SPANCAT  SPANS_SC_F  SPANS_SC_P  SPANS_SC_R  SCORE \n",
            "---  ------  ------------  ------------  ----------  ----------  ----------  ------\n",
            "  0       0        187.45       7969.76        0.59        0.30       34.18    0.01\n",
            "  0     200        158.74      19273.83       28.28       71.04       17.66    0.28\n",
            "  0     400          1.62       7715.46       40.46       75.12       27.69    0.40\n",
            "  0     600          1.26       7468.45       48.40       85.57       33.74    0.48\n",
            "  1     800          1.36       6690.59       51.57       80.02       38.05    0.52\n"
          ]
        }
      ]
    },
    {
      "cell_type": "code",
      "source": [],
      "metadata": {
        "id": "K0CbZFiz8S48"
      },
      "execution_count": null,
      "outputs": []
    },
    {
      "cell_type": "markdown",
      "source": [
        "# Sentence Embeddings"
      ],
      "metadata": {
        "id": "PgwODLmtl_KY"
      }
    },
    {
      "cell_type": "code",
      "source": [
        "!pip install -q razdel navec hnswlib\n",
        "!wget https://storage.yandexcloud.net/natasha-navec/packs/navec_hudlit_v1_12B_500K_300d_100q.tar"
      ],
      "metadata": {
        "colab": {
          "base_uri": "https://localhost:8080/"
        },
        "id": "cw7f5Q2Imzhk",
        "outputId": "c98e9b68-2cbd-49ab-90ed-2dd1bc02e93b"
      },
      "execution_count": null,
      "outputs": [
        {
          "output_type": "stream",
          "name": "stdout",
          "text": [
            "  Installing build dependencies ... \u001b[?25l\u001b[?25hdone\n",
            "  Getting requirements to build wheel ... \u001b[?25l\u001b[?25hdone\n",
            "  Preparing metadata (pyproject.toml) ... \u001b[?25l\u001b[?25hdone\n",
            "  Building wheel for hnswlib (pyproject.toml) ... \u001b[?25l\u001b[?25hdone\n",
            "--2023-04-16 15:42:48--  https://storage.yandexcloud.net/natasha-navec/packs/navec_hudlit_v1_12B_500K_300d_100q.tar\n",
            "Resolving storage.yandexcloud.net (storage.yandexcloud.net)... 213.180.193.243, 2a02:6b8::1d9\n",
            "Connecting to storage.yandexcloud.net (storage.yandexcloud.net)|213.180.193.243|:443... connected.\n",
            "HTTP request sent, awaiting response... 200 OK\n",
            "Length: 53012480 (51M) [application/x-tar]\n",
            "Saving to: ‘navec_hudlit_v1_12B_500K_300d_100q.tar’\n",
            "\n",
            "navec_hudlit_v1_12B 100%[===================>]  50.56M  9.67MB/s    in 6.8s    \n",
            "\n",
            "2023-04-16 15:42:56 (7.46 MB/s) - ‘navec_hudlit_v1_12B_500K_300d_100q.tar’ saved [53012480/53012480]\n",
            "\n"
          ]
        }
      ]
    },
    {
      "cell_type": "code",
      "source": [
        "from razdel import sentenize, tokenize\n",
        "from navec import Navec\n",
        "import gc\n",
        "import hnswlib\n",
        "from collections import Counter"
      ],
      "metadata": {
        "id": "BaN9QT-IqFtk"
      },
      "execution_count": null,
      "outputs": []
    },
    {
      "cell_type": "code",
      "source": [
        "path = 'navec_hudlit_v1_12B_500K_300d_100q.tar'\n",
        "navec = Navec.load(path)\n",
        "\n",
        "def embed_sentence(sentence):\n",
        "  e = np.array([navec[word.text] for word in tokenize(sentence) if word.text in navec]).mean(axis=0)\n",
        "  return e if e.shape == (300,) else None"
      ],
      "metadata": {
        "id": "xKGt8u46mDHQ"
      },
      "execution_count": null,
      "outputs": []
    },
    {
      "cell_type": "code",
      "source": [
        "def get_kNN_embeddings(embedding: list, index: hnswlib.Index, k: int = 1) -> list:\n",
        "    labels, distances = index.knn_query(embedding, k=k)\n",
        "    return labels.T.squeeze()\n",
        "    #, index.get_items(labels)"
      ],
      "metadata": {
        "id": "9vU7d7Lasd9R"
      },
      "execution_count": null,
      "outputs": []
    },
    {
      "cell_type": "code",
      "source": [
        "LABELS_EMB = {\n",
        "    'обеспечение исполнения контракта': embed_sentence('размер обеспечение исполнения контракта'),\n",
        "    'обеспечение гарантийных обязательств': embed_sentence('обеспечение гарантийных обязательств')\n",
        "}"
      ],
      "metadata": {
        "id": "ajIsPv459sF3"
      },
      "execution_count": null,
      "outputs": []
    },
    {
      "cell_type": "code",
      "source": [
        "TUNED_LABELS_EMB = {}\n",
        "most_common_shit = '_%)(5.,:30100,55.0010.00'\n",
        "for label in LABELS_EMB:\n",
        "  extracted_part_vocab = Counter()\n",
        "\n",
        "  for doc in train:\n",
        "    if doc['label'] == label:\n",
        "      ext = doc['extracted_part']['text'][0]\n",
        "      extracted_part_vocab.update([token.text for token in list(tokenize(ext))])\n",
        "  TUNED_LABELS_EMB[label] = embed_sentence(' '.join([v[0] for v in extracted_part_vocab.most_common(20)]))"
      ],
      "metadata": {
        "id": "PYX1Du40qpwA"
      },
      "execution_count": null,
      "outputs": []
    },
    {
      "cell_type": "code",
      "source": [
        "for doc in train[0:10]:\n",
        "  # Retore full stops\n",
        "  text = restore_full_stops(doc['text'])\n",
        "  # Get sentences\n",
        "  sentences = []\n",
        "  for sentence in sentenize(text):\n",
        "    sentences.append(sentence.text)\n",
        "  N = len(sentences)\n",
        "  # Get embeddings\n",
        "  embeddings = np.zeros((N, 300))\n",
        "  for i, sentence in enumerate(tqdm(sentences, total=N)):\n",
        "      emb = embed_sentence(sentence)\n",
        "      if emb is not None:\n",
        "          embeddings[i, :] = emb\n",
        "  # Build index\n",
        "  embedding_index = hnswlib.Index(space='cosine', dim=300)\n",
        "  embedding_index.init_index(max_elements=N, ef_construction=250, M=16, allow_replace_deleted=True)\n",
        "  embedding_index.add_items(embeddings, replace_deleted=True)\n",
        "  # Get closest\n",
        "  idx = get_kNN_embeddings(TUNED_LABELS_EMB[doc['label']], embedding_index)\n",
        "  # Result\n",
        "  print()\n",
        "  print('kNN closest: ', sentences[idx])\n",
        "  print('Actual: ', doc['extracted_part']['text'][0])\n",
        "  print()\n"
      ],
      "metadata": {
        "colab": {
          "base_uri": "https://localhost:8080/"
        },
        "id": "czirrnDGqeNh",
        "outputId": "3b04b7cc-1fe9-4cb5-fcd9-60f0020bb735"
      },
      "execution_count": null,
      "outputs": [
        {
          "output_type": "stream",
          "name": "stderr",
          "text": [
            "  0%|          | 0/22 [00:00<?, ?it/s]<ipython-input-18-5d952dce6cde>:5: RuntimeWarning: Mean of empty slice.\n",
            "  e = np.array([navec[word.text] for word in tokenize(sentence) if word.text in navec]).mean(axis=0)\n",
            "/usr/local/lib/python3.9/dist-packages/numpy/core/_methods.py:189: RuntimeWarning: invalid value encountered in double_scalars\n",
            "  ret = ret.dtype.type(ret / rcount)\n",
            "100%|██████████| 22/22 [00:00<00:00, 1882.66it/s]\n"
          ]
        },
        {
          "output_type": "stream",
          "name": "stdout",
          "text": [
            "\n",
            "kNN closest:  Способ обеспечения исполнения контракта, гарантийных обязательств, срок действия независимой гарантии определяются в соответствии с требованиями.\n",
            "Actual:  Размер обеспечения исполнения контракта 6593.25 Российский рубль\n",
            "\n"
          ]
        },
        {
          "output_type": "stream",
          "name": "stderr",
          "text": [
            "100%|██████████| 22/22 [00:00<00:00, 1877.03it/s]\n"
          ]
        },
        {
          "output_type": "stream",
          "name": "stdout",
          "text": [
            "\n",
            "kNN closest:  Поставщик должен предоставить обеспечение исполнения контракта в размере 10 % от цены.\n",
            "Actual:  Поставщик должен предоставить обеспечение исполнения контракта в размере 10 % от цены Контракта.\n",
            "\n"
          ]
        },
        {
          "output_type": "stream",
          "name": "stderr",
          "text": [
            "100%|██████████| 37/37 [00:00<00:00, 3280.06it/s]\n"
          ]
        },
        {
          "output_type": "stream",
          "name": "stdout",
          "text": [
            "\n",
            "kNN closest:  Размер обеспечения исполнения контракта 10.00% Порядок обеспечения исполнения контракта, требования к обеспечению.\n",
            "Actual:  Размер обеспечения исполнения контракта 10.00%\n",
            "\n"
          ]
        },
        {
          "output_type": "stream",
          "name": "stderr",
          "text": [
            "100%|██████████| 18/18 [00:00<00:00, 1905.54it/s]\n"
          ]
        },
        {
          "output_type": "stream",
          "name": "stdout",
          "text": [
            "\n",
            "kNN closest:  Способ обеспечения исполнения контракта, срок действия независимой гарантии определяются участником закупки, с которым заключается контракт, самостоятельно.\n",
            "Actual:  Размер обеспечения исполнения контракта 10.00%\n",
            "\n"
          ]
        },
        {
          "output_type": "stream",
          "name": "stderr",
          "text": [
            "100%|██████████| 24/24 [00:00<00:00, 1829.88it/s]\n"
          ]
        },
        {
          "output_type": "stream",
          "name": "stdout",
          "text": [
            "\n",
            "kNN closest:  Контракт заключается после предоставления участником закупки, с которым заключается контракт, обеспечения исполнения контракта в соответствии с требованиями статьи 96 Федерального закона от 05.04.2013 № 44-ФЗ «О контрактной системе в сфере закупок товаров, работ, услуг для обеспечения государственных и муниципальных нужд».\n",
            "Actual:  Размер обеспечения исполнения контракта 10.00%\n",
            "\n"
          ]
        },
        {
          "output_type": "stream",
          "name": "stderr",
          "text": [
            "100%|██████████| 29/29 [00:00<00:00, 2312.10it/s]\n"
          ]
        },
        {
          "output_type": "stream",
          "name": "stdout",
          "text": [
            "\n",
            "kNN closest:  7.4. Размер обеспечения исполнения контракта устанавливается в размере 5 (пять) процентов от цены, по которой заключается контракт и составляет _________ (____________) рубля __ копейки.\n",
            "Actual:  Размер обеспечения исполнения контракта устанавливается в размере 5 (пять) процентов от цены, по которой заключается контракт и составляет ___\n",
            "\n"
          ]
        },
        {
          "output_type": "stream",
          "name": "stderr",
          "text": [
            "100%|██████████| 22/22 [00:00<00:00, 1864.81it/s]\n"
          ]
        },
        {
          "output_type": "stream",
          "name": "stdout",
          "text": [
            "\n",
            "kNN closest:  Контракта установлено в размере 149,58, эквивалентном 0,50 % от начальной (максимальной) цены контракта.[footnoteRef:16].\n",
            "Actual:  Размер обеспечение исполнения контракта устанавливается от 0,5 % до 30 % начальной (максимальной) цены контракта\n",
            "\n"
          ]
        },
        {
          "output_type": "stream",
          "name": "stderr",
          "text": [
            "100%|██████████| 22/22 [00:00<00:00, 2008.59it/s]\n"
          ]
        },
        {
          "output_type": "stream",
          "name": "stdout",
          "text": [
            "\n",
            "kNN closest:  Контракта установлено в размере 212,18, эквивалентном 0,50 % от начальной (максимальной) цены контракта.[footnoteRef:16].\n",
            "Actual:  Размер обеспечение исполнения контракта устанавливается от 0,5 % до 30 % начальной (максимальной) цены контракта\n",
            "\n"
          ]
        },
        {
          "output_type": "stream",
          "name": "stderr",
          "text": [
            "100%|██████████| 23/23 [00:00<00:00, 1520.32it/s]\n"
          ]
        },
        {
          "output_type": "stream",
          "name": "stdout",
          "text": [
            "\n",
            "kNN closest:  Контракта установлено в размере 87,61, эквивалентном 0,50 % от начальной (максимальной) цены контракта.[footnoteRef:16].\n",
            "Actual:  Размер обеспечение исполнения контракта устанавливается от 0,5 % до 30 % начальной (максимальной) цены контракта\n",
            "\n"
          ]
        },
        {
          "output_type": "stream",
          "name": "stderr",
          "text": [
            "100%|██████████| 23/23 [00:00<00:00, 1931.16it/s]"
          ]
        },
        {
          "output_type": "stream",
          "name": "stdout",
          "text": [
            "\n",
            "kNN closest:  Контракта установлено в размере 153,30, эквивалентном 0,50 % от начальной (максимальной) цены контракта.[footnoteRef:16].\n",
            "Actual:  Размер обеспечение исполнения контракта устанавливается от 0,5 % до 30 % начальной (максимальной) цены контракта\n",
            "\n"
          ]
        },
        {
          "output_type": "stream",
          "name": "stderr",
          "text": [
            "\n"
          ]
        }
      ]
    },
    {
      "cell_type": "markdown",
      "source": [
        "# QA"
      ],
      "metadata": {
        "id": "fwI2RL-Yl9V5"
      }
    },
    {
      "cell_type": "code",
      "source": [
        "!pip install -q transformers"
      ],
      "metadata": {
        "colab": {
          "base_uri": "https://localhost:8080/"
        },
        "id": "286mo6D-aI-A",
        "outputId": "210c5b84-0aee-4682-e985-ea6766559b90"
      },
      "execution_count": null,
      "outputs": [
        {
          "output_type": "stream",
          "name": "stdout",
          "text": [
            "\u001b[2K     \u001b[90m━━━━━━━━━━━━━━━━━━━━━━━━━━━━━━━━━━━━━━━━\u001b[0m \u001b[32m6.8/6.8 MB\u001b[0m \u001b[31m51.3 MB/s\u001b[0m eta \u001b[36m0:00:00\u001b[0m\n",
            "\u001b[2K     \u001b[90m━━━━━━━━━━━━━━━━━━━━━━━━━━━━━━━━━━━━━━━━\u001b[0m \u001b[32m7.8/7.8 MB\u001b[0m \u001b[31m71.4 MB/s\u001b[0m eta \u001b[36m0:00:00\u001b[0m\n",
            "\u001b[2K     \u001b[90m━━━━━━━━━━━━━━━━━━━━━━━━━━━━━━━━━━━━━━\u001b[0m \u001b[32m200.1/200.1 KB\u001b[0m \u001b[31m21.7 MB/s\u001b[0m eta \u001b[36m0:00:00\u001b[0m\n",
            "\u001b[?25h"
          ]
        }
      ]
    },
    {
      "cell_type": "code",
      "source": [
        "import torch"
      ],
      "metadata": {
        "id": "J405FhBseMZp"
      },
      "execution_count": null,
      "outputs": []
    },
    {
      "cell_type": "code",
      "source": [
        "from transformers import AutoTokenizer, AutoModelForQuestionAnswering\n",
        "\n",
        "\n",
        "tokenizer = AutoTokenizer.from_pretrained(\"timpal0l/mdeberta-v3-base-squad2\")\n",
        "model = AutoModelForQuestionAnswering.from_pretrained(\"timpal0l/mdeberta-v3-base-squad2\")"
      ],
      "metadata": {
        "id": "kp0LQLF1eN9M"
      },
      "execution_count": null,
      "outputs": []
    },
    {
      "cell_type": "code",
      "execution_count": null,
      "metadata": {
        "id": "me4Tj4e_aAH3"
      },
      "outputs": [],
      "source": [
        "from transformers import GPT2Tokenizer, T5ForConditionalGeneration\n",
        "\n",
        "\n",
        "\n",
        "tokenizer = GPT2Tokenizer.from_pretrained('ai-forever/FRED-T5-large',eos_token='</s>')\n",
        "model = T5ForConditionalGeneration.from_pretrained('ai-forever/FRED-T5-large')"
      ]
    },
    {
      "cell_type": "code",
      "source": [
        "from transformers import AutoTokenizer, AutoModelForQuestionAnswering\n",
        "\n",
        "tokenizer = AutoTokenizer.from_pretrained(\"AndrewChar/model-QA-5-epoch-RU\")\n",
        "model = AutoModelForQuestionAnswering.from_pretrained(\"AndrewChar/model-QA-5-epoch-RU\", from_tf=True)"
      ],
      "metadata": {
        "colab": {
          "base_uri": "https://localhost:8080/",
          "height": 142,
          "referenced_widgets": [
            "9399207e4ae446caab5ee633124dfc24",
            "efc12466caa249f2a8352f8a21714f6c",
            "ff967dfe675444e18e6d90a7184b00a2",
            "81ca4977de4a4ff0be07335a64bfdb4a",
            "5c2723a3049e4071a333b49c6794cc24",
            "dc6597e7a53d465ca87ec170cd90cca7",
            "c8b9663a58d64e6fb22d08f993fe8f42",
            "5d55788bbe3b4ea09e9acce6680e7440",
            "4fb19b7823c8440ebd133b9f874de496",
            "0f15b737bfd44875996ea8e181174f85",
            "f690232d995647299a1a7962427a3a48"
          ]
        },
        "id": "ed1giY29faIc",
        "outputId": "58066f00-484f-4559-cee7-08413c202ee1"
      },
      "execution_count": null,
      "outputs": [
        {
          "output_type": "display_data",
          "data": {
            "text/plain": [
              "Downloading tf_model.h5:   0%|          | 0.00/539M [00:00<?, ?B/s]"
            ],
            "application/vnd.jupyter.widget-view+json": {
              "version_major": 2,
              "version_minor": 0,
              "model_id": "9399207e4ae446caab5ee633124dfc24"
            }
          },
          "metadata": {}
        },
        {
          "output_type": "stream",
          "name": "stderr",
          "text": [
            "All TF 2.0 model weights were used when initializing DistilBertForQuestionAnswering.\n",
            "\n",
            "All the weights of DistilBertForQuestionAnswering were initialized from the TF 2.0 model.\n",
            "If your task is similar to the task the model of the checkpoint was trained on, you can already use DistilBertForQuestionAnswering for predictions without further training.\n"
          ]
        }
      ]
    },
    {
      "cell_type": "code",
      "source": [
        "from transformers import AutoTokenizer, AutoModelForQuestionAnswering\n",
        "\n",
        "tokenizer = AutoTokenizer.from_pretrained(\"AlexKay/xlm-roberta-large-qa-multilingual-finedtuned-ru\")\n",
        "\n",
        "model = AutoModelForQuestionAnswering.from_pretrained(\"AlexKay/xlm-roberta-large-qa-multilingual-finedtuned-ru\")"
      ],
      "metadata": {
        "colab": {
          "base_uri": "https://localhost:8080/",
          "height": 209,
          "referenced_widgets": [
            "a857c317d05b4cce965a433c1f991475",
            "50f77ab730184acc8f5e16cf3c02ae5c",
            "7574463724cc42378375b372f15f4f1f",
            "635c471cf93e48689c37f654d4a8e1e0",
            "0ec3866d83324f1bb4cd61dbfdfae071",
            "30c563ddce7e404ebf0fa24da3d02041",
            "6797155be2684e82bc6a6a52ed2d11b9",
            "ccaf1f84b395432b9ae065022292cdf0",
            "d74fb03543ea4f009c57e9618398b3a0",
            "09f709a48d544fd185cfffad9c787b41",
            "ff3cad3477ca49a6808479c257414552",
            "95d96fa262be4929a6f85807bb9dbc6d",
            "42adcbf313d3401eb1a33d1c4460f112",
            "d49cd22b72e747d994cea97f5bb48e51",
            "4269f834d44248f1b236ae7e0016d677",
            "6715a0f5820243a6a3cad4510f8f9be9",
            "ca36148a14744019a1e4e5b62c62094f",
            "9e74fa491d3540a2bc3d586b29a1655d",
            "0529615aaa604a599c8fafe4c7f43120",
            "f019a5a09e1949d0b2b7cad83c393b9d",
            "8e5a294162464b6ab834099058c0c7c8",
            "a04902911547462d8625ecd6161c36aa",
            "488dbd8a1f6f404b8c5f23f4b0c6960b",
            "6b4501dfc8b64122bca6288c115eeaf4",
            "634c503ff22247ee8397cca87a6dd326",
            "8904f8d9b92f460389aa8e728d4da435",
            "9ebb92dde12542679fc694b7117a30a2",
            "6a6ce5238fad4aa4b1590b44835000a4",
            "ee3913434a5b4dc9b0275af7c3c14d2f",
            "1251178dc4f9458ab7c97ad3c34ed95d",
            "c4e65bd2aee241da8cdb037456939885",
            "28f2d9a557914a3bb127961ce23953f8",
            "2a541266a2024d9dac5f1b9a58cf69cc",
            "095ee6561fd44ebd8be6728bff2324ac",
            "0a17aaac5f5842f3947a3e2a161ed3ec",
            "3ee8fc739b8c46f58a46fe5373ed2a9d",
            "c6d02e90509e4226a5e9f0ee701da719",
            "8452814397304c4ab9c1099a094cd0b5",
            "1942228dd5324e7eb7ac7c53941d4610",
            "3d9fa6a1ff624a5b8328b9ed31717b80",
            "cec26a1c9dd64964afdf90a2a618b6b3",
            "6b5af9dfd4c6439cbf6c97a6c01667b9",
            "12f6e5ccaad54f5691920f52f37798ab",
            "48961d9dcf9c43a6b48f4bc4867a15aa",
            "fb44845c21874274b97e31d92684aa29",
            "44787912719a4d6398db2b13b2512045",
            "17378eded27a44fa84f0d5facd67fde3",
            "493ff8ddd94c45d9aa6c327951270d73",
            "2373c6c42ece476095da0779cce234c0",
            "6219d06868ba48ae806ee8d110e96a99",
            "516b97851e974f15ba96ddc054e9778d",
            "8561cd3f4eea4846a2e60214bb2790c7",
            "f63dc0badf6c4fb28338d0f0c811c4c3",
            "c37500dedde349daa506c4eea6a3e241",
            "ebdf8db9d11249f8bdfc15265ba0e835",
            "428b5d45057d44f4bdcb4d7e20aff985",
            "3fa6d175bd1f484c97aafe899d518b17",
            "f75acdbfe86844b894e56fdc2a575105",
            "cafffce0154f4cd6a3c313e80434266c",
            "4d30a531d4844e1ca21833baae562160",
            "e551fc6967a4400cb47437f17f6a2fbc",
            "b7b8dbc88faf41729bbc4370eb6f6243",
            "e9a2ba60d0d04494ba1b7cb2d5de395c",
            "3e7e930a1a5d4b7fa1e8da271bdfee9a",
            "0e68e9e03e08456f94542670ff8755c4",
            "3a2f858dd84b4ddaa5d8d942ff5012b4"
          ]
        },
        "id": "RUr1ezOhz6dy",
        "outputId": "03957a71-4422-46b5-c5c2-8db7d1ef1977"
      },
      "execution_count": null,
      "outputs": [
        {
          "output_type": "display_data",
          "data": {
            "text/plain": [
              "Downloading (…)okenizer_config.json:   0%|          | 0.00/516 [00:00<?, ?B/s]"
            ],
            "application/vnd.jupyter.widget-view+json": {
              "version_major": 2,
              "version_minor": 0,
              "model_id": "a857c317d05b4cce965a433c1f991475"
            }
          },
          "metadata": {}
        },
        {
          "output_type": "display_data",
          "data": {
            "text/plain": [
              "Downloading (…)lve/main/config.json:   0%|          | 0.00/781 [00:00<?, ?B/s]"
            ],
            "application/vnd.jupyter.widget-view+json": {
              "version_major": 2,
              "version_minor": 0,
              "model_id": "95d96fa262be4929a6f85807bb9dbc6d"
            }
          },
          "metadata": {}
        },
        {
          "output_type": "display_data",
          "data": {
            "text/plain": [
              "Downloading (…)tencepiece.bpe.model:   0%|          | 0.00/5.07M [00:00<?, ?B/s]"
            ],
            "application/vnd.jupyter.widget-view+json": {
              "version_major": 2,
              "version_minor": 0,
              "model_id": "488dbd8a1f6f404b8c5f23f4b0c6960b"
            }
          },
          "metadata": {}
        },
        {
          "output_type": "display_data",
          "data": {
            "text/plain": [
              "Downloading (…)/main/tokenizer.json:   0%|          | 0.00/9.10M [00:00<?, ?B/s]"
            ],
            "application/vnd.jupyter.widget-view+json": {
              "version_major": 2,
              "version_minor": 0,
              "model_id": "095ee6561fd44ebd8be6728bff2324ac"
            }
          },
          "metadata": {}
        },
        {
          "output_type": "display_data",
          "data": {
            "text/plain": [
              "Downloading (…)cial_tokens_map.json:   0%|          | 0.00/150 [00:00<?, ?B/s]"
            ],
            "application/vnd.jupyter.widget-view+json": {
              "version_major": 2,
              "version_minor": 0,
              "model_id": "fb44845c21874274b97e31d92684aa29"
            }
          },
          "metadata": {}
        },
        {
          "output_type": "display_data",
          "data": {
            "text/plain": [
              "Downloading pytorch_model.bin:   0%|          | 0.00/2.24G [00:00<?, ?B/s]"
            ],
            "application/vnd.jupyter.widget-view+json": {
              "version_major": 2,
              "version_minor": 0,
              "model_id": "428b5d45057d44f4bdcb4d7e20aff985"
            }
          },
          "metadata": {}
        }
      ]
    },
    {
      "cell_type": "code",
      "source": [
        "sample = train[1110]\n",
        "sample"
      ],
      "metadata": {
        "colab": {
          "base_uri": "https://localhost:8080/"
        },
        "id": "C25PJddGbFie",
        "outputId": "7e5886f3-52db-4430-ad09-26508c285cad"
      },
      "execution_count": null,
      "outputs": [
        {
          "output_type": "execute_result",
          "data": {
            "text/plain": [
              "{'id': 947961169,\n",
              " 'text': 'Извещение о проведении электронного аукциона для закупки №0133300020022000149 Общая информация Номер извещения 0133300020022000149 Наименование объекта закупки Компьютеры и периферийное оборудование (покупка компьютерного оборудования) Способ определения поставщика (подрядчика, исполнителя) Электронный аукцион но. При этом срок действия независимой гарантии должен превышать предусмотренный контрактом срок исполнения обязательств, которые должны быть обеспечены такой независимой гарантией, не менее чем на один месяц, в том числе в случае его изменения в соответствии со статьей 95 Федерального закона № 44-ФЗ. Платежные реквизиты \"Номер расчётного счёта\" 40102810645370000025 \"Номер лицевого счёта\" 05333021560 \"БИК\" 012406500 \"Наименование кредитной организации\" ОТДЕЛЕНИЕ ИВАНОВСКОГО БАНКА РОССИИ//УФК ПО ИВАНОВСКОЙ ОБЛАСТИ \"Номер корреспондентского счета\" 03232643246070003300 Требования к гарантии качества товара, работы, услуги Требуется гарантия качества товара, работы, услуги Да Информация о требованиях к гарантийному обслуживанию товара Требования к гарантии производителя товара Срок, на который предоставляется гарантия Гарантийный срок на поставляемый Товар составляет не менее 1 года с момента его передачи. Обеспечение гарантийных обязательств Требуется обеспечение гарантийных обязательств Размер обеспечения гарантийных обязательств 6156.00 Российский рубль Порядок предоставления обеспечения гарантийных обязательств, требования к обеспечению Исполнение гарантийных обязательств по контракту может обеспечиваться предоставлением независимой гарантии, соответствующей требованиям Федерального закона от 05.04.2013 №44-ФЗ, или внесением денежных средств на указанный заказчиком счет, на котором в соответствии с законодательством РФ учитываются операции со средствами, поступающими заказчику. Способ обеспечения исполнения гарантийных обязательств, срок действия независимой гарантии определяются в соответствии с требованиями Федерального закона от 05.04.2013 №44-ФЗ участником закупки, с которым заключается контракт, самостоятельно. При этом срок действия независимой гарантии должен превышать предусмотренный контрактом срок исполнения гарантийных обязательств, которые должны быть обеспечены такой независимой гарантией, не менее чем на один месяц, в том числе в случае его изменения в соответствии со статьей 95 Федерального закона от 05.04.2013 №44-ФЗ Платежные реквизиты «Номер расчетного счета» 40102810645370000025 «Номер лицевого счета» 05333021560 «БИК» 012406500 \"Наименование кредитной организации\" ОТДЕЛЕНИЕ ИВАНОВСКОГО БАНКА РОССИИ//УФК ПО ИВАНОВСКОЙ ОБЛАСТИ \"Номер корреспондентского счета\" 03232643246070003300 Информация о банковском и',\n",
              " 'label': 'обеспечение гарантийных обязательств',\n",
              " 'extracted_part': {'text': ['Размер обеспечения гарантийных обязательств 6156.00 Российский рубль'],\n",
              "  'answer_start': [1312],\n",
              "  'answer_end': [1380]}}"
            ]
          },
          "metadata": {},
          "execution_count": 99
        }
      ]
    },
    {
      "cell_type": "code",
      "source": [
        "question, text = f'Пункт про {sample[\"label\"]}', sample['text']\n",
        "question"
      ],
      "metadata": {
        "colab": {
          "base_uri": "https://localhost:8080/",
          "height": 36
        },
        "id": "FzuI0ozhaanW",
        "outputId": "ebe5e051-c3b9-4dd5-c1dd-fdc5fa993689"
      },
      "execution_count": null,
      "outputs": [
        {
          "output_type": "execute_result",
          "data": {
            "text/plain": [
              "'Пункт про обеспечение гарантийных обязательств'"
            ],
            "application/vnd.google.colaboratory.intrinsic+json": {
              "type": "string"
            }
          },
          "metadata": {},
          "execution_count": 100
        }
      ]
    },
    {
      "cell_type": "code",
      "source": [
        "inputs = tokenizer(question, text, return_tensors=\"pt\", max_length=512, padding='max_length', truncation=True)\n",
        "with torch.no_grad():\n",
        "    outputs = model(**inputs)\n",
        "\n",
        "answer_start_index = outputs.start_logits.argmax()\n",
        "answer_end_index = outputs.end_logits.argmax()\n",
        "\n",
        "predict_answer_tokens = inputs.input_ids[0, answer_start_index : answer_end_index + 1]\n",
        "print(answer_start_index, answer_end_index)"
      ],
      "metadata": {
        "colab": {
          "base_uri": "https://localhost:8080/"
        },
        "id": "uVUiG531a_dK",
        "outputId": "9a61ceda-cc10-4f9d-de25-40aadf3a5b1d"
      },
      "execution_count": null,
      "outputs": [
        {
          "output_type": "stream",
          "name": "stdout",
          "text": [
            "tensor(310) tensor(312)\n"
          ]
        }
      ]
    },
    {
      "cell_type": "code",
      "source": [
        "tokenizer.decode(predict_answer_tokens)"
      ],
      "metadata": {
        "colab": {
          "base_uri": "https://localhost:8080/",
          "height": 36
        },
        "id": "-lKy7F2Czo8m",
        "outputId": "ab828c44-bfe9-45e2-a78d-a9258b264e6b"
      },
      "execution_count": null,
      "outputs": [
        {
          "output_type": "execute_result",
          "data": {
            "text/plain": [
              "'Требуется'"
            ],
            "application/vnd.google.colaboratory.intrinsic+json": {
              "type": "string"
            }
          },
          "metadata": {},
          "execution_count": 102
        }
      ]
    },
    {
      "cell_type": "code",
      "source": [],
      "metadata": {
        "id": "V-xjg4Lb0uMv"
      },
      "execution_count": null,
      "outputs": []
    }
  ]
}