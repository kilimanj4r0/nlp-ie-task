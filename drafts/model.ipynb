{
 "cells": [
  {
   "cell_type": "code",
   "execution_count": 1,
   "metadata": {
    "ExecuteTime": {
     "end_time": "2023-04-06T21:12:56.664626Z",
     "start_time": "2023-04-06T21:12:56.531697Z"
    }
   },
   "outputs": [],
   "source": [
    "DATASET_DIR = 'dataset'\n",
    "LABELS = {\n",
    "    'обеспечение исполнения контракта': 0,\n",
    "    'обеспечение гарантийных обязательств': 1\n",
    "}"
   ]
  },
  {
   "cell_type": "code",
   "execution_count": 2,
   "metadata": {
    "ExecuteTime": {
     "end_time": "2023-04-06T21:12:56.665625Z",
     "start_time": "2023-04-06T21:12:56.545676Z"
    }
   },
   "outputs": [],
   "source": [
    "import json\n",
    "import pandas as pd\n",
    "import spacy\n",
    "from tqdm import tqdm\n",
    "import re\n",
    "from spacy import displacy"
   ]
  },
  {
   "cell_type": "code",
   "execution_count": 3,
   "metadata": {
    "ExecuteTime": {
     "end_time": "2023-04-06T21:12:56.688627Z",
     "start_time": "2023-04-06T21:12:56.565627Z"
    }
   },
   "outputs": [],
   "source": [
    "with open(f'{DATASET_DIR}/train.json', 'rb') as f:\n",
    "    train = json.load(f)"
   ]
  },
  {
   "cell_type": "code",
   "execution_count": 4,
   "metadata": {
    "ExecuteTime": {
     "end_time": "2023-04-06T21:12:56.761625Z",
     "start_time": "2023-04-06T21:12:56.686629Z"
    }
   },
   "outputs": [
    {
     "data": {
      "text/plain": [
       "1799"
      ]
     },
     "execution_count": 4,
     "metadata": {},
     "output_type": "execute_result"
    }
   ],
   "source": [
    "len(train)"
   ]
  },
  {
   "cell_type": "code",
   "execution_count": null,
   "metadata": {
    "ExecuteTime": {
     "end_time": "2023-04-06T21:21:18.886143Z",
     "start_time": "2023-04-06T21:21:15.252132Z"
    },
    "collapsed": false
   },
   "outputs": [],
   "source": [
    "nlp = spacy.load('ru_core_news_lg')"
   ]
  },
  {
   "cell_type": "code",
   "execution_count": 7,
   "metadata": {
    "ExecuteTime": {
     "end_time": "2023-04-06T21:12:56.763626Z",
     "start_time": "2023-04-06T21:12:56.725628Z"
    }
   },
   "outputs": [
    {
     "data": {
      "text/plain": [
       "{'id': 926039184,\n",
       " 'text': 'Государственная корпорацИя по атомной энергии «росатом» акционерное общество «НИИЭФА им. Д.В. Ефремова» (АО «НИИЭФА») УТВЕРЖДАЮ: Генеральный директор АО «НИИЭФА» ____________________ Е.А. Сакадынец «____» ______________ 2022г. ИЗВЕЩЕНИЕ О ПРОВЕДЕНИИ ЗАПРОСА КОТИРОВОК (ЗАКУПОЧНАЯ ДОКУМЕНТАЦИЯ) открытый запрос котировок в электронной форме на право заключения договора на поставку переносного рентгеновского аппарата направленного действия ICM SITE-X D1802 Извещение размещено на официальных сайтах http://www.zakupki.gov.ru, http://zakupki.rosatom.ru и http://roseltorg.ru/ от «07» сентября 2022 года № 220907/0459/___ Санкт-Петербург, 2022г. СОДЕРЖАНИЕ ИЗВЕЩЕНИЕ О ПРОВЕДЕНИИ ЗАПРОСА КОТИРОВОК 1 1. ИЗВЕЩЕНИЕ О ПРОВЕДЕНИИ ЗАКУПКИ 3 ЧАСТЬ 1 9 2. ТРЕБОВАНИЯ. ДОКУМЕНТЫ. СОСТАВ ЗАЯВКИ НА УЧАСТИЕ В ЗАКУПКЕ. 9 2.1. ТРЕБОВАНИЯ. ДОКУМЕНТЫ, ПОДТВЕРЖДАЮЩИЕ СООТВЕТСТВИЕ УСТАНОВЛЕННЫМ ТРЕБОВАНИЯМ. 9 2.1.1. Требования к участникам закупки 9 2.1.2. Требования к продукции 12 2.2. СОСТАВ ЗАЯВКИ НА УЧАСТИЕ В З ЧАСТЬ 4 Проект договора, который будет заключен по результатам закупки, приведен в виде отдельного файла в формате Word.',\n",
       " 'label': 'обеспечение гарантийных обязательств',\n",
       " 'extracted_part': {'text': [''], 'answer_start': [0], 'answer_end': [0]}}"
      ]
     },
     "execution_count": 7,
     "metadata": {},
     "output_type": "execute_result"
    }
   ],
   "source": [
    "train[1798]"
   ]
  },
  {
   "cell_type": "code",
   "execution_count": 8,
   "metadata": {
    "ExecuteTime": {
     "end_time": "2023-04-06T21:12:56.922626Z",
     "start_time": "2023-04-06T21:12:56.747625Z"
    }
   },
   "outputs": [
    {
     "data": {
      "text/plain": [
       "{'id': 809436509,\n",
       " 'text': 'Извещение о проведении открытого конкурса в электронной форме для закупки №0328300032822000806 Общая информация Номер извещения 0328300032822000806 Наименование объекта закупки Поставка продуктов питания Способ определения поставщика (подрядчика, исполнителя) Открытый конкурс в бль Порядок внесения денежных средств в качестве обеспечения заявки на участие в закупке, а также условия гарантии Обеспечение заявки на участие в закупке может предоставляться участником закупки в виде денежных средств или независимой гарантии, предусмотренной ст. 45 Федерального закона № 44-ФЗ. Выбор способа обеспечения осуществляется участником закупки самостоятельно. Срок действия независимой гарантии должен составлять не менее месяца с даты окончания срока подачи заявок. Обеспечение заявки на участие в закупке предоставляется в соответствии с ч. 5 ст. 44 Федерального закона № 44-ФЗ. Условия независимой гарантии в соответствии со ст. 45 Федерального закона № 44-ФЗ. Реквизиты счета в соответствии с п.16 ч. 1 ст. 42 Закона № 44-ФЗ \"Номер расчётного счёта\" 00000000000000000000 \"Номер лицевого счёта\" См. прилагаемые документы \"БИК\" 000000000 \"Наименование кредитной организации\" \"Номер корреспондентского счета\" Обеспечение исполнения контракта Требуется обеспечение исполнения контракта Размер обеспечения исполнения контракта 6593.25 Российский рубль Порядок обеспечения исполнения контракта, требования к обеспечению Исполнение контракта, гарантийные обязательства могут обеспечиваться предоставлением независимой гарантии, соответствующей требованиям ст. 45 Федерального закона № 44-ФЗ, или внесением денежных средств на указанный заказчиком счет, на котором в соответствии с законодательством Российской Федерации учитываются операции со средствами, поступающими заказчику. Способ обеспечения исполнения контракта, гарантийных обязательств, срок действия независимой гарантии определяются в соответствии с требованиями Федерального закона № 44-ФЗ участником закупки, с которым заключается контракт, самостоятельно. При этом срок действия независимой гарантии должен превышать предусмотренный контрактом срок исполнения обязательств, которые должны быть обеспечены такой независимой гарантией, не менее чем на один месяц, в том числе в случае его изменения в соответствии со ст. 95 Федерального закона № 44-ФЗ. Порядок предоставления и требования о Информация и документы, подтверждающие соответствие участников закупки дополнительным требованиям: 1) исполненный договор; 2) акт приемки оказанных услуг и (или) поставленных товаров, подтверждающий цену оказанных услуг и (или) поставленных товаров 4',\n",
       " 'label': 'обеспечение исполнения контракта',\n",
       " 'extracted_part': {'text': ['Размер обеспечения исполнения контракта 6593.25 Российский рубль'],\n",
       "  'answer_start': [1279],\n",
       "  'answer_end': [1343]}}"
      ]
     },
     "execution_count": 8,
     "metadata": {},
     "output_type": "execute_result"
    }
   ],
   "source": [
    "train[0]"
   ]
  },
  {
   "cell_type": "code",
   "execution_count": 9,
   "metadata": {
    "ExecuteTime": {
     "end_time": "2023-04-06T21:44:08.384346Z",
     "start_time": "2023-04-06T21:44:08.363342Z"
    },
    "collapsed": false
   },
   "outputs": [
    {
     "data": {
      "text/plain": [
       "'Извещение о проведении открытого конкурса в электронной форме для закупки №0328300032822000806 Общая информация Номер извещения 0328300032822000806 Наименование объекта закупки Поставка продуктов питания Способ определения поставщика (подрядчика, исполнителя) Открытый конкурс в бль Порядок внесения денежных средств в качестве обеспечения заявки на участие в закупке, а также условия гарантии Обеспечение заявки на участие в закупке может предоставляться участником закупки в виде денежных средств или независимой гарантии, предусмотренной ст. 45 Федерального закона № 44-ФЗ. Выбор способа обеспечения осуществляется участником закупки самостоятельно. Срок действия независимой гарантии должен составлять не менее месяца с даты окончания срока подачи заявок. Обеспечение заявки на участие в закупке предоставляется в соответствии с ч. 5 ст. 44 Федерального закона № 44-ФЗ. Условия независимой гарантии в соответствии со ст. 45 Федерального закона № 44-ФЗ. Реквизиты счета в соответствии с п.16 ч. 1 ст. 42 Закона № 44-ФЗ \"Номер расчётного счёта\" 00000000000000000000 \"Номер лицевого счёта\" См. прилагаемые документы \"БИК\" 000000000 \"Наименование кредитной организации\" \"Номер корреспондентского счета\" Обеспечение исполнения контракта Требуется обеспечение исполнения контракта Размер обеспечения исполнения контракта 6593.25 Российский рубль Порядок обеспечения исполнения контракта, требования к обеспечению Исполнение контракта, гарантийные обязательства могут обеспечиваться предоставлением независимой гарантии, соответствующей требованиям ст. 45 Федерального закона № 44-ФЗ, или внесением денежных средств на указанный заказчиком счет, на котором в соответствии с законодательством Российской Федерации учитываются операции со средствами, поступающими заказчику. Способ обеспечения исполнения контракта, гарантийных обязательств, срок действия независимой гарантии определяются в соответствии с требованиями Федерального закона № 44-ФЗ участником закупки, с которым заключается контракт, самостоятельно. При этом срок действия независимой гарантии должен превышать предусмотренный контрактом срок исполнения обязательств, которые должны быть обеспечены такой независимой гарантией, не менее чем на один месяц, в том числе в случае его изменения в соответствии со ст. 95 Федерального закона № 44-ФЗ. Порядок предоставления и требования о Информация и документы, подтверждающие соответствие участников закупки дополнительным требованиям: 1) исполненный договор; 2) акт приемки оказанных услуг и (или) поставленных товаров, подтверждающий цену оказанных услуг и (или) поставленных товаров 4'"
      ]
     },
     "execution_count": 9,
     "metadata": {},
     "output_type": "execute_result"
    }
   ],
   "source": [
    "text = train[0]['text']\n",
    "text"
   ]
  },
  {
   "cell_type": "code",
   "execution_count": 48,
   "metadata": {},
   "outputs": [],
   "source": [
    "ext_text = train[0]['extracted_part']['text'][0]\n",
    "ext_text_start = train[0]['extracted_part']['answer_start'][0]\n",
    "ext_text_end = train[0]['extracted_part']['answer_end'][0]"
   ]
  },
  {
   "attachments": {},
   "cell_type": "markdown",
   "metadata": {
    "collapsed": false
   },
   "source": [
    "# Предобработка\n",
    "\n",
    "Идеи:\n",
    "- Токенизировать текст по словам. Представить каждое слово эмбеддингом. Получим лист эмбеддингов. Трансформировать индексы верных ответов (начало и конец слова) в индексы эмбеддингов. Или трансформировать в эмбеддинги вычленненый текст и сравнивать с эмбеддингами текста, чтобы найти место в тексте.\n",
    "- Токенизировать текст по предложениям. Представить каждое предложение эмбеддингом.\n",
    "\n",
    "\n",
    "Для решения данной задачи можно использовать модель семантической сегментации текста на основе машинного обучения. Одним из популярных подходов для решения этой задачи является Sequence Labeling, где каждому слову в тексте присваивается определенный тег в соответствии с его ролью в предложении.\n",
    "\n",
    "Для решения данной задачи можно использовать модель на основе Conditional Random Fields (CRF). CRF - это статистическая модель, которая используется для прогнозирования последовательностей меток на основе входных данных. Модель учитывает контекст слова и может определить, какой кусок текста в документе соответствует заданному пункту.\n",
    "\n",
    "В качестве подготовительного этапа, необходимо разметить текст документа, то есть определить метки для каждого слова в тексте, которые соответствуют заданным пунктам. Например, можно использовать BIO-схему разметки (Begin, Inside, Outside), где B соответствует началу куска текста, I - внутренней части куска, а O - всем остальным словам в тексте.\n",
    "\n",
    "После разметки текста можно обучить модель CRF на этом наборе данных. Обученная модель будет принимать на вход текст документа и название одного из двух пунктов, и возвращать соответствующий кусочек текста из документа. Для удобства использования, можно реализовать данную модель в виде API-сервиса, который будет принимать запросы на получение кусков текста и возвращать соответствующий результат."
   ]
  },
  {
   "attachments": {},
   "cell_type": "markdown",
   "metadata": {},
   "source": [
    "# Question Answering"
   ]
  },
  {
   "cell_type": "code",
   "execution_count": 2,
   "metadata": {},
   "outputs": [
    {
     "data": {
      "application/vnd.jupyter.widget-view+json": {
       "model_id": "907991899016426f9c7653a6afb55a76",
       "version_major": 2,
       "version_minor": 0
      },
      "text/plain": [
       "Downloading (…)lve/main/config.json:   0%|          | 0.00/879 [00:00<?, ?B/s]"
      ]
     },
     "metadata": {},
     "output_type": "display_data"
    },
    {
     "ename": "ValueError",
     "evalue": "Could not load model timpal0l/mdeberta-v3-base-squad2 with any of the following classes: (<class 'transformers.models.auto.modeling_tf_auto.TFAutoModelForQuestionAnswering'>, <class 'transformers.models.deberta_v2.modeling_tf_deberta_v2.TFDebertaV2ForQuestionAnswering'>).",
     "output_type": "error",
     "traceback": [
      "\u001b[1;31m---------------------------------------------------------------------------\u001b[0m",
      "\u001b[1;31mValueError\u001b[0m                                Traceback (most recent call last)",
      "\u001b[1;32md:\\PROGRAMMING\\Kontur NLP task 2023\\NLP-IE-task\\model.ipynb Cell 12\u001b[0m in \u001b[0;36m<cell line: 4>\u001b[1;34m()\u001b[0m\n\u001b[0;32m      <a href='vscode-notebook-cell:/d%3A/PROGRAMMING/Kontur%20NLP%20task%202023/NLP-IE-task/model.ipynb#X30sZmlsZQ%3D%3D?line=0'>1</a>\u001b[0m \u001b[39mfrom\u001b[39;00m \u001b[39mtransformers\u001b[39;00m \u001b[39mimport\u001b[39;00m pipeline\n\u001b[0;32m      <a href='vscode-notebook-cell:/d%3A/PROGRAMMING/Kontur%20NLP%20task%202023/NLP-IE-task/model.ipynb#X30sZmlsZQ%3D%3D?line=2'>3</a>\u001b[0m model_checkpoint \u001b[39m=\u001b[39m \u001b[39m'\u001b[39m\u001b[39mtimpal0l/mdeberta-v3-base-squad2\u001b[39m\u001b[39m'\u001b[39m\n\u001b[1;32m----> <a href='vscode-notebook-cell:/d%3A/PROGRAMMING/Kontur%20NLP%20task%202023/NLP-IE-task/model.ipynb#X30sZmlsZQ%3D%3D?line=3'>4</a>\u001b[0m question_answerer \u001b[39m=\u001b[39m pipeline(\u001b[39m\"\u001b[39;49m\u001b[39mquestion-answering\u001b[39;49m\u001b[39m\"\u001b[39;49m, model\u001b[39m=\u001b[39;49mmodel_checkpoint)\n",
      "File \u001b[1;32m~\\AppData\\Roaming\\Python\\Python39\\site-packages\\transformers\\pipelines\\__init__.py:776\u001b[0m, in \u001b[0;36mpipeline\u001b[1;34m(task, model, config, tokenizer, feature_extractor, image_processor, framework, revision, use_fast, use_auth_token, device, device_map, torch_dtype, trust_remote_code, model_kwargs, pipeline_class, **kwargs)\u001b[0m\n\u001b[0;32m    772\u001b[0m \u001b[39m# Infer the framework from the model\u001b[39;00m\n\u001b[0;32m    773\u001b[0m \u001b[39m# Forced if framework already defined, inferred if it's None\u001b[39;00m\n\u001b[0;32m    774\u001b[0m \u001b[39m# Will load the correct model if possible\u001b[39;00m\n\u001b[0;32m    775\u001b[0m model_classes \u001b[39m=\u001b[39m {\u001b[39m\"\u001b[39m\u001b[39mtf\u001b[39m\u001b[39m\"\u001b[39m: targeted_task[\u001b[39m\"\u001b[39m\u001b[39mtf\u001b[39m\u001b[39m\"\u001b[39m], \u001b[39m\"\u001b[39m\u001b[39mpt\u001b[39m\u001b[39m\"\u001b[39m: targeted_task[\u001b[39m\"\u001b[39m\u001b[39mpt\u001b[39m\u001b[39m\"\u001b[39m]}\n\u001b[1;32m--> 776\u001b[0m framework, model \u001b[39m=\u001b[39m infer_framework_load_model(\n\u001b[0;32m    777\u001b[0m     model,\n\u001b[0;32m    778\u001b[0m     model_classes\u001b[39m=\u001b[39mmodel_classes,\n\u001b[0;32m    779\u001b[0m     config\u001b[39m=\u001b[39mconfig,\n\u001b[0;32m    780\u001b[0m     framework\u001b[39m=\u001b[39mframework,\n\u001b[0;32m    781\u001b[0m     task\u001b[39m=\u001b[39mtask,\n\u001b[0;32m    782\u001b[0m     \u001b[39m*\u001b[39m\u001b[39m*\u001b[39mhub_kwargs,\n\u001b[0;32m    783\u001b[0m     \u001b[39m*\u001b[39m\u001b[39m*\u001b[39mmodel_kwargs,\n\u001b[0;32m    784\u001b[0m )\n\u001b[0;32m    786\u001b[0m model_config \u001b[39m=\u001b[39m model\u001b[39m.\u001b[39mconfig\n\u001b[0;32m    787\u001b[0m hub_kwargs[\u001b[39m\"\u001b[39m\u001b[39m_commit_hash\u001b[39m\u001b[39m\"\u001b[39m] \u001b[39m=\u001b[39m model\u001b[39m.\u001b[39mconfig\u001b[39m.\u001b[39m_commit_hash\n",
      "File \u001b[1;32m~\\AppData\\Roaming\\Python\\Python39\\site-packages\\transformers\\pipelines\\base.py:271\u001b[0m, in \u001b[0;36minfer_framework_load_model\u001b[1;34m(model, config, model_classes, task, framework, **model_kwargs)\u001b[0m\n\u001b[0;32m    268\u001b[0m             \u001b[39mcontinue\u001b[39;00m\n\u001b[0;32m    270\u001b[0m     \u001b[39mif\u001b[39;00m \u001b[39misinstance\u001b[39m(model, \u001b[39mstr\u001b[39m):\n\u001b[1;32m--> 271\u001b[0m         \u001b[39mraise\u001b[39;00m \u001b[39mValueError\u001b[39;00m(\u001b[39mf\u001b[39m\u001b[39m\"\u001b[39m\u001b[39mCould not load model \u001b[39m\u001b[39m{\u001b[39;00mmodel\u001b[39m}\u001b[39;00m\u001b[39m with any of the following classes: \u001b[39m\u001b[39m{\u001b[39;00mclass_tuple\u001b[39m}\u001b[39;00m\u001b[39m.\u001b[39m\u001b[39m\"\u001b[39m)\n\u001b[0;32m    273\u001b[0m framework \u001b[39m=\u001b[39m \u001b[39m\"\u001b[39m\u001b[39mtf\u001b[39m\u001b[39m\"\u001b[39m \u001b[39mif\u001b[39;00m \u001b[39m\"\u001b[39m\u001b[39mkeras.engine.training.Model\u001b[39m\u001b[39m\"\u001b[39m \u001b[39min\u001b[39;00m \u001b[39mstr\u001b[39m(inspect\u001b[39m.\u001b[39mgetmro(model\u001b[39m.\u001b[39m\u001b[39m__class__\u001b[39m)) \u001b[39melse\u001b[39;00m \u001b[39m\"\u001b[39m\u001b[39mpt\u001b[39m\u001b[39m\"\u001b[39m\n\u001b[0;32m    274\u001b[0m \u001b[39mreturn\u001b[39;00m framework, model\n",
      "\u001b[1;31mValueError\u001b[0m: Could not load model timpal0l/mdeberta-v3-base-squad2 with any of the following classes: (<class 'transformers.models.auto.modeling_tf_auto.TFAutoModelForQuestionAnswering'>, <class 'transformers.models.deberta_v2.modeling_tf_deberta_v2.TFDebertaV2ForQuestionAnswering'>)."
     ]
    }
   ],
   "source": [
    "from transformers import pipeline\n",
    "\n",
    "model_checkpoint = 'timpal0l/mdeberta-v3-base-squad2'\n",
    "question_answerer = pipeline(\"question-answering\", model=model_checkpoint)\n",
    "\n",
    "# context = \"\"\"\n",
    "# 🤗 Transformers is backed by the three most popular deep learning libraries — Jax, PyTorch and TensorFlow — with a seamless integration\n",
    "# between them. It's straightforward to train your models with one before loading them for inference with the other.\n",
    "# \"\"\"\n",
    "# question = \"Which deep learning libraries back 🤗 Transformers?\"\n",
    "# question_answerer(question=question, context=context)"
   ]
  },
  {
   "cell_type": "code",
   "execution_count": 3,
   "metadata": {},
   "outputs": [
    {
     "data": {
      "application/vnd.jupyter.widget-view+json": {
       "model_id": "ad6d17840c6d4007b5e9e4e1c4d23a94",
       "version_major": 2,
       "version_minor": 0
      },
      "text/plain": [
       "Downloading (…)okenizer_config.json:   0%|          | 0.00/453 [00:00<?, ?B/s]"
      ]
     },
     "metadata": {},
     "output_type": "display_data"
    },
    {
     "data": {
      "application/vnd.jupyter.widget-view+json": {
       "model_id": "855c7cd2a19141b195a90be0973a6752",
       "version_major": 2,
       "version_minor": 0
      },
      "text/plain": [
       "Downloading tokenizer.json:   0%|          | 0.00/16.3M [00:00<?, ?B/s]"
      ]
     },
     "metadata": {},
     "output_type": "display_data"
    },
    {
     "data": {
      "application/vnd.jupyter.widget-view+json": {
       "model_id": "d1db0d3bdc9a4376ae7b40baf622516c",
       "version_major": 2,
       "version_minor": 0
      },
      "text/plain": [
       "Downloading (…)in/added_tokens.json:   0%|          | 0.00/23.0 [00:00<?, ?B/s]"
      ]
     },
     "metadata": {},
     "output_type": "display_data"
    },
    {
     "data": {
      "application/vnd.jupyter.widget-view+json": {
       "model_id": "f383434ad2b4420aa82b7d85dfb3c944",
       "version_major": 2,
       "version_minor": 0
      },
      "text/plain": [
       "Downloading (…)cial_tokens_map.json:   0%|          | 0.00/173 [00:00<?, ?B/s]"
      ]
     },
     "metadata": {},
     "output_type": "display_data"
    },
    {
     "ename": "ImportError",
     "evalue": "\nAutoModelForQuestionAnswering requires the PyTorch library but it was not found in your environment.\nHowever, we were able to find a TensorFlow installation. TensorFlow classes begin\nwith \"TF\", but are otherwise identically named to our PyTorch classes. This\nmeans that the TF equivalent of the class you tried to import would be \"TFAutoModelForQuestionAnswering\".\nIf you want to use TensorFlow, please use TF classes instead!\n\nIf you really do want to use PyTorch please go to\nhttps://pytorch.org/get-started/locally/ and follow the instructions that\nmatch your environment.\n",
     "output_type": "error",
     "traceback": [
      "\u001b[1;31m---------------------------------------------------------------------------\u001b[0m",
      "\u001b[1;31mImportError\u001b[0m                               Traceback (most recent call last)",
      "\u001b[1;32md:\\PROGRAMMING\\Kontur NLP task 2023\\NLP-IE-task\\model.ipynb Cell 13\u001b[0m in \u001b[0;36m<cell line: 5>\u001b[1;34m()\u001b[0m\n\u001b[0;32m      <a href='vscode-notebook-cell:/d%3A/PROGRAMMING/Kontur%20NLP%20task%202023/NLP-IE-task/model.ipynb#X31sZmlsZQ%3D%3D?line=0'>1</a>\u001b[0m \u001b[39mfrom\u001b[39;00m \u001b[39mtransformers\u001b[39;00m \u001b[39mimport\u001b[39;00m AutoTokenizer, AutoModelForQuestionAnswering\n\u001b[0;32m      <a href='vscode-notebook-cell:/d%3A/PROGRAMMING/Kontur%20NLP%20task%202023/NLP-IE-task/model.ipynb#X31sZmlsZQ%3D%3D?line=2'>3</a>\u001b[0m tokenizer \u001b[39m=\u001b[39m AutoTokenizer\u001b[39m.\u001b[39mfrom_pretrained(\u001b[39m\"\u001b[39m\u001b[39mtimpal0l/mdeberta-v3-base-squad2\u001b[39m\u001b[39m\"\u001b[39m)\n\u001b[1;32m----> <a href='vscode-notebook-cell:/d%3A/PROGRAMMING/Kontur%20NLP%20task%202023/NLP-IE-task/model.ipynb#X31sZmlsZQ%3D%3D?line=4'>5</a>\u001b[0m model \u001b[39m=\u001b[39m AutoModelForQuestionAnswering\u001b[39m.\u001b[39;49mfrom_pretrained(\u001b[39m\"\u001b[39m\u001b[39mtimpal0l/mdeberta-v3-base-squad2\u001b[39m\u001b[39m\"\u001b[39m)\n",
      "File \u001b[1;32m~\\AppData\\Roaming\\Python\\Python39\\site-packages\\transformers\\utils\\import_utils.py:1066\u001b[0m, in \u001b[0;36mDummyObject.__getattribute__\u001b[1;34m(cls, key)\u001b[0m\n\u001b[0;32m   1064\u001b[0m \u001b[39mif\u001b[39;00m key\u001b[39m.\u001b[39mstartswith(\u001b[39m\"\u001b[39m\u001b[39m_\u001b[39m\u001b[39m\"\u001b[39m) \u001b[39mand\u001b[39;00m key \u001b[39m!=\u001b[39m \u001b[39m\"\u001b[39m\u001b[39m_from_config\u001b[39m\u001b[39m\"\u001b[39m:\n\u001b[0;32m   1065\u001b[0m     \u001b[39mreturn\u001b[39;00m \u001b[39msuper\u001b[39m()\u001b[39m.\u001b[39m\u001b[39m__getattribute__\u001b[39m(key)\n\u001b[1;32m-> 1066\u001b[0m requires_backends(\u001b[39mcls\u001b[39;49m, \u001b[39mcls\u001b[39;49m\u001b[39m.\u001b[39;49m_backends)\n",
      "File \u001b[1;32m~\\AppData\\Roaming\\Python\\Python39\\site-packages\\transformers\\utils\\import_utils.py:1045\u001b[0m, in \u001b[0;36mrequires_backends\u001b[1;34m(obj, backends)\u001b[0m\n\u001b[0;32m   1043\u001b[0m \u001b[39m# Raise an error for users who might not realize that classes without \"TF\" are torch-only\u001b[39;00m\n\u001b[0;32m   1044\u001b[0m \u001b[39mif\u001b[39;00m \u001b[39m\"\u001b[39m\u001b[39mtorch\u001b[39m\u001b[39m\"\u001b[39m \u001b[39min\u001b[39;00m backends \u001b[39mand\u001b[39;00m \u001b[39m\"\u001b[39m\u001b[39mtf\u001b[39m\u001b[39m\"\u001b[39m \u001b[39mnot\u001b[39;00m \u001b[39min\u001b[39;00m backends \u001b[39mand\u001b[39;00m \u001b[39mnot\u001b[39;00m is_torch_available() \u001b[39mand\u001b[39;00m is_tf_available():\n\u001b[1;32m-> 1045\u001b[0m     \u001b[39mraise\u001b[39;00m \u001b[39mImportError\u001b[39;00m(PYTORCH_IMPORT_ERROR_WITH_TF\u001b[39m.\u001b[39mformat(name))\n\u001b[0;32m   1047\u001b[0m \u001b[39m# Raise the inverse error for PyTorch users trying to load TF classes\u001b[39;00m\n\u001b[0;32m   1048\u001b[0m \u001b[39mif\u001b[39;00m \u001b[39m\"\u001b[39m\u001b[39mtf\u001b[39m\u001b[39m\"\u001b[39m \u001b[39min\u001b[39;00m backends \u001b[39mand\u001b[39;00m \u001b[39m\"\u001b[39m\u001b[39mtorch\u001b[39m\u001b[39m\"\u001b[39m \u001b[39mnot\u001b[39;00m \u001b[39min\u001b[39;00m backends \u001b[39mand\u001b[39;00m is_torch_available() \u001b[39mand\u001b[39;00m \u001b[39mnot\u001b[39;00m is_tf_available():\n",
      "\u001b[1;31mImportError\u001b[0m: \nAutoModelForQuestionAnswering requires the PyTorch library but it was not found in your environment.\nHowever, we were able to find a TensorFlow installation. TensorFlow classes begin\nwith \"TF\", but are otherwise identically named to our PyTorch classes. This\nmeans that the TF equivalent of the class you tried to import would be \"TFAutoModelForQuestionAnswering\".\nIf you want to use TensorFlow, please use TF classes instead!\n\nIf you really do want to use PyTorch please go to\nhttps://pytorch.org/get-started/locally/ and follow the instructions that\nmatch your environment.\n"
     ]
    }
   ],
   "source": [
    "from transformers import AutoTokenizer, AutoModelForQuestionAnswering\n",
    "\n",
    "tokenizer = AutoTokenizer.from_pretrained(\"timpal0l/mdeberta-v3-base-squad2\")\n",
    "\n",
    "model = AutoModelForQuestionAnswering.from_pretrained(\"timpal0l/mdeberta-v3-base-squad2\")"
   ]
  },
  {
   "cell_type": "code",
   "execution_count": null,
   "metadata": {},
   "outputs": [],
   "source": []
  },
  {
   "attachments": {},
   "cell_type": "markdown",
   "metadata": {},
   "source": [
    "# Sequence Labeling"
   ]
  },
  {
   "attachments": {},
   "cell_type": "markdown",
   "metadata": {},
   "source": [
    "## Token Bounding"
   ]
  },
  {
   "cell_type": "code",
   "execution_count": 61,
   "metadata": {},
   "outputs": [],
   "source": [
    "special_tokens = ['<label>', '</label>']\n",
    "tokens_length = len(special_tokens[0]) + len(special_tokens[1])"
   ]
  },
  {
   "cell_type": "code",
   "execution_count": 62,
   "metadata": {},
   "outputs": [],
   "source": [
    "def labelize_text_with_tokens(text, start, end):\n",
    "    start_token, end_token = special_tokens\n",
    "    return f'{text[:start]}{start_token} {text[start:end]} {end_token}{text[end:]}'"
   ]
  },
  {
   "cell_type": "code",
   "execution_count": 92,
   "metadata": {},
   "outputs": [],
   "source": [
    "for el in tqdm(train):\n",
    "    text = el['text']\n",
    "    ext_text_start = el['extracted_part']['answer_start'][0]\n",
    "    ext_text_end = el['extracted_part']['answer_end'][0]\n",
    "    el['labelized_text'] = labelize_text_with_tokens(text, ext_text_start, ext_text_end)\n",
    "    el['label_id'] = LABELS[el['label']]"
   ]
  },
  {
   "cell_type": "code",
   "execution_count": 93,
   "metadata": {},
   "outputs": [
    {
     "data": {
      "text/plain": [
       "{'id': 809436509,\n",
       " 'text': 'Извещение о проведении открытого конкурса в электронной форме для закупки №0328300032822000806 Общая информация Номер извещения 0328300032822000806 Наименование объекта закупки Поставка продуктов питания Способ определения поставщика (подрядчика, исполнителя) Открытый конкурс в бль Порядок внесения денежных средств в качестве обеспечения заявки на участие в закупке, а также условия гарантии Обеспечение заявки на участие в закупке может предоставляться участником закупки в виде денежных средств или независимой гарантии, предусмотренной ст. 45 Федерального закона № 44-ФЗ. Выбор способа обеспечения осуществляется участником закупки самостоятельно. Срок действия независимой гарантии должен составлять не менее месяца с даты окончания срока подачи заявок. Обеспечение заявки на участие в закупке предоставляется в соответствии с ч. 5 ст. 44 Федерального закона № 44-ФЗ. Условия независимой гарантии в соответствии со ст. 45 Федерального закона № 44-ФЗ. Реквизиты счета в соответствии с п.16 ч. 1 ст. 42 Закона № 44-ФЗ \"Номер расчётного счёта\" 00000000000000000000 \"Номер лицевого счёта\" См. прилагаемые документы \"БИК\" 000000000 \"Наименование кредитной организации\" \"Номер корреспондентского счета\" Обеспечение исполнения контракта Требуется обеспечение исполнения контракта Размер обеспечения исполнения контракта 6593.25 Российский рубль Порядок обеспечения исполнения контракта, требования к обеспечению Исполнение контракта, гарантийные обязательства могут обеспечиваться предоставлением независимой гарантии, соответствующей требованиям ст. 45 Федерального закона № 44-ФЗ, или внесением денежных средств на указанный заказчиком счет, на котором в соответствии с законодательством Российской Федерации учитываются операции со средствами, поступающими заказчику. Способ обеспечения исполнения контракта, гарантийных обязательств, срок действия независимой гарантии определяются в соответствии с требованиями Федерального закона № 44-ФЗ участником закупки, с которым заключается контракт, самостоятельно. При этом срок действия независимой гарантии должен превышать предусмотренный контрактом срок исполнения обязательств, которые должны быть обеспечены такой независимой гарантией, не менее чем на один месяц, в том числе в случае его изменения в соответствии со ст. 95 Федерального закона № 44-ФЗ. Порядок предоставления и требования о Информация и документы, подтверждающие соответствие участников закупки дополнительным требованиям: 1) исполненный договор; 2) акт приемки оказанных услуг и (или) поставленных товаров, подтверждающий цену оказанных услуг и (или) поставленных товаров 4',\n",
       " 'label': 'обеспечение исполнения контракта',\n",
       " 'extracted_part': {'text': ['Размер обеспечения исполнения контракта 6593.25 Российский рубль'],\n",
       "  'answer_start': [1279],\n",
       "  'answer_end': [1343]},\n",
       " 'labelized_text': 'Извещение о проведении открытого конкурса в электронной форме для закупки №0328300032822000806 Общая информация Номер извещения 0328300032822000806 Наименование объекта закупки Поставка продуктов питания Способ определения поставщика (подрядчика, исполнителя) Открытый конкурс в бль Порядок внесения денежных средств в качестве обеспечения заявки на участие в закупке, а также условия гарантии Обеспечение заявки на участие в закупке может предоставляться участником закупки в виде денежных средств или независимой гарантии, предусмотренной ст. 45 Федерального закона № 44-ФЗ. Выбор способа обеспечения осуществляется участником закупки самостоятельно. Срок действия независимой гарантии должен составлять не менее месяца с даты окончания срока подачи заявок. Обеспечение заявки на участие в закупке предоставляется в соответствии с ч. 5 ст. 44 Федерального закона № 44-ФЗ. Условия независимой гарантии в соответствии со ст. 45 Федерального закона № 44-ФЗ. Реквизиты счета в соответствии с п.16 ч. 1 ст. 42 Закона № 44-ФЗ \"Номер расчётного счёта\" 00000000000000000000 \"Номер лицевого счёта\" См. прилагаемые документы \"БИК\" 000000000 \"Наименование кредитной организации\" \"Номер корреспондентского счета\" Обеспечение исполнения контракта Требуется обеспечение исполнения контракта <label> Размер обеспечения исполнения контракта 6593.25 Российский рубль </label> Порядок обеспечения исполнения контракта, требования к обеспечению Исполнение контракта, гарантийные обязательства могут обеспечиваться предоставлением независимой гарантии, соответствующей требованиям ст. 45 Федерального закона № 44-ФЗ, или внесением денежных средств на указанный заказчиком счет, на котором в соответствии с законодательством Российской Федерации учитываются операции со средствами, поступающими заказчику. Способ обеспечения исполнения контракта, гарантийных обязательств, срок действия независимой гарантии определяются в соответствии с требованиями Федерального закона № 44-ФЗ участником закупки, с которым заключается контракт, самостоятельно. При этом срок действия независимой гарантии должен превышать предусмотренный контрактом срок исполнения обязательств, которые должны быть обеспечены такой независимой гарантией, не менее чем на один месяц, в том числе в случае его изменения в соответствии со ст. 95 Федерального закона № 44-ФЗ. Порядок предоставления и требования о Информация и документы, подтверждающие соответствие участников закупки дополнительным требованиям: 1) исполненный договор; 2) акт приемки оказанных услуг и (или) поставленных товаров, подтверждающий цену оказанных услуг и (или) поставленных товаров 4',\n",
       " 'label_id': 0}"
      ]
     },
     "execution_count": 93,
     "metadata": {},
     "output_type": "execute_result"
    }
   ],
   "source": [
    "train[0]"
   ]
  },
  {
   "cell_type": "code",
   "execution_count": 65,
   "metadata": {},
   "outputs": [
    {
     "name": "stderr",
     "output_type": "stream",
     "text": [
      "Special tokens have been added in the vocabulary, make sure the associated word embeddings are fine-tuned or trained.\n"
     ]
    }
   ],
   "source": [
    "from transformers import GPT2Tokenizer \n",
    "\n",
    "\n",
    "tokenizer = GPT2Tokenizer.from_pretrained('ai-forever/FRED-T5-1.7B', additional_special_tokens=special_tokens)\n",
    "\n",
    "def get_tokenized(text, tokenizer):\n",
    "    return tokenizer.encode(text, add_special_tokens=special_tokens)\n",
    "                            # , return_tensors='pt', max_length=512, truncation=True, padding='max_length')"
   ]
  },
  {
   "cell_type": "code",
   "execution_count": 105,
   "metadata": {},
   "outputs": [
    {
     "name": "stderr",
     "output_type": "stream",
     "text": [
      "100%|██████████| 1799/1799 [00:07<00:00, 236.78it/s]\n"
     ]
    }
   ],
   "source": [
    "post_train = []  # TODO: to tensor\n",
    "\n",
    "special_tokens_ids = tokenizer.encode(special_tokens)\n",
    "\n",
    "for el in tqdm(train):\n",
    "    elem = get_tokenized(el['labelized_text'], tokenizer)\n",
    "    input_elem = elem.copy()\n",
    "    input_elem.remove(special_tokens_ids[0])\n",
    "    input_elem.remove(special_tokens_ids[1])\n",
    "    # TODO: elem to tensor\n",
    "    post_train.append({\n",
    "        'input_ids': input_elem,\n",
    "        'label_id': el['label_id'],\n",
    "        'start_idx': elem.index(special_tokens_ids[0]),\n",
    "        'end_idx': elem.index(special_tokens_ids[1]),\n",
    "    })"
   ]
  },
  {
   "cell_type": "code",
   "execution_count": 109,
   "metadata": {},
   "outputs": [
    {
     "data": {
      "text/plain": [
       "{'input_ids': [6014,\n",
       "  546,\n",
       "  2357,\n",
       "  290,\n",
       "  13957,\n",
       "  32879,\n",
       "  42110,\n",
       "  541,\n",
       "  37634,\n",
       "  4855,\n",
       "  754,\n",
       "  11275,\n",
       "  4003,\n",
       "  646,\n",
       "  9247,\n",
       "  22,\n",
       "  4003,\n",
       "  3420,\n",
       "  6695,\n",
       "  21779,\n",
       "  5825,\n",
       "  40428,\n",
       "  21352,\n",
       "  2005,\n",
       "  13530,\n",
       "  11275,\n",
       "  4003,\n",
       "  646,\n",
       "  9247,\n",
       "  22,\n",
       "  4003,\n",
       "  3420,\n",
       "  6695,\n",
       "  640,\n",
       "  10022,\n",
       "  1700,\n",
       "  11407,\n",
       "  37634,\n",
       "  824,\n",
       "  12217,\n",
       "  8320,\n",
       "  2632,\n",
       "  473,\n",
       "  730,\n",
       "  1674,\n",
       "  7719,\n",
       "  879,\n",
       "  5172,\n",
       "  3405,\n",
       "  18,\n",
       "  8914,\n",
       "  18,\n",
       "  2692,\n",
       "  2479,\n",
       "  13,\n",
       "  23865,\n",
       "  14296,\n",
       "  46510,\n",
       "  473,\n",
       "  1567,\n",
       "  989,\n",
       "  4173,\n",
       "  16,\n",
       "  43343,\n",
       "  13,\n",
       "  33038,\n",
       "  451,\n",
       "  29272,\n",
       "  640,\n",
       "  10022,\n",
       "  1700,\n",
       "  11410,\n",
       "  28802,\n",
       "  8623,\n",
       "  411,\n",
       "  33534,\n",
       "  391,\n",
       "  1009,\n",
       "  16,\n",
       "  3043,\n",
       "  17937,\n",
       "  282,\n",
       "  16866,\n",
       "  20419,\n",
       "  6829,\n",
       "  18,\n",
       "  38380,\n",
       "  1357,\n",
       "  21999,\n",
       "  10074,\n",
       "  6929,\n",
       "  9996,\n",
       "  2682,\n",
       "  17788,\n",
       "  4076,\n",
       "  16,\n",
       "  7316,\n",
       "  1378,\n",
       "  608,\n",
       "  1295,\n",
       "  309,\n",
       "  6802,\n",
       "  778,\n",
       "  2948,\n",
       "  16,\n",
       "  20690,\n",
       "  2733,\n",
       "  25406,\n",
       "  282,\n",
       "  20172,\n",
       "  16,\n",
       "  25848,\n",
       "  547,\n",
       "  282,\n",
       "  17597,\n",
       "  16,\n",
       "  5063,\n",
       "  1545,\n",
       "  28043,\n",
       "  1518,\n",
       "  4433,\n",
       "  4551,\n",
       "  473,\n",
       "  26024,\n",
       "  376,\n",
       "  16851,\n",
       "  2948,\n",
       "  814,\n",
       "  391,\n",
       "  1009,\n",
       "  2879,\n",
       "  24488,\n",
       "  13979,\n",
       "  5628,\n",
       "  7640,\n",
       "  727,\n",
       "  1295,\n",
       "  4855,\n",
       "  13908,\n",
       "  16,\n",
       "  46319,\n",
       "  13979,\n",
       "  294,\n",
       "  391,\n",
       "  1009,\n",
       "  16,\n",
       "  3004,\n",
       "  6036,\n",
       "  541,\n",
       "  9623,\n",
       "  727,\n",
       "  1295,\n",
       "  4855,\n",
       "  13908,\n",
       "  16,\n",
       "  5063,\n",
       "  3250,\n",
       "  34915,\n",
       "  16917,\n",
       "  4433,\n",
       "  4551,\n",
       "  360,\n",
       "  1488,\n",
       "  4120,\n",
       "  3734,\n",
       "  779,\n",
       "  4855,\n",
       "  3417,\n",
       "  25,\n",
       "  18,\n",
       "  23775,\n",
       "  3193,\n",
       "  391,\n",
       "  1009,\n",
       "  1943,\n",
       "  25705,\n",
       "  322,\n",
       "  2619,\n",
       "  5196,\n",
       "  281,\n",
       "  18390,\n",
       "  9512,\n",
       "  12783,\n",
       "  17696,\n",
       "  28759,\n",
       "  18,\n",
       "  15822,\n",
       "  4248,\n",
       "  5782,\n",
       "  12056,\n",
       "  282,\n",
       "  5118,\n",
       "  281,\n",
       "  279,\n",
       "  18,\n",
       "  3902,\n",
       "  327,\n",
       "  18,\n",
       "  430,\n",
       "  422,\n",
       "  18,\n",
       "  13323,\n",
       "  24162,\n",
       "  4855,\n",
       "  13908,\n",
       "  17,\n",
       "  22226,\n",
       "  458,\n",
       "  682,\n",
       "  15152,\n",
       "  50226,\n",
       "  434,\n",
       "  6791,\n",
       "  16666,\n",
       "  6,\n",
       "  2239,\n",
       "  8976,\n",
       "  5493,\n",
       "  12770,\n",
       "  6654,\n",
       "  4003,\n",
       "  34929,\n",
       "  25,\n",
       "  2225,\n",
       "  458,\n",
       "  682,\n",
       "  15152,\n",
       "  520,\n",
       "  1275,\n",
       "  346,\n",
       "  6791,\n",
       "  16666,\n",
       "  6,\n",
       "  13693,\n",
       "  13539,\n",
       "  2932,\n",
       "  8081,\n",
       "  28,\n",
       "  458,\n",
       "  983,\n",
       "  14174,\n",
       "  6,\n",
       "  13530,\n",
       "  25,\n",
       "  2932,\n",
       "  29,\n",
       "  646,\n",
       "  21,\n",
       "  458,\n",
       "  2176,\n",
       "  10022,\n",
       "  1700,\n",
       "  38081,\n",
       "  3320,\n",
       "  6,\n",
       "  27409,\n",
       "  19254,\n",
       "  1098,\n",
       "  23612,\n",
       "  415,\n",
       "  780,\n",
       "  4395,\n",
       "  504,\n",
       "  4742,\n",
       "  6308,\n",
       "  42234,\n",
       "  14803,\n",
       "  4943,\n",
       "  1140,\n",
       "  35755,\n",
       "  334,\n",
       "  14652,\n",
       "  680,\n",
       "  1767,\n",
       "  336,\n",
       "  18,\n",
       "  14652,\n",
       "  328,\n",
       "  458,\n",
       "  682,\n",
       "  15152,\n",
       "  16937,\n",
       "  718,\n",
       "  12056,\n",
       "  6,\n",
       "  1032,\n",
       "  754,\n",
       "  20,\n",
       "  6862,\n",
       "  2479,\n",
       "  5493,\n",
       "  25,\n",
       "  7703,\n",
       "  646,\n",
       "  2562,\n",
       "  8400,\n",
       "  38380,\n",
       "  1357,\n",
       "  13144,\n",
       "  20194,\n",
       "  42521,\n",
       "  484,\n",
       "  12846,\n",
       "  13144,\n",
       "  20194,\n",
       "  8407,\n",
       "  788,\n",
       "  8274,\n",
       "  13144,\n",
       "  20194,\n",
       "  1533,\n",
       "  18,\n",
       "  646,\n",
       "  9,\n",
       "  672,\n",
       "  25551,\n",
       "  8274,\n",
       "  13144,\n",
       "  20194,\n",
       "  16,\n",
       "  5693,\n",
       "  294,\n",
       "  27469,\n",
       "  608,\n",
       "  1295,\n",
       "  4933,\n",
       "  281,\n",
       "  3043,\n",
       "  9125,\n",
       "  309,\n",
       "  11410,\n",
       "  14597,\n",
       "  5524,\n",
       "  5540,\n",
       "  5115,\n",
       "  20194,\n",
       "  16,\n",
       "  3043,\n",
       "  2285,\n",
       "  8501,\n",
       "  16,\n",
       "  14790,\n",
       "  1815,\n",
       "  26596,\n",
       "  8274,\n",
       "  13144,\n",
       "  20194,\n",
       "  282,\n",
       "  5118,\n",
       "  477,\n",
       "  28095,\n",
       "  27365,\n",
       "  16,\n",
       "  281,\n",
       "  9752,\n",
       "  32037,\n",
       "  5628,\n",
       "  10608,\n",
       "  727,\n",
       "  1295,\n",
       "  4855,\n",
       "  13908,\n",
       "  18,\n",
       "  30348,\n",
       "  303,\n",
       "  3162,\n",
       "  20194,\n",
       "  895,\n",
       "  5186,\n",
       "  1954,\n",
       "  5657,\n",
       "  3021,\n",
       "  391,\n",
       "  1009,\n",
       "  16,\n",
       "  25801,\n",
       "  13979,\n",
       "  5628,\n",
       "  7640,\n",
       "  727,\n",
       "  1295,\n",
       "  4855,\n",
       "  13908,\n",
       "  16,\n",
       "  46319,\n",
       "  13979,\n",
       "  294,\n",
       "  391,\n",
       "  1009,\n",
       "  16,\n",
       "  3004,\n",
       "  6036,\n",
       "  541,\n",
       "  9623,\n",
       "  727,\n",
       "  1295,\n",
       "  4855,\n",
       "  13908,\n",
       "  16,\n",
       "  5063,\n",
       "  3250,\n",
       "  34915,\n",
       "  16917,\n",
       "  4433,\n",
       "  4551,\n",
       "  360,\n",
       "  1488,\n",
       "  4120,\n",
       "  3734,\n",
       "  779,\n",
       "  4855,\n",
       "  3417,\n",
       "  25,\n",
       "  16,\n",
       "  670,\n",
       "  7316,\n",
       "  979,\n",
       "  17788,\n",
       "  4076,\n",
       "  309,\n",
       "  31636,\n",
       "  3504,\n",
       "  9364,\n",
       "  2948,\n",
       "  16,\n",
       "  309,\n",
       "  2114,\n",
       "  282,\n",
       "  5118,\n",
       "  281,\n",
       "  17818,\n",
       "  4433,\n",
       "  4551,\n",
       "  3744,\n",
       "  5808,\n",
       "  6053,\n",
       "  477,\n",
       "  13409,\n",
       "  16,\n",
       "  7845,\n",
       "  4857,\n",
       "  3504,\n",
       "  16854,\n",
       "  18,\n",
       "  23865,\n",
       "  8274,\n",
       "  13144,\n",
       "  20194,\n",
       "  16,\n",
       "  3017,\n",
       "  3193,\n",
       "  391,\n",
       "  1009,\n",
       "  37823,\n",
       "  282,\n",
       "  5118,\n",
       "  281,\n",
       "  26005,\n",
       "  727,\n",
       "  1295,\n",
       "  4855,\n",
       "  13908,\n",
       "  608,\n",
       "  1295,\n",
       "  16,\n",
       "  281,\n",
       "  3279,\n",
       "  9452,\n",
       "  11389,\n",
       "  16,\n",
       "  7557,\n",
       "  18,\n",
       "  967,\n",
       "  803,\n",
       "  3017,\n",
       "  3193,\n",
       "  391,\n",
       "  1009,\n",
       "  1943,\n",
       "  33996,\n",
       "  9278,\n",
       "  451,\n",
       "  6231,\n",
       "  496,\n",
       "  3017,\n",
       "  2417,\n",
       "  6698,\n",
       "  464,\n",
       "  6343,\n",
       "  38602,\n",
       "  5782,\n",
       "  478,\n",
       "  682,\n",
       "  15152,\n",
       "  8683,\n",
       "  434,\n",
       "  12056,\n",
       "  470,\n",
       "  2239,\n",
       "  8976,\n",
       "  5493,\n",
       "  12770,\n",
       "  6654,\n",
       "  4003,\n",
       "  34929,\n",
       "  25,\n",
       "  2225,\n",
       "  478,\n",
       "  682,\n",
       "  15152,\n",
       "  520,\n",
       "  1275,\n",
       "  346,\n",
       "  12056,\n",
       "  470,\n",
       "  13693,\n",
       "  13539,\n",
       "  2932,\n",
       "  8081,\n",
       "  28,\n",
       "  478,\n",
       "  983,\n",
       "  14174,\n",
       "  470,\n",
       "  13530,\n",
       "  25,\n",
       "  2932,\n",
       "  29,\n",
       "  646,\n",
       "  21,\n",
       "  458,\n",
       "  2176,\n",
       "  10022,\n",
       "  1700,\n",
       "  38081,\n",
       "  3320,\n",
       "  6,\n",
       "  27409,\n",
       "  19254,\n",
       "  1098,\n",
       "  23612,\n",
       "  415,\n",
       "  780,\n",
       "  4395,\n",
       "  504,\n",
       "  4742,\n",
       "  6308,\n",
       "  42234,\n",
       "  14803,\n",
       "  4943,\n",
       "  1140,\n",
       "  35755,\n",
       "  334,\n",
       "  14652,\n",
       "  680,\n",
       "  1767,\n",
       "  336,\n",
       "  18,\n",
       "  14652,\n",
       "  328,\n",
       "  458,\n",
       "  682,\n",
       "  15152,\n",
       "  16937,\n",
       "  718,\n",
       "  12056,\n",
       "  6,\n",
       "  1032,\n",
       "  754,\n",
       "  20,\n",
       "  6862,\n",
       "  2479,\n",
       "  5493,\n",
       "  25,\n",
       "  7703,\n",
       "  646,\n",
       "  2562,\n",
       "  8400,\n",
       "  16273,\n",
       "  290],\n",
       " 'label_id': 0,\n",
       " 'start_idx': 305,\n",
       " 'end_idx': 315}"
      ]
     },
     "execution_count": 109,
     "metadata": {},
     "output_type": "execute_result"
    }
   ],
   "source": [
    "post_train[78]"
   ]
  },
  {
   "cell_type": "code",
   "execution_count": 103,
   "metadata": {},
   "outputs": [
    {
     "name": "stdout",
     "output_type": "stream",
     "text": [
      "988 811\n",
      "890 98 730 81\n"
     ]
    }
   ],
   "source": [
    "train_0 = [el for el in post_train if el[-1] == 0]\n",
    "train_1 = [el for el in post_train if el[-1] == 1]\n",
    "print(len(train_0), len(train_1))\n",
    "\n",
    "\n",
    "val_percent = 0.1\n",
    "\n",
    "val_0 = train_0[:int(len(train_0) * val_percent)]\n",
    "val_1 = train_1[:int(len(train_1) * val_percent)]\n",
    "\n",
    "train_0 = train_0[int(len(train_0) * val_percent):]\n",
    "train_1 = train_1[int(len(train_1) * val_percent):]\n",
    "\n",
    "print(len(train_0), len(val_0), len(train_1), len(val_1))"
   ]
  }
 ],
 "metadata": {
  "kernelspec": {
   "display_name": "base",
   "language": "python",
   "name": "python3"
  },
  "language_info": {
   "codemirror_mode": {
    "name": "ipython",
    "version": 3
   },
   "file_extension": ".py",
   "mimetype": "text/x-python",
   "name": "python",
   "nbconvert_exporter": "python",
   "pygments_lexer": "ipython3",
   "version": "3.9.12"
  },
  "orig_nbformat": 4
 },
 "nbformat": 4,
 "nbformat_minor": 2
}
